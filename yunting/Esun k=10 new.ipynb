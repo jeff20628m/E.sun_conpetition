{
 "cells": [
  {
   "cell_type": "code",
   "execution_count": 448,
   "metadata": {},
   "outputs": [],
   "source": [
    "import numpy as np\n",
    "import pandas as pd\n",
    "import matplotlib.pyplot as plt\n",
    "from sklearn.preprocessing import StandardScaler\n",
    "from sklearn.model_selection import cross_val_score, train_test_split, KFold\n",
    "from sklearn.cluster import KMeans"
   ]
  },
  {
   "cell_type": "code",
   "execution_count": 2,
   "metadata": {},
   "outputs": [],
   "source": [
    "X = pd.read_csv('C:\\\\Users\\\\yunting\\\\Documents\\\\GitHub\\\\E.sun_conpetition\\\\data_set\\\\new\\\\2_combine_address_drop_parking_area\\\\X.csv')\n",
    "y = pd.read_csv('C:\\\\Users\\\\yunting\\\\Documents\\\\GitHub\\\\E.sun_conpetition\\\\data_set\\\\new\\\\ready_y.csv')"
   ]
  },
  {
   "cell_type": "code",
   "execution_count": 3,
   "metadata": {},
   "outputs": [],
   "source": [
    "sub = pd.read_csv('C:\\\\Users\\\\yunting\\\\Documents\\\\GitHub\\\\E.sun_conpetition\\\\data_set\\\\initial\\\\submit_test.csv')\n",
    "test = pd.read_csv('C:\\\\Users\\\\yunting\\\\Documents\\\\GitHub\\\\E.sun_conpetition\\\\data_set\\\\new\\\\2_combine_address_drop_parking_area\\\\testX.csv')"
   ]
  },
  {
   "cell_type": "code",
   "execution_count": 159,
   "metadata": {},
   "outputs": [],
   "source": [
    "test_o = pd.read_csv('C:\\\\Users\\\\yunting\\\\Documents\\\\GitHub\\\\E.sun_conpetition\\\\data_set\\\\initial\\\\test.csv')"
   ]
  },
  {
   "cell_type": "markdown",
   "metadata": {},
   "source": [
    "# Clustering"
   ]
  },
  {
   "cell_type": "code",
   "execution_count": 4,
   "metadata": {},
   "outputs": [],
   "source": [
    "kmeans = KMeans(n_clusters=10)"
   ]
  },
  {
   "cell_type": "code",
   "execution_count": 5,
   "metadata": {},
   "outputs": [
    {
     "data": {
      "text/plain": [
       "KMeans(algorithm='auto', copy_x=True, init='k-means++', max_iter=300,\n",
       "    n_clusters=10, n_init=10, n_jobs=None, precompute_distances='auto',\n",
       "    random_state=None, tol=0.0001, verbose=0)"
      ]
     },
     "execution_count": 5,
     "metadata": {},
     "output_type": "execute_result"
    }
   ],
   "source": [
    "kmeans.fit(X)"
   ]
  },
  {
   "cell_type": "code",
   "execution_count": 6,
   "metadata": {},
   "outputs": [],
   "source": [
    "labels = pd.DataFrame((kmeans.labels_).tolist())"
   ]
  },
  {
   "cell_type": "code",
   "execution_count": 7,
   "metadata": {},
   "outputs": [
    {
     "data": {
      "text/html": [
       "<div>\n",
       "<style scoped>\n",
       "    .dataframe tbody tr th:only-of-type {\n",
       "        vertical-align: middle;\n",
       "    }\n",
       "\n",
       "    .dataframe tbody tr th {\n",
       "        vertical-align: top;\n",
       "    }\n",
       "\n",
       "    .dataframe thead th {\n",
       "        text-align: right;\n",
       "    }\n",
       "</style>\n",
       "<table border=\"1\" class=\"dataframe\">\n",
       "  <thead>\n",
       "    <tr style=\"text-align: right;\">\n",
       "      <th></th>\n",
       "      <th>III_10</th>\n",
       "      <th>III_100</th>\n",
       "      <th>III_1000</th>\n",
       "      <th>III_10000</th>\n",
       "      <th>III_250</th>\n",
       "      <th>III_50</th>\n",
       "      <th>III_500</th>\n",
       "      <th>III_5000</th>\n",
       "      <th>III_MIN</th>\n",
       "      <th>III_index_1000</th>\n",
       "      <th>...</th>\n",
       "      <th>parking_way_2</th>\n",
       "      <th>total_floor</th>\n",
       "      <th>town_area</th>\n",
       "      <th>town_population</th>\n",
       "      <th>town_population_density</th>\n",
       "      <th>txn_dt</th>\n",
       "      <th>txn_floor</th>\n",
       "      <th>village_income_median</th>\n",
       "      <th>0</th>\n",
       "      <th>total_price</th>\n",
       "    </tr>\n",
       "  </thead>\n",
       "  <tbody>\n",
       "    <tr>\n",
       "      <th>0</th>\n",
       "      <td>0</td>\n",
       "      <td>3</td>\n",
       "      <td>91</td>\n",
       "      <td>3728</td>\n",
       "      <td>17</td>\n",
       "      <td>1</td>\n",
       "      <td>37</td>\n",
       "      <td>1861</td>\n",
       "      <td>42.635964</td>\n",
       "      <td>1</td>\n",
       "      <td>...</td>\n",
       "      <td>1</td>\n",
       "      <td>4</td>\n",
       "      <td>1.4161</td>\n",
       "      <td>24219</td>\n",
       "      <td>17103</td>\n",
       "      <td>18674</td>\n",
       "      <td>3.0</td>\n",
       "      <td>572</td>\n",
       "      <td>3</td>\n",
       "      <td>6.476038e+05</td>\n",
       "    </tr>\n",
       "    <tr>\n",
       "      <th>1</th>\n",
       "      <td>1</td>\n",
       "      <td>1</td>\n",
       "      <td>29</td>\n",
       "      <td>7380</td>\n",
       "      <td>4</td>\n",
       "      <td>1</td>\n",
       "      <td>11</td>\n",
       "      <td>2512</td>\n",
       "      <td>7.157464</td>\n",
       "      <td>1</td>\n",
       "      <td>...</td>\n",
       "      <td>1</td>\n",
       "      <td>5</td>\n",
       "      <td>23.1373</td>\n",
       "      <td>551480</td>\n",
       "      <td>23835</td>\n",
       "      <td>18800</td>\n",
       "      <td>5.0</td>\n",
       "      <td>550</td>\n",
       "      <td>4</td>\n",
       "      <td>3.321452e+06</td>\n",
       "    </tr>\n",
       "    <tr>\n",
       "      <th>2</th>\n",
       "      <td>0</td>\n",
       "      <td>1</td>\n",
       "      <td>235</td>\n",
       "      <td>7971</td>\n",
       "      <td>17</td>\n",
       "      <td>0</td>\n",
       "      <td>73</td>\n",
       "      <td>2695</td>\n",
       "      <td>86.589412</td>\n",
       "      <td>1</td>\n",
       "      <td>...</td>\n",
       "      <td>1</td>\n",
       "      <td>4</td>\n",
       "      <td>23.1373</td>\n",
       "      <td>551480</td>\n",
       "      <td>23835</td>\n",
       "      <td>19289</td>\n",
       "      <td>1.0</td>\n",
       "      <td>625</td>\n",
       "      <td>4</td>\n",
       "      <td>9.570885e+06</td>\n",
       "    </tr>\n",
       "  </tbody>\n",
       "</table>\n",
       "<p>3 rows × 4497 columns</p>\n",
       "</div>"
      ],
      "text/plain": [
       "   III_10  III_100  III_1000  III_10000  III_250  III_50  III_500  III_5000  \\\n",
       "0       0        3        91       3728       17       1       37      1861   \n",
       "1       1        1        29       7380        4       1       11      2512   \n",
       "2       0        1       235       7971       17       0       73      2695   \n",
       "\n",
       "     III_MIN  III_index_1000  ...  parking_way_2  total_floor  town_area  \\\n",
       "0  42.635964               1  ...              1            4     1.4161   \n",
       "1   7.157464               1  ...              1            5    23.1373   \n",
       "2  86.589412               1  ...              1            4    23.1373   \n",
       "\n",
       "   town_population  town_population_density  txn_dt  txn_floor  \\\n",
       "0            24219                    17103   18674        3.0   \n",
       "1           551480                    23835   18800        5.0   \n",
       "2           551480                    23835   19289        1.0   \n",
       "\n",
       "   village_income_median  0   total_price  \n",
       "0                    572  3  6.476038e+05  \n",
       "1                    550  4  3.321452e+06  \n",
       "2                    625  4  9.570885e+06  \n",
       "\n",
       "[3 rows x 4497 columns]"
      ]
     },
     "execution_count": 7,
     "metadata": {},
     "output_type": "execute_result"
    }
   ],
   "source": [
    "train_addlabels = pd.concat([X, labels, y],axis=1)\n",
    "train_addlabels.head(3)"
   ]
  },
  {
   "cell_type": "code",
   "execution_count": 164,
   "metadata": {},
   "outputs": [],
   "source": [
    "#test labels\n",
    "test_labels = kmeans.predict(test)\n",
    "test_labels = pd.DataFrame(test_labels.tolist())"
   ]
  },
  {
   "cell_type": "code",
   "execution_count": 165,
   "metadata": {},
   "outputs": [
    {
     "data": {
      "text/html": [
       "<div>\n",
       "<style scoped>\n",
       "    .dataframe tbody tr th:only-of-type {\n",
       "        vertical-align: middle;\n",
       "    }\n",
       "\n",
       "    .dataframe tbody tr th {\n",
       "        vertical-align: top;\n",
       "    }\n",
       "\n",
       "    .dataframe thead th {\n",
       "        text-align: right;\n",
       "    }\n",
       "</style>\n",
       "<table border=\"1\" class=\"dataframe\">\n",
       "  <thead>\n",
       "    <tr style=\"text-align: right;\">\n",
       "      <th></th>\n",
       "      <th>III_10</th>\n",
       "      <th>III_100</th>\n",
       "      <th>III_1000</th>\n",
       "      <th>III_10000</th>\n",
       "      <th>III_250</th>\n",
       "      <th>III_50</th>\n",
       "      <th>III_500</th>\n",
       "      <th>III_5000</th>\n",
       "      <th>III_MIN</th>\n",
       "      <th>III_index_1000</th>\n",
       "      <th>...</th>\n",
       "      <th>parking_way_2</th>\n",
       "      <th>total_floor</th>\n",
       "      <th>town_area</th>\n",
       "      <th>town_population</th>\n",
       "      <th>town_population_density</th>\n",
       "      <th>txn_dt</th>\n",
       "      <th>txn_floor</th>\n",
       "      <th>village_income_median</th>\n",
       "      <th>building_id</th>\n",
       "      <th>0</th>\n",
       "    </tr>\n",
       "  </thead>\n",
       "  <tbody>\n",
       "    <tr>\n",
       "      <th>0</th>\n",
       "      <td>0</td>\n",
       "      <td>2</td>\n",
       "      <td>57</td>\n",
       "      <td>5422</td>\n",
       "      <td>6</td>\n",
       "      <td>0</td>\n",
       "      <td>15</td>\n",
       "      <td>1277</td>\n",
       "      <td>56.238977</td>\n",
       "      <td>1</td>\n",
       "      <td>...</td>\n",
       "      <td>1</td>\n",
       "      <td>2</td>\n",
       "      <td>21.8424</td>\n",
       "      <td>122155</td>\n",
       "      <td>5593</td>\n",
       "      <td>18634</td>\n",
       "      <td>0.5</td>\n",
       "      <td>714</td>\n",
       "      <td>X5gsdTWGS3W7JJQB</td>\n",
       "      <td>9</td>\n",
       "    </tr>\n",
       "    <tr>\n",
       "      <th>1</th>\n",
       "      <td>0</td>\n",
       "      <td>1</td>\n",
       "      <td>7</td>\n",
       "      <td>1366</td>\n",
       "      <td>1</td>\n",
       "      <td>0</td>\n",
       "      <td>1</td>\n",
       "      <td>292</td>\n",
       "      <td>55.204531</td>\n",
       "      <td>1</td>\n",
       "      <td>...</td>\n",
       "      <td>1</td>\n",
       "      <td>10</td>\n",
       "      <td>191.4508</td>\n",
       "      <td>114926</td>\n",
       "      <td>600</td>\n",
       "      <td>20199</td>\n",
       "      <td>2.0</td>\n",
       "      <td>583</td>\n",
       "      <td>BTshNOJyKHnT2YIT</td>\n",
       "      <td>9</td>\n",
       "    </tr>\n",
       "    <tr>\n",
       "      <th>2</th>\n",
       "      <td>0</td>\n",
       "      <td>0</td>\n",
       "      <td>41</td>\n",
       "      <td>4480</td>\n",
       "      <td>0</td>\n",
       "      <td>0</td>\n",
       "      <td>0</td>\n",
       "      <td>1204</td>\n",
       "      <td>572.904189</td>\n",
       "      <td>1</td>\n",
       "      <td>...</td>\n",
       "      <td>1</td>\n",
       "      <td>4</td>\n",
       "      <td>62.7034</td>\n",
       "      <td>274819</td>\n",
       "      <td>4383</td>\n",
       "      <td>19769</td>\n",
       "      <td>0.5</td>\n",
       "      <td>641</td>\n",
       "      <td>dhdymr0lV8N5kZOT</td>\n",
       "      <td>2</td>\n",
       "    </tr>\n",
       "    <tr>\n",
       "      <th>3</th>\n",
       "      <td>0</td>\n",
       "      <td>9</td>\n",
       "      <td>276</td>\n",
       "      <td>10687</td>\n",
       "      <td>25</td>\n",
       "      <td>3</td>\n",
       "      <td>94</td>\n",
       "      <td>4540</td>\n",
       "      <td>47.064014</td>\n",
       "      <td>1</td>\n",
       "      <td>...</td>\n",
       "      <td>1</td>\n",
       "      <td>19</td>\n",
       "      <td>5.7138</td>\n",
       "      <td>222585</td>\n",
       "      <td>38956</td>\n",
       "      <td>20479</td>\n",
       "      <td>16.0</td>\n",
       "      <td>653</td>\n",
       "      <td>VEwyGGMcD56w5BOc</td>\n",
       "      <td>8</td>\n",
       "    </tr>\n",
       "    <tr>\n",
       "      <th>4</th>\n",
       "      <td>0</td>\n",
       "      <td>0</td>\n",
       "      <td>30</td>\n",
       "      <td>808</td>\n",
       "      <td>9</td>\n",
       "      <td>0</td>\n",
       "      <td>15</td>\n",
       "      <td>504</td>\n",
       "      <td>130.624446</td>\n",
       "      <td>1</td>\n",
       "      <td>...</td>\n",
       "      <td>1</td>\n",
       "      <td>13</td>\n",
       "      <td>22.8283</td>\n",
       "      <td>38708</td>\n",
       "      <td>1696</td>\n",
       "      <td>18164</td>\n",
       "      <td>3.0</td>\n",
       "      <td>624</td>\n",
       "      <td>wmUeMoJZfsqaSX9b</td>\n",
       "      <td>3</td>\n",
       "    </tr>\n",
       "  </tbody>\n",
       "</table>\n",
       "<p>5 rows × 4497 columns</p>\n",
       "</div>"
      ],
      "text/plain": [
       "   III_10  III_100  III_1000  III_10000  III_250  III_50  III_500  III_5000  \\\n",
       "0       0        2        57       5422        6       0       15      1277   \n",
       "1       0        1         7       1366        1       0        1       292   \n",
       "2       0        0        41       4480        0       0        0      1204   \n",
       "3       0        9       276      10687       25       3       94      4540   \n",
       "4       0        0        30        808        9       0       15       504   \n",
       "\n",
       "      III_MIN  III_index_1000  ...  parking_way_2  total_floor  town_area  \\\n",
       "0   56.238977               1  ...              1            2    21.8424   \n",
       "1   55.204531               1  ...              1           10   191.4508   \n",
       "2  572.904189               1  ...              1            4    62.7034   \n",
       "3   47.064014               1  ...              1           19     5.7138   \n",
       "4  130.624446               1  ...              1           13    22.8283   \n",
       "\n",
       "   town_population  town_population_density  txn_dt  txn_floor  \\\n",
       "0           122155                     5593   18634        0.5   \n",
       "1           114926                      600   20199        2.0   \n",
       "2           274819                     4383   19769        0.5   \n",
       "3           222585                    38956   20479       16.0   \n",
       "4            38708                     1696   18164        3.0   \n",
       "\n",
       "   village_income_median       building_id  0  \n",
       "0                    714  X5gsdTWGS3W7JJQB  9  \n",
       "1                    583  BTshNOJyKHnT2YIT  9  \n",
       "2                    641  dhdymr0lV8N5kZOT  2  \n",
       "3                    653  VEwyGGMcD56w5BOc  8  \n",
       "4                    624  wmUeMoJZfsqaSX9b  3  \n",
       "\n",
       "[5 rows x 4497 columns]"
      ]
     },
     "execution_count": 165,
     "metadata": {},
     "output_type": "execute_result"
    }
   ],
   "source": [
    "#test id & label concat\n",
    "test_addlabels = pd.concat([test,test_o['building_id'], test_labels],axis=1)\n",
    "test_addlabels.head()"
   ]
  },
  {
   "cell_type": "code",
   "execution_count": 8,
   "metadata": {},
   "outputs": [],
   "source": [
    "group0 = train_addlabels[0]==0\n",
    "group1 = train_addlabels[0]==1\n",
    "group2 = train_addlabels[0]==2\n",
    "group3 = train_addlabels[0]==3\n",
    "group4 = train_addlabels[0]==4\n",
    "group5 = train_addlabels[0]==5\n",
    "group6 = train_addlabels[0]==6\n",
    "group7 = train_addlabels[0]==7\n",
    "group8 = train_addlabels[0]==8\n",
    "group9 = train_addlabels[0]==9"
   ]
  },
  {
   "cell_type": "code",
   "execution_count": 9,
   "metadata": {},
   "outputs": [
    {
     "name": "stdout",
     "output_type": "stream",
     "text": [
      "group_0 (3668, 4497)\n",
      "group_1 (8050, 4497)\n",
      "group_2 (6033, 4497)\n",
      "group_3 (6660, 4497)\n",
      "group_4 (2615, 4497)\n",
      "group_5 (3554, 4497)\n",
      "group_6 (10598, 4497)\n",
      "group_7 (1371, 4497)\n",
      "group_8 (8894, 4497)\n",
      "group_9 (8557, 4497)\n"
     ]
    }
   ],
   "source": [
    "group_0 = train_addlabels[group0]\n",
    "group_1 = train_addlabels[group1]\n",
    "group_2 = train_addlabels[group2]\n",
    "group_3 = train_addlabels[group3]\n",
    "group_4 = train_addlabels[group4]\n",
    "group_5 = train_addlabels[group5]\n",
    "group_6 = train_addlabels[group6]\n",
    "group_7 = train_addlabels[group7]\n",
    "group_8 = train_addlabels[group8]\n",
    "group_9 = train_addlabels[group9]\n",
    "\n",
    "print('group_0',group_0.shape)\n",
    "print('group_1',group_1.shape)\n",
    "print('group_2',group_2.shape)\n",
    "print('group_3',group_3.shape)\n",
    "print('group_4',group_4.shape)\n",
    "print('group_5',group_5.shape)\n",
    "print('group_6',group_6.shape)\n",
    "print('group_7',group_7.shape)\n",
    "print('group_8',group_8.shape)\n",
    "print('group_9',group_9.shape)"
   ]
  },
  {
   "cell_type": "code",
   "execution_count": 166,
   "metadata": {},
   "outputs": [],
   "source": [
    "test_group0 = test_addlabels[0]==0\n",
    "test_group1 = test_addlabels[0]==1\n",
    "test_group2 = test_addlabels[0]==2\n",
    "test_group3 = test_addlabels[0]==3\n",
    "test_group4 = test_addlabels[0]==4\n",
    "test_group5 = test_addlabels[0]==5\n",
    "test_group6 = test_addlabels[0]==6\n",
    "test_group7 = test_addlabels[0]==7\n",
    "test_group8 = test_addlabels[0]==8\n",
    "test_group9 = test_addlabels[0]==9"
   ]
  },
  {
   "cell_type": "code",
   "execution_count": 169,
   "metadata": {},
   "outputs": [
    {
     "name": "stdout",
     "output_type": "stream",
     "text": [
      "test_group_0 (614, 4497)\n",
      "test_group_1 (1338, 4497)\n",
      "test_group_2 (982, 4497)\n",
      "test_group_3 (1122, 4497)\n",
      "test_group_4 (404, 4497)\n",
      "test_group_5 (553, 4497)\n",
      "test_group_6 (1806, 4497)\n",
      "test_group_7 (245, 4497)\n",
      "test_group_8 (1483, 4497)\n",
      "test_group_9 (1453, 4497)\n"
     ]
    }
   ],
   "source": [
    "test_Group0 = test_addlabels[test_group0]\n",
    "test_Group1 = test_addlabels[test_group1]\n",
    "test_Group2 = test_addlabels[test_group2]\n",
    "test_Group3 = test_addlabels[test_group3]\n",
    "test_Group4 = test_addlabels[test_group4]\n",
    "test_Group5 = test_addlabels[test_group5]\n",
    "test_Group6 = test_addlabels[test_group6]\n",
    "test_Group7 = test_addlabels[test_group7]\n",
    "test_Group8 = test_addlabels[test_group8]\n",
    "test_Group9 = test_addlabels[test_group9]\n",
    "\n",
    "print('test_group_0',test_Group0.shape)\n",
    "print('test_group_1',test_Group1.shape)\n",
    "print('test_group_2',test_Group2.shape)\n",
    "print('test_group_3',test_Group3.shape)\n",
    "print('test_group_4',test_Group4.shape)\n",
    "print('test_group_5',test_Group5.shape)\n",
    "print('test_group_6',test_Group6.shape)\n",
    "print('test_group_7',test_Group7.shape)\n",
    "print('test_group_8',test_Group8.shape)\n",
    "print('test_group_9',test_Group9.shape)"
   ]
  },
  {
   "cell_type": "code",
   "execution_count": 10,
   "metadata": {},
   "outputs": [],
   "source": [
    "a = np.percentile(group_0['land_area'], 75)\n",
    "b = np.percentile(group_1['land_area'], 75)\n",
    "c = np.percentile(group_2['land_area'], 75)\n",
    "d = np.percentile(group_3['land_area'], 75)\n",
    "e = np.percentile(group_4['land_area'], 75)\n",
    "f = np.percentile(group_5['land_area'], 75)\n",
    "g = np.percentile(group_6['land_area'], 75)\n",
    "h = np.percentile(group_7['land_area'], 75)\n",
    "i = np.percentile(group_8['land_area'], 75)\n",
    "j = np.percentile(group_9['land_area'], 75)"
   ]
  },
  {
   "cell_type": "code",
   "execution_count": 74,
   "metadata": {},
   "outputs": [],
   "source": [
    "mask_0 = group_0['land_area'] < a*1.5*1.5\n",
    "Group0 = group_0[mask_0]\n",
    "mask_1 = group_1['land_area'] < b*1.5*1.5\n",
    "Group1 = group_1[mask_1]\n",
    "mask_2 = group_2['land_area'] < c*1.5*1.5\n",
    "Group2 = group_2[mask_2]\n",
    "mask_3 = group_3['land_area'] < d*1.5*2\n",
    "Group3 = group_3[mask_3]\n",
    "mask_4 = group_4['land_area'] < e*1.5*1.5\n",
    "Group4 = group_4[mask_4]\n",
    "mask_5 = group_5['land_area'] < f*1.5*1.5\n",
    "Group5 = group_5[mask_5]\n",
    "mask_6 = group_6['land_area'] < g*1.5*1.5\n",
    "Group6 = group_6[mask_6]\n",
    "mask_7 = group_7['land_area'] < h*1.5*1.5\n",
    "Group7 = group_7[mask_7]\n",
    "mask_8 = group_8['land_area'] < i*1.5*1.5\n",
    "Group8 = group_8[mask_8]\n",
    "mask_9 = group_9['land_area'] < j*1.5*1.5\n",
    "Group9 = group_9[mask_9]"
   ]
  },
  {
   "cell_type": "code",
   "execution_count": 12,
   "metadata": {},
   "outputs": [
    {
     "data": {
      "text/plain": [
       "<matplotlib.axes._subplots.AxesSubplot at 0x1a310678f28>"
      ]
     },
     "execution_count": 12,
     "metadata": {},
     "output_type": "execute_result"
    },
    {
     "data": {
      "image/png": "[encoded data removed]",
      "text/plain": [
       "<Figure size 432x288 with 1 Axes>"
      ]
     },
     "metadata": {
      "needs_background": "light"
     },
     "output_type": "display_data"
    }
   ],
   "source": [
    "import seaborn as sns\n",
    "sns.boxplot(Group9['land_area'])"
   ]
  },
  {
   "cell_type": "code",
   "execution_count": 13,
   "metadata": {},
   "outputs": [
    {
     "data": {
      "text/plain": [
       "(8050, 4497)"
      ]
     },
     "execution_count": 13,
     "metadata": {},
     "output_type": "execute_result"
    }
   ],
   "source": [
    "group_1.shape"
   ]
  },
  {
   "cell_type": "code",
   "execution_count": 14,
   "metadata": {},
   "outputs": [
    {
     "data": {
      "text/plain": [
       "(7531, 4497)"
      ]
     },
     "execution_count": 14,
     "metadata": {},
     "output_type": "execute_result"
    }
   ],
   "source": [
    "Group1.shape"
   ]
  },
  {
   "cell_type": "markdown",
   "metadata": {},
   "source": [
    "# select from model"
   ]
  },
  {
   "cell_type": "code",
   "execution_count": 15,
   "metadata": {},
   "outputs": [],
   "source": [
    "from sklearn.model_selection import cross_val_score, KFold, StratifiedKFold, train_test_split\n",
    "from sklearn import  preprocessing , metrics \n",
    "from sklearn.tree import DecisionTreeRegressor\n",
    "from sklearn.ensemble import RandomForestRegressor ,ExtraTreesRegressor\n",
    "from xgboost import XGBRFRegressor \n",
    "import xgboost as xgb\n",
    "from sklearn import svm\n",
    "from sklearn.feature_selection import SelectFromModel"
   ]
  },
  {
   "cell_type": "markdown",
   "metadata": {},
   "source": [
    "Group0"
   ]
  },
  {
   "cell_type": "code",
   "execution_count": 16,
   "metadata": {},
   "outputs": [
    {
     "data": {
      "text/html": [
       "<div>\n",
       "<style scoped>\n",
       "    .dataframe tbody tr th:only-of-type {\n",
       "        vertical-align: middle;\n",
       "    }\n",
       "\n",
       "    .dataframe tbody tr th {\n",
       "        vertical-align: top;\n",
       "    }\n",
       "\n",
       "    .dataframe thead th {\n",
       "        text-align: right;\n",
       "    }\n",
       "</style>\n",
       "<table border=\"1\" class=\"dataframe\">\n",
       "  <thead>\n",
       "    <tr style=\"text-align: right;\">\n",
       "      <th></th>\n",
       "      <th>III_10</th>\n",
       "      <th>III_100</th>\n",
       "      <th>III_1000</th>\n",
       "      <th>III_10000</th>\n",
       "      <th>III_250</th>\n",
       "      <th>III_50</th>\n",
       "      <th>III_500</th>\n",
       "      <th>III_5000</th>\n",
       "      <th>III_MIN</th>\n",
       "      <th>III_index_1000</th>\n",
       "      <th>...</th>\n",
       "      <th>parking_way_2</th>\n",
       "      <th>total_floor</th>\n",
       "      <th>town_area</th>\n",
       "      <th>town_population</th>\n",
       "      <th>town_population_density</th>\n",
       "      <th>txn_dt</th>\n",
       "      <th>txn_floor</th>\n",
       "      <th>village_income_median</th>\n",
       "      <th>0</th>\n",
       "      <th>total_price</th>\n",
       "    </tr>\n",
       "  </thead>\n",
       "  <tbody>\n",
       "    <tr>\n",
       "      <th>3</th>\n",
       "      <td>0</td>\n",
       "      <td>1</td>\n",
       "      <td>50</td>\n",
       "      <td>3904</td>\n",
       "      <td>3</td>\n",
       "      <td>1</td>\n",
       "      <td>5</td>\n",
       "      <td>2157</td>\n",
       "      <td>45.508654</td>\n",
       "      <td>1</td>\n",
       "      <td>...</td>\n",
       "      <td>0</td>\n",
       "      <td>24</td>\n",
       "      <td>14.7523</td>\n",
       "      <td>139259</td>\n",
       "      <td>9440</td>\n",
       "      <td>20385</td>\n",
       "      <td>13.0</td>\n",
       "      <td>950</td>\n",
       "      <td>0</td>\n",
       "      <td>1.421501e+07</td>\n",
       "    </tr>\n",
       "    <tr>\n",
       "      <th>6</th>\n",
       "      <td>0</td>\n",
       "      <td>1</td>\n",
       "      <td>139</td>\n",
       "      <td>5761</td>\n",
       "      <td>2</td>\n",
       "      <td>0</td>\n",
       "      <td>15</td>\n",
       "      <td>1591</td>\n",
       "      <td>87.008685</td>\n",
       "      <td>1</td>\n",
       "      <td>...</td>\n",
       "      <td>0</td>\n",
       "      <td>15</td>\n",
       "      <td>29.5578</td>\n",
       "      <td>238067</td>\n",
       "      <td>8054</td>\n",
       "      <td>20474</td>\n",
       "      <td>8.0</td>\n",
       "      <td>716</td>\n",
       "      <td>0</td>\n",
       "      <td>8.510296e+06</td>\n",
       "    </tr>\n",
       "    <tr>\n",
       "      <th>62</th>\n",
       "      <td>0</td>\n",
       "      <td>0</td>\n",
       "      <td>91</td>\n",
       "      <td>7371</td>\n",
       "      <td>6</td>\n",
       "      <td>0</td>\n",
       "      <td>16</td>\n",
       "      <td>1543</td>\n",
       "      <td>214.866294</td>\n",
       "      <td>1</td>\n",
       "      <td>...</td>\n",
       "      <td>0</td>\n",
       "      <td>7</td>\n",
       "      <td>7.4351</td>\n",
       "      <td>201309</td>\n",
       "      <td>27075</td>\n",
       "      <td>19467</td>\n",
       "      <td>4.0</td>\n",
       "      <td>606</td>\n",
       "      <td>0</td>\n",
       "      <td>1.011689e+07</td>\n",
       "    </tr>\n",
       "  </tbody>\n",
       "</table>\n",
       "<p>3 rows × 4497 columns</p>\n",
       "</div>"
      ],
      "text/plain": [
       "    III_10  III_100  III_1000  III_10000  III_250  III_50  III_500  III_5000  \\\n",
       "3        0        1        50       3904        3       1        5      2157   \n",
       "6        0        1       139       5761        2       0       15      1591   \n",
       "62       0        0        91       7371        6       0       16      1543   \n",
       "\n",
       "       III_MIN  III_index_1000  ...  parking_way_2  total_floor  town_area  \\\n",
       "3    45.508654               1  ...              0           24    14.7523   \n",
       "6    87.008685               1  ...              0           15    29.5578   \n",
       "62  214.866294               1  ...              0            7     7.4351   \n",
       "\n",
       "    town_population  town_population_density  txn_dt  txn_floor  \\\n",
       "3            139259                     9440   20385       13.0   \n",
       "6            238067                     8054   20474        8.0   \n",
       "62           201309                    27075   19467        4.0   \n",
       "\n",
       "    village_income_median  0   total_price  \n",
       "3                     950  0  1.421501e+07  \n",
       "6                     716  0  8.510296e+06  \n",
       "62                    606  0  1.011689e+07  \n",
       "\n",
       "[3 rows x 4497 columns]"
      ]
     },
     "execution_count": 16,
     "metadata": {},
     "output_type": "execute_result"
    }
   ],
   "source": [
    "Group0.head(3)"
   ]
  },
  {
   "cell_type": "code",
   "execution_count": 453,
   "metadata": {},
   "outputs": [],
   "source": [
    "XGroup0 = Group0.iloc[:, :-2]\n",
    "yGroup0 = Group0['total_price']"
   ]
  },
  {
   "cell_type": "code",
   "execution_count": 458,
   "metadata": {},
   "outputs": [],
   "source": [
    "#test\n",
    "Xtest_Group0 = test_Group0.iloc[:, :-2]"
   ]
  },
  {
   "cell_type": "code",
   "execution_count": 454,
   "metadata": {},
   "outputs": [],
   "source": [
    "forest = RandomForestRegressor(n_estimators=400,n_jobs=-1)\n",
    "forest_reg_0 = forest.fit(XGroup0, yGroup0)\n",
    "model_ex_0 = SelectFromModel(forest_reg_0, prefit=True)\n",
    "X0_ex = model_ex_0.transform(XGroup0)\n",
    "X0_ex = XGroup0[XGroup0.columns[model_ex_0.get_support()]]"
   ]
  },
  {
   "cell_type": "code",
   "execution_count": 455,
   "metadata": {},
   "outputs": [
    {
     "data": {
      "text/plain": [
       "(3610, 126)"
      ]
     },
     "execution_count": 455,
     "metadata": {},
     "output_type": "execute_result"
    }
   ],
   "source": [
    "X0_ex.shape"
   ]
  },
  {
   "cell_type": "code",
   "execution_count": 459,
   "metadata": {},
   "outputs": [],
   "source": [
    "#test 降維\n",
    "Xtest_Group0_de = pd.DataFrame(model_ex_0.transform(Xtest_Group0))"
   ]
  },
  {
   "cell_type": "code",
   "execution_count": 456,
   "metadata": {},
   "outputs": [],
   "source": [
    "forest = RandomForestRegressor(n_estimators=400,n_jobs=-1)\n",
    "extree = ExtraTreesRegressor(n_estimators=200,n_jobs=-1)\n",
    "xgbreg = xgb.XGBRegressor(n_estimators=400,subsample=0.88,max_depth=3,colsample_bytree=0.88,\n",
    "                             min_child_weight=2,reg_alpha=0.01,objective='reg:squarederror')"
   ]
  },
  {
   "cell_type": "code",
   "execution_count": 457,
   "metadata": {},
   "outputs": [],
   "source": [
    "trainX_0 , testX_0 , train_y_0 , test_y_0 = train_test_split (X0_ex , yGroup0, test_size = 0.3)"
   ]
  },
  {
   "cell_type": "code",
   "execution_count": 460,
   "metadata": {},
   "outputs": [
    {
     "name": "stdout",
     "output_type": "stream",
     "text": [
      "train 1.0\n",
      "test 0.9341964459810055\n"
     ]
    }
   ],
   "source": [
    "extree_model_0 = extree.fit(trainX_0,train_y_0)\n",
    "print('train',extree_model_0.score(trainX_0,train_y_0))\n",
    "print('test',extree_model_0.score(testX_0,test_y_0))"
   ]
  },
  {
   "cell_type": "code",
   "execution_count": 461,
   "metadata": {},
   "outputs": [],
   "source": [
    "#test predict\n",
    "Xtest_Group0_pre = extree_model_0.predict(Xtest_Group0_de)"
   ]
  },
  {
   "cell_type": "code",
   "execution_count": 462,
   "metadata": {
    "collapsed": true
   },
   "outputs": [
    {
     "data": {
      "text/plain": [
       "array([1.05941948e+07, 1.21383757e+07, 6.28586194e+06, 1.37432523e+07,\n",
       "       2.84312451e+06, 4.51730125e+07, 6.06028282e+06, 1.19083905e+07,\n",
       "       3.00440662e+07, 1.30011355e+07, 6.47103102e+07, 1.73687394e+07,\n",
       "       2.65363487e+07, 2.63283118e+07, 3.49965168e+06, 3.27131938e+06,\n",
       "       5.79488245e+06, 1.44983238e+07, 4.44272435e+06, 2.78842380e+06,\n",
       "       5.94544273e+07, 7.49947293e+06, 2.73860484e+07, 3.40685928e+07,\n",
       "       4.59493396e+06, 7.94061227e+06, 8.93558605e+06, 7.19843259e+06,\n",
       "       8.63343397e+07, 6.45720392e+06, 7.78728191e+06, 2.77868089e+07,\n",
       "       6.70142159e+06, 1.19027646e+07, 4.83084750e+06, 1.42094312e+07,\n",
       "       1.60608736e+07, 4.21160933e+06, 6.19174163e+06, 5.28383900e+07,\n",
       "       5.47929869e+07, 1.26725216e+07, 7.88859514e+06, 5.39310403e+07,\n",
       "       4.96675875e+06, 1.36922670e+07, 6.57485177e+06, 1.98339294e+07,\n",
       "       5.56848471e+06, 3.86251560e+06, 2.18984835e+07, 5.93309411e+06,\n",
       "       1.62925460e+07, 1.92743455e+07, 1.06000099e+07, 1.57752112e+07,\n",
       "       8.12724029e+06, 5.90678874e+06, 1.08892214e+07, 1.77972101e+07,\n",
       "       7.61943838e+06, 7.43040750e+06, 2.19544683e+07, 3.65840288e+07,\n",
       "       9.28793966e+06, 1.02173283e+07, 4.38950961e+06, 1.48467810e+07,\n",
       "       3.33900774e+07, 1.70891772e+07, 6.51236351e+06, 9.87618575e+06,\n",
       "       3.11686502e+07, 1.00640755e+07, 1.30957437e+07, 3.51433173e+07,\n",
       "       8.00505888e+06, 4.55479102e+06, 1.00585920e+07, 3.27674904e+06,\n",
       "       7.22788445e+06, 6.22162156e+06, 3.54261946e+06, 9.29507902e+06,\n",
       "       1.99828881e+07, 1.04751382e+07, 6.87725459e+07, 2.62176901e+07,\n",
       "       4.76591610e+06, 5.50060643e+06, 2.35293624e+07, 9.68763061e+06,\n",
       "       1.12009600e+07, 1.76930304e+07, 7.80578399e+06, 7.93414104e+06,\n",
       "       1.69288600e+07, 6.11384977e+06, 3.09981803e+06, 1.43007625e+07,\n",
       "       2.90417560e+07, 7.86401152e+06, 1.21903329e+08, 5.06124881e+06,\n",
       "       3.38788002e+07, 5.56680043e+06, 4.20850336e+06, 3.75071138e+06,\n",
       "       1.80972625e+07, 5.66020581e+06, 4.41714503e+07, 4.06910187e+07,\n",
       "       3.29027485e+07, 6.95785046e+06, 7.92371227e+06, 2.59427685e+07,\n",
       "       9.85510257e+06, 6.49154091e+06, 3.13000434e+07, 7.41215273e+06,\n",
       "       3.24786377e+06, 5.52620361e+06, 6.56712385e+06, 1.44115107e+07,\n",
       "       9.46339879e+06, 4.91264088e+06, 3.78350474e+06, 1.95241443e+07,\n",
       "       1.10868817e+07, 2.62150188e+07, 1.51552160e+07, 6.27346517e+06,\n",
       "       4.55973821e+07, 1.57691935e+07, 1.42300687e+07, 7.51712248e+06,\n",
       "       4.69581703e+06, 2.44925279e+07, 3.00703188e+07, 5.82884105e+07,\n",
       "       9.40076189e+06, 2.21392423e+07, 1.42765074e+07, 7.60693894e+06,\n",
       "       1.17425263e+07, 1.11513747e+07, 1.75767604e+07, 6.94983739e+06,\n",
       "       3.71643420e+06, 1.21365625e+07, 4.16783040e+06, 1.52632478e+07,\n",
       "       2.61065277e+07, 8.67294843e+06, 4.25828147e+06, 8.80713716e+06,\n",
       "       1.84237535e+07, 5.89292317e+06, 1.69234840e+07, 7.07146017e+06,\n",
       "       1.39505591e+07, 4.44161169e+06, 8.68400111e+06, 9.57088532e+06,\n",
       "       1.24199420e+07, 5.07733107e+06, 9.48929571e+06, 8.27690972e+06,\n",
       "       1.77204233e+07, 5.52351201e+06, 5.76084361e+06, 4.77102015e+07,\n",
       "       9.29122368e+06, 8.31275842e+07, 8.48695058e+06, 8.16830049e+06,\n",
       "       3.41786086e+07, 7.92349897e+06, 9.76381485e+06, 9.85540846e+06,\n",
       "       6.30422421e+06, 4.83936564e+07, 1.23468723e+07, 4.37908779e+07,\n",
       "       2.62568989e+07, 1.51970811e+07, 1.12584976e+07, 9.18341562e+06,\n",
       "       1.09101871e+07, 8.91801414e+06, 6.29757239e+06, 1.53956173e+07,\n",
       "       5.24124729e+06, 2.27881906e+07, 1.64293365e+07, 5.96957126e+06,\n",
       "       4.09843008e+06, 6.28085627e+06, 5.97722177e+06, 1.14779247e+07,\n",
       "       2.40181538e+07, 1.33190165e+07, 3.35015863e+06, 1.15560703e+07,\n",
       "       2.62599575e+07, 1.09155407e+07, 4.91214811e+06, 5.25412120e+06,\n",
       "       5.75139923e+07, 4.16362421e+06, 2.22902776e+07, 5.78182794e+06,\n",
       "       7.43141611e+06, 2.77808942e+06, 1.41677221e+07, 1.91084697e+07,\n",
       "       3.29408041e+06, 5.43136290e+07, 1.82596116e+07, 8.15164375e+06,\n",
       "       4.96558515e+06, 1.72362558e+07, 1.86219557e+07, 6.81423266e+06,\n",
       "       2.53896152e+07, 1.07097129e+07, 2.75508218e+07, 9.15141792e+06,\n",
       "       1.42520889e+07, 1.53179592e+07, 1.81831057e+07, 4.90275956e+06,\n",
       "       4.91926652e+07, 1.91017654e+07, 5.24895476e+06, 2.27345706e+07,\n",
       "       7.01325039e+06, 6.68744337e+06, 2.05931525e+07, 9.66733003e+06,\n",
       "       8.82442510e+06, 4.15838524e+06, 4.57581637e+06, 4.86237955e+06,\n",
       "       3.78724689e+06, 1.24926990e+07, 1.39513210e+07, 8.31867874e+06,\n",
       "       1.44589921e+07, 8.19367238e+06, 8.70005326e+06, 2.92943802e+07,\n",
       "       1.30886392e+07, 8.49239775e+06, 1.14363117e+07, 8.35173060e+06,\n",
       "       7.35460729e+06, 2.86461506e+07, 6.59423902e+06, 4.66855069e+06,\n",
       "       2.41134349e+07, 1.16977746e+07, 7.04326380e+06, 5.58682387e+06,\n",
       "       6.27055718e+06, 1.39409329e+07, 4.50753580e+07, 1.11667923e+07,\n",
       "       4.13136219e+07, 6.74627280e+06, 2.40105322e+07, 1.29074184e+07,\n",
       "       7.59830196e+06, 8.65337983e+06, 9.06995688e+06, 1.89924667e+07,\n",
       "       1.17313773e+07, 6.14451981e+06, 6.81733252e+06, 4.18327638e+07,\n",
       "       9.62050200e+06, 2.30940865e+07, 5.72539159e+06, 1.55553395e+07,\n",
       "       3.35598708e+07, 3.29815984e+07, 1.05894683e+07, 1.13018543e+07,\n",
       "       1.20212663e+07, 3.00360930e+06, 5.34803362e+06, 3.18678030e+07,\n",
       "       4.64705126e+07, 6.40560850e+06, 7.89308934e+06, 4.22461301e+06,\n",
       "       1.07127620e+07, 1.43779977e+07, 2.98853152e+06, 4.49114525e+07,\n",
       "       5.38666687e+06, 1.29662392e+07, 3.96257340e+06, 8.63372371e+06,\n",
       "       3.33589607e+07, 2.01121121e+07, 8.38321678e+07, 7.49436786e+06,\n",
       "       4.84221927e+07, 1.49884875e+07, 6.32089790e+07, 4.15928139e+06,\n",
       "       1.86444582e+07, 3.60703276e+06, 2.11987148e+07, 9.30244604e+06,\n",
       "       5.08741739e+06, 1.01079069e+07, 6.67290560e+06, 8.68978602e+07,\n",
       "       3.09172848e+06, 4.07856279e+06, 1.29260921e+07, 1.16232823e+07,\n",
       "       1.39410589e+07, 7.60216167e+06, 1.11730895e+07, 7.04959874e+06,\n",
       "       1.89936329e+07, 1.96383471e+07, 1.06137161e+07, 1.37303120e+07,\n",
       "       5.98453793e+06, 2.01445113e+07, 5.48352010e+06, 8.12446045e+06,\n",
       "       1.06707550e+07, 1.50679955e+07, 5.41425085e+06, 2.73616496e+07,\n",
       "       4.28227619e+06, 6.81530065e+06, 6.30659068e+07, 5.59305062e+06,\n",
       "       9.92170003e+06, 2.19310327e+07, 2.81632651e+06, 4.59913184e+06,\n",
       "       5.22191749e+06, 1.32508905e+07, 3.23928333e+07, 6.29394174e+06,\n",
       "       5.18528481e+07, 6.81769688e+06, 1.37597824e+07, 8.11318009e+06,\n",
       "       7.62256202e+06, 9.70869398e+06, 2.48550140e+07, 7.85874611e+06,\n",
       "       8.57949438e+06, 7.14800000e+06, 1.19152658e+07, 1.02605344e+08,\n",
       "       6.49418512e+06, 3.64169245e+06, 1.59258794e+07, 1.54858545e+07,\n",
       "       6.25068881e+07, 8.41075094e+06, 4.79199789e+06, 2.09719158e+07,\n",
       "       1.76610351e+07, 3.44625171e+07, 4.34116095e+06, 4.04993548e+06,\n",
       "       9.29421630e+06, 7.79432647e+06, 1.00345474e+07, 1.99709979e+07,\n",
       "       1.70998414e+07, 9.00954034e+06, 9.38571121e+06, 6.06512928e+06,\n",
       "       1.05836623e+07, 8.59144202e+06, 1.37849979e+07, 1.86352251e+07,\n",
       "       3.11137027e+06, 4.56340558e+06, 1.49654258e+07, 1.06530629e+07,\n",
       "       9.77023241e+06, 6.24678948e+06, 5.69172388e+06, 8.24815431e+06,\n",
       "       7.51101795e+06, 7.44639949e+06, 5.43698099e+07, 8.26943923e+06,\n",
       "       1.50403842e+07, 1.22291365e+07, 3.50081715e+07, 3.25733084e+07,\n",
       "       7.02166915e+06, 6.23012769e+06, 8.44269885e+06, 7.30643579e+06,\n",
       "       1.12357499e+07, 5.50407483e+06, 2.53542713e+07, 1.19827607e+08,\n",
       "       1.46446989e+07, 4.27772885e+07, 1.83157294e+07, 2.87297802e+07,\n",
       "       1.03612471e+07, 4.42687471e+07, 5.31797506e+06, 2.46367308e+07,\n",
       "       6.52236204e+06, 1.49234064e+07, 1.46598164e+07, 3.28738785e+07,\n",
       "       2.88611463e+06, 5.50958932e+06, 4.87940461e+06, 1.40483127e+07,\n",
       "       3.33414081e+06, 4.61707416e+06, 5.43280081e+06, 1.23200449e+07,\n",
       "       1.92684802e+07, 1.72260162e+07, 1.34076424e+07, 3.51930848e+06,\n",
       "       1.00192566e+07, 3.49678821e+06, 2.16131831e+07, 9.39275524e+06,\n",
       "       4.03091992e+07, 9.28000412e+06, 1.34494504e+08, 3.44990514e+06,\n",
       "       2.78992952e+07, 8.09952838e+06, 1.52798543e+07, 7.81085062e+06,\n",
       "       3.73099050e+07, 8.16271832e+06, 6.06188667e+06, 5.11545943e+06,\n",
       "       3.06635167e+07, 2.07654258e+07, 2.83186999e+07, 8.68510549e+06,\n",
       "       3.52668862e+06, 1.31339555e+07, 2.47092447e+07, 1.48594704e+07,\n",
       "       9.02644365e+06, 1.73638929e+07, 2.35847680e+07, 5.47457827e+06,\n",
       "       2.42630502e+07, 3.45540077e+07, 9.51381213e+06, 6.81124304e+06,\n",
       "       7.32445737e+06, 6.23726639e+06, 5.73665013e+06, 7.30387105e+06,\n",
       "       1.29524242e+07, 5.36310849e+06, 2.97691364e+07, 8.22199164e+06,\n",
       "       6.06226008e+06, 4.87400893e+06, 7.57124330e+06, 2.80418054e+06,\n",
       "       1.32376386e+07, 3.67089718e+07, 8.56972906e+06, 2.68862434e+07,\n",
       "       6.81560596e+06, 9.47980996e+06, 5.55068920e+06, 4.61148400e+06,\n",
       "       1.44386298e+07, 8.64938280e+07, 7.78536812e+06, 8.73947860e+06,\n",
       "       7.22995449e+06, 3.94184000e+06, 1.37186802e+07, 8.45058531e+06,\n",
       "       1.34311437e+07, 5.12643862e+06, 6.84140770e+06, 6.14050430e+06,\n",
       "       8.54948800e+06, 1.83854281e+07, 6.23520497e+06, 3.54386089e+07,\n",
       "       4.51383985e+06, 1.07936099e+07, 1.37267323e+07, 6.28144429e+07,\n",
       "       9.68743900e+06, 5.90813659e+06, 5.85823659e+06, 8.76529442e+06,\n",
       "       6.94605795e+06, 6.20755071e+06, 1.27742283e+07, 7.47046043e+06,\n",
       "       4.02833933e+06, 9.82112831e+06, 3.96285051e+06, 7.42224818e+06,\n",
       "       6.50332681e+06, 3.80509764e+06, 8.71893503e+06, 1.90658202e+07,\n",
       "       1.61173111e+07, 2.97832776e+07, 8.14628802e+06, 5.84789511e+06,\n",
       "       9.20039019e+07, 9.07500233e+06, 2.61911751e+06, 2.33899929e+06,\n",
       "       6.33281438e+06, 5.68292789e+06, 5.76502540e+06, 8.03116465e+06,\n",
       "       8.70360676e+06, 8.98685921e+06, 2.48596964e+07, 2.61463117e+07,\n",
       "       2.35923120e+07, 3.06105620e+06, 8.99749764e+06, 6.41043102e+07,\n",
       "       4.50889285e+07, 7.57303377e+06, 5.98725644e+06, 3.64220502e+06,\n",
       "       4.25172992e+06, 1.19314634e+07, 7.45273003e+06, 5.92666144e+07,\n",
       "       5.86078019e+06, 1.06056333e+07, 1.45105173e+07, 7.04118548e+06,\n",
       "       4.92856653e+06, 3.84592163e+06, 2.43694868e+07, 7.99695830e+06,\n",
       "       1.00485779e+07, 7.90396525e+06, 3.89491788e+07, 2.00995195e+07,\n",
       "       3.42501634e+07, 2.78787798e+07, 9.17751907e+07, 2.07193811e+07,\n",
       "       1.49007192e+07, 8.57521278e+06, 5.43672442e+06, 7.38269728e+06,\n",
       "       4.55770245e+06, 1.03896382e+07, 6.97660267e+07, 8.28520884e+06,\n",
       "       4.80892422e+06, 1.51124601e+07, 8.28732387e+06, 5.38461044e+06,\n",
       "       7.16441239e+06, 5.69746750e+06, 4.82951107e+06, 4.95366517e+06,\n",
       "       1.25846164e+07, 8.36379563e+06, 1.61075518e+07, 1.82204784e+07,\n",
       "       8.80272168e+06, 1.01682463e+07, 1.42906171e+07, 4.29052340e+07,\n",
       "       9.62107518e+06, 6.42913046e+06, 6.56177983e+06, 3.35376923e+07,\n",
       "       4.98386663e+06, 2.44216976e+07, 4.51002801e+07, 1.08395275e+07,\n",
       "       8.24944027e+06, 7.50408705e+06, 6.03062433e+06, 4.18293976e+06,\n",
       "       4.00000706e+07, 4.47132677e+06, 1.04153585e+07, 1.78530624e+07,\n",
       "       1.40215967e+07, 1.29420898e+07, 4.06233950e+06, 4.80696968e+06,\n",
       "       7.38666691e+07, 1.61841049e+07])"
      ]
     },
     "execution_count": 462,
     "metadata": {},
     "output_type": "execute_result"
    }
   ],
   "source": [
    "Xtest_Group0_pre"
   ]
  },
  {
   "cell_type": "code",
   "execution_count": 206,
   "metadata": {},
   "outputs": [
    {
     "name": "stderr",
     "output_type": "stream",
     "text": [
      "C:\\ProgramData\\Anaconda3\\lib\\site-packages\\xgboost\\core.py:587: FutureWarning: Series.base is deprecated and will be removed in a future version\n",
      "  if getattr(data, 'base', None) is not None and \\\n"
     ]
    },
    {
     "name": "stdout",
     "output_type": "stream",
     "text": [
      "train 0.9877389534743991\n",
      "test 0.9398699522113879\n"
     ]
    }
   ],
   "source": [
    "xgb_model_0 = xgbreg.fit(trainX_0,train_y_0)\n",
    "print('train',xgb_model_0.score(trainX_0,train_y_0))\n",
    "print('test',xgb_model_0.score(testX_0,test_y_0))"
   ]
  },
  {
   "cell_type": "code",
   "execution_count": 207,
   "metadata": {
    "collapsed": true
   },
   "outputs": [
    {
     "ename": "ValueError",
     "evalue": "feature_names mismatch: ['1   ', '2   ', '3   ', '4   ', '6   ', '7   ', '8   ', '15  ', '16  ', '17  ', '18  ', '20  ', '21  ', '22  ', '30  ', '31  ', '32  ', '34  ', '35  ', '36  ', '43  ', '44  ', '45  ', '46  ', '48  ', '49  ', '50  ', '58  ', '59  ', '60  ', '62  ', '63  ', '64  ', '72  ', '75  ', '77  ', '78  ', '79  ', '80  ', '81  ', '82  ', '83  ', '84  ', '91  ', '92  ', '93  ', '94  ', '95  ', '96  ', '97  ', '98  ', '106 ', '107 ', '110 ', '111 ', '112 ', '119 ', '120 ', '121 ', '122 ', '123 ', '124 ', '125 ', '126 ', '134 ', '135 ', '136 ', '138 ', '139 ', '140 ', '147 ', '148 ', '149 ', '150 ', '151 ', '152 ', '153 ', '154 ', '161 ', '162 ', '163 ', '164 ', '166 ', '167 ', '168 ', '175 ', '176 ', '177 ', '178 ', '180 ', '181 ', '182 ', '189 ', '190 ', '191 ', '192 ', '194 ', '195 ', '196 ', '915 ', '4159', '4216', '4446', '4447', '4448', '4449', '4451', '4457', '4461', '4475', '4476', '4477', '4478', '4479', '4480', '4481', '4483', '4484', '4485', '4486', '4488', '4489', '4490', '4491', '4492', '4493', '4494'] ['0  ', '1  ', '2  ', '3  ', '4  ', '5  ', '6  ', '7  ', '8  ', '9  ', '10 ', '11 ', '12 ', '13 ', '14 ', '15 ', '16 ', '17 ', '18 ', '19 ', '20 ', '21 ', '22 ', '23 ', '24 ', '25 ', '26 ', '27 ', '28 ', '29 ', '30 ', '31 ', '32 ', '33 ', '34 ', '35 ', '36 ', '37 ', '38 ', '39 ', '40 ', '41 ', '42 ', '43 ', '44 ', '45 ', '46 ', '47 ', '48 ', '49 ', '50 ', '51 ', '52 ', '53 ', '54 ', '55 ', '56 ', '57 ', '58 ', '59 ', '60 ', '61 ', '62 ', '63 ', '64 ', '65 ', '66 ', '67 ', '68 ', '69 ', '70 ', '71 ', '72 ', '73 ', '74 ', '75 ', '76 ', '77 ', '78 ', '79 ', '80 ', '81 ', '82 ', '83 ', '84 ', '85 ', '86 ', '87 ', '88 ', '89 ', '90 ', '91 ', '92 ', '93 ', '94 ', '95 ', '96 ', '97 ', '98 ', '99 ', '100', '101', '102', '103', '104', '105', '106', '107', '108', '109', '110', '111', '112', '113', '114', '115', '116', '117', '118', '119', '120', '121', '122', '123', '124', '125', '126']\nexpected 189 , 139 , 75  , 150 , 125 , 140 , 45  , 15  , 4448, 147 , 2   , 4481, 4494, 148 , 163 , 1   , 98  , 50  , 4477, 36  , 4492, 16  , 180 , 4490, 63  , 20  , 4484, 178 , 191 , 4479, 112 , 59  , 126 , 168 , 4216, 48  , 83  , 96  , 46  , 4451, 4461, 4476, 7   , 18  , 122 , 121 , 4457, 164 , 4447, 162 , 4485, 81  , 91  , 119 , 120 , 123 , 72  , 97  , 152 , 176 , 134 , 138 , 30  , 21  , 58  , 194 , 4488, 151 , 4159, 192 , 106 , 93  , 60  , 167 , 3   , 49  , 77  , 136 , 4446, 35  , 124 , 153 , 915 , 177 , 4   , 32  , 4480, 17  , 4449, 79  , 94  , 4483, 92  , 4491, 4489, 195 , 196 , 62  , 31  , 6   , 78  , 154 , 82  , 22  , 4478, 181 , 64  , 80  , 190 , 8   , 4475, 84  , 149 , 95  , 135 , 43  , 4486, 107 , 44  , 166 , 182 , 175 , 4493, 110 , 34  , 111 , 161  in input data\ntraining data did not have the following fields: 6  , 122, 43 , 107, 85 , 37 , 41 , 35 , 71 , 120, 57 , 70 , 54 , 64 , 112, 79 , 67 , 113, 27 , 22 , 59 , 108, 84 , 16 , 17 , 50 , 82 , 92 , 13 , 33 , 86 , 9  , 119, 124, 45 , 116, 14 , 101, 30 , 42 , 10 , 53 , 0  , 76 , 23 , 117, 90 , 95 , 36 , 99 , 97 , 111, 11 , 39 , 5  , 47 , 75 , 115, 110, 80 , 8  , 100, 38 , 69 , 126, 62 , 118, 56 , 78 , 104, 1  , 58 , 61 , 74 , 89 , 21 , 63 , 93 , 26 , 91 , 52 , 123, 24 , 28 , 98 , 15 , 4  , 12 , 65 , 87 , 2  , 29 , 25 , 51 , 125, 32 , 121, 66 , 105, 20 , 81 , 55 , 48 , 77 , 109, 44 , 7  , 68 , 103, 83 , 49 , 40 , 94 , 34 , 46 , 72 , 96 , 114, 106, 102, 3  , 18 , 31 , 60 , 73 , 88 , 19 ",
     "output_type": "error",
     "traceback": [
      "\u001b[1;31m---------------------------------------------------------------------------\u001b[0m",
      "\u001b[1;31mValueError\u001b[0m                                Traceback (most recent call last)",
      "\u001b[1;32m<ipython-input-207-d7565e9ce428>\u001b[0m in \u001b[0;36m<module>\u001b[1;34m\u001b[0m\n\u001b[0;32m      1\u001b[0m \u001b[1;31m#test predict\u001b[0m\u001b[1;33m\u001b[0m\u001b[1;33m\u001b[0m\u001b[1;33m\u001b[0m\u001b[0m\n\u001b[1;32m----> 2\u001b[1;33m \u001b[0mxgb_Xtest_Group0_pre\u001b[0m \u001b[1;33m=\u001b[0m \u001b[0mxgb_model_0\u001b[0m\u001b[1;33m.\u001b[0m\u001b[0mpredict\u001b[0m\u001b[1;33m(\u001b[0m\u001b[0mXtest_Group0_de\u001b[0m\u001b[1;33m)\u001b[0m\u001b[1;33m\u001b[0m\u001b[1;33m\u001b[0m\u001b[0m\n\u001b[0m",
      "\u001b[1;32mC:\\ProgramData\\Anaconda3\\lib\\site-packages\\xgboost\\sklearn.py\u001b[0m in \u001b[0;36mpredict\u001b[1;34m(self, data, output_margin, ntree_limit, validate_features)\u001b[0m\n\u001b[0;32m    454\u001b[0m                                           \u001b[0moutput_margin\u001b[0m\u001b[1;33m=\u001b[0m\u001b[0moutput_margin\u001b[0m\u001b[1;33m,\u001b[0m\u001b[1;33m\u001b[0m\u001b[1;33m\u001b[0m\u001b[0m\n\u001b[0;32m    455\u001b[0m                                           \u001b[0mntree_limit\u001b[0m\u001b[1;33m=\u001b[0m\u001b[0mntree_limit\u001b[0m\u001b[1;33m,\u001b[0m\u001b[1;33m\u001b[0m\u001b[1;33m\u001b[0m\u001b[0m\n\u001b[1;32m--> 456\u001b[1;33m                                           validate_features=validate_features)\n\u001b[0m\u001b[0;32m    457\u001b[0m \u001b[1;33m\u001b[0m\u001b[0m\n\u001b[0;32m    458\u001b[0m     \u001b[1;32mdef\u001b[0m \u001b[0mapply\u001b[0m\u001b[1;33m(\u001b[0m\u001b[0mself\u001b[0m\u001b[1;33m,\u001b[0m \u001b[0mX\u001b[0m\u001b[1;33m,\u001b[0m \u001b[0mntree_limit\u001b[0m\u001b[1;33m=\u001b[0m\u001b[1;36m0\u001b[0m\u001b[1;33m)\u001b[0m\u001b[1;33m:\u001b[0m\u001b[1;33m\u001b[0m\u001b[1;33m\u001b[0m\u001b[0m\n",
      "\u001b[1;32mC:\\ProgramData\\Anaconda3\\lib\\site-packages\\xgboost\\core.py\u001b[0m in \u001b[0;36mpredict\u001b[1;34m(self, data, output_margin, ntree_limit, pred_leaf, pred_contribs, approx_contribs, pred_interactions, validate_features)\u001b[0m\n\u001b[0;32m   1282\u001b[0m \u001b[1;33m\u001b[0m\u001b[0m\n\u001b[0;32m   1283\u001b[0m         \u001b[1;32mif\u001b[0m \u001b[0mvalidate_features\u001b[0m\u001b[1;33m:\u001b[0m\u001b[1;33m\u001b[0m\u001b[1;33m\u001b[0m\u001b[0m\n\u001b[1;32m-> 1284\u001b[1;33m             \u001b[0mself\u001b[0m\u001b[1;33m.\u001b[0m\u001b[0m_validate_features\u001b[0m\u001b[1;33m(\u001b[0m\u001b[0mdata\u001b[0m\u001b[1;33m)\u001b[0m\u001b[1;33m\u001b[0m\u001b[1;33m\u001b[0m\u001b[0m\n\u001b[0m\u001b[0;32m   1285\u001b[0m \u001b[1;33m\u001b[0m\u001b[0m\n\u001b[0;32m   1286\u001b[0m         \u001b[0mlength\u001b[0m \u001b[1;33m=\u001b[0m \u001b[0mc_bst_ulong\u001b[0m\u001b[1;33m(\u001b[0m\u001b[1;33m)\u001b[0m\u001b[1;33m\u001b[0m\u001b[1;33m\u001b[0m\u001b[0m\n",
      "\u001b[1;32mC:\\ProgramData\\Anaconda3\\lib\\site-packages\\xgboost\\core.py\u001b[0m in \u001b[0;36m_validate_features\u001b[1;34m(self, data)\u001b[0m\n\u001b[0;32m   1688\u001b[0m \u001b[1;33m\u001b[0m\u001b[0m\n\u001b[0;32m   1689\u001b[0m                 raise ValueError(msg.format(self.feature_names,\n\u001b[1;32m-> 1690\u001b[1;33m                                             data.feature_names))\n\u001b[0m\u001b[0;32m   1691\u001b[0m \u001b[1;33m\u001b[0m\u001b[0m\n\u001b[0;32m   1692\u001b[0m     \u001b[1;32mdef\u001b[0m \u001b[0mget_split_value_histogram\u001b[0m\u001b[1;33m(\u001b[0m\u001b[0mself\u001b[0m\u001b[1;33m,\u001b[0m \u001b[0mfeature\u001b[0m\u001b[1;33m,\u001b[0m \u001b[0mfmap\u001b[0m\u001b[1;33m=\u001b[0m\u001b[1;34m''\u001b[0m\u001b[1;33m,\u001b[0m \u001b[0mbins\u001b[0m\u001b[1;33m=\u001b[0m\u001b[1;32mNone\u001b[0m\u001b[1;33m,\u001b[0m \u001b[0mas_pandas\u001b[0m\u001b[1;33m=\u001b[0m\u001b[1;32mTrue\u001b[0m\u001b[1;33m)\u001b[0m\u001b[1;33m:\u001b[0m\u001b[1;33m\u001b[0m\u001b[1;33m\u001b[0m\u001b[0m\n",
      "\u001b[1;31mValueError\u001b[0m: feature_names mismatch: ['1   ', '2   ', '3   ', '4   ', '6   ', '7   ', '8   ', '15  ', '16  ', '17  ', '18  ', '20  ', '21  ', '22  ', '30  ', '31  ', '32  ', '34  ', '35  ', '36  ', '43  ', '44  ', '45  ', '46  ', '48  ', '49  ', '50  ', '58  ', '59  ', '60  ', '62  ', '63  ', '64  ', '72  ', '75  ', '77  ', '78  ', '79  ', '80  ', '81  ', '82  ', '83  ', '84  ', '91  ', '92  ', '93  ', '94  ', '95  ', '96  ', '97  ', '98  ', '106 ', '107 ', '110 ', '111 ', '112 ', '119 ', '120 ', '121 ', '122 ', '123 ', '124 ', '125 ', '126 ', '134 ', '135 ', '136 ', '138 ', '139 ', '140 ', '147 ', '148 ', '149 ', '150 ', '151 ', '152 ', '153 ', '154 ', '161 ', '162 ', '163 ', '164 ', '166 ', '167 ', '168 ', '175 ', '176 ', '177 ', '178 ', '180 ', '181 ', '182 ', '189 ', '190 ', '191 ', '192 ', '194 ', '195 ', '196 ', '915 ', '4159', '4216', '4446', '4447', '4448', '4449', '4451', '4457', '4461', '4475', '4476', '4477', '4478', '4479', '4480', '4481', '4483', '4484', '4485', '4486', '4488', '4489', '4490', '4491', '4492', '4493', '4494'] ['0  ', '1  ', '2  ', '3  ', '4  ', '5  ', '6  ', '7  ', '8  ', '9  ', '10 ', '11 ', '12 ', '13 ', '14 ', '15 ', '16 ', '17 ', '18 ', '19 ', '20 ', '21 ', '22 ', '23 ', '24 ', '25 ', '26 ', '27 ', '28 ', '29 ', '30 ', '31 ', '32 ', '33 ', '34 ', '35 ', '36 ', '37 ', '38 ', '39 ', '40 ', '41 ', '42 ', '43 ', '44 ', '45 ', '46 ', '47 ', '48 ', '49 ', '50 ', '51 ', '52 ', '53 ', '54 ', '55 ', '56 ', '57 ', '58 ', '59 ', '60 ', '61 ', '62 ', '63 ', '64 ', '65 ', '66 ', '67 ', '68 ', '69 ', '70 ', '71 ', '72 ', '73 ', '74 ', '75 ', '76 ', '77 ', '78 ', '79 ', '80 ', '81 ', '82 ', '83 ', '84 ', '85 ', '86 ', '87 ', '88 ', '89 ', '90 ', '91 ', '92 ', '93 ', '94 ', '95 ', '96 ', '97 ', '98 ', '99 ', '100', '101', '102', '103', '104', '105', '106', '107', '108', '109', '110', '111', '112', '113', '114', '115', '116', '117', '118', '119', '120', '121', '122', '123', '124', '125', '126']\nexpected 189 , 139 , 75  , 150 , 125 , 140 , 45  , 15  , 4448, 147 , 2   , 4481, 4494, 148 , 163 , 1   , 98  , 50  , 4477, 36  , 4492, 16  , 180 , 4490, 63  , 20  , 4484, 178 , 191 , 4479, 112 , 59  , 126 , 168 , 4216, 48  , 83  , 96  , 46  , 4451, 4461, 4476, 7   , 18  , 122 , 121 , 4457, 164 , 4447, 162 , 4485, 81  , 91  , 119 , 120 , 123 , 72  , 97  , 152 , 176 , 134 , 138 , 30  , 21  , 58  , 194 , 4488, 151 , 4159, 192 , 106 , 93  , 60  , 167 , 3   , 49  , 77  , 136 , 4446, 35  , 124 , 153 , 915 , 177 , 4   , 32  , 4480, 17  , 4449, 79  , 94  , 4483, 92  , 4491, 4489, 195 , 196 , 62  , 31  , 6   , 78  , 154 , 82  , 22  , 4478, 181 , 64  , 80  , 190 , 8   , 4475, 84  , 149 , 95  , 135 , 43  , 4486, 107 , 44  , 166 , 182 , 175 , 4493, 110 , 34  , 111 , 161  in input data\ntraining data did not have the following fields: 6  , 122, 43 , 107, 85 , 37 , 41 , 35 , 71 , 120, 57 , 70 , 54 , 64 , 112, 79 , 67 , 113, 27 , 22 , 59 , 108, 84 , 16 , 17 , 50 , 82 , 92 , 13 , 33 , 86 , 9  , 119, 124, 45 , 116, 14 , 101, 30 , 42 , 10 , 53 , 0  , 76 , 23 , 117, 90 , 95 , 36 , 99 , 97 , 111, 11 , 39 , 5  , 47 , 75 , 115, 110, 80 , 8  , 100, 38 , 69 , 126, 62 , 118, 56 , 78 , 104, 1  , 58 , 61 , 74 , 89 , 21 , 63 , 93 , 26 , 91 , 52 , 123, 24 , 28 , 98 , 15 , 4  , 12 , 65 , 87 , 2  , 29 , 25 , 51 , 125, 32 , 121, 66 , 105, 20 , 81 , 55 , 48 , 77 , 109, 44 , 7  , 68 , 103, 83 , 49 , 40 , 94 , 34 , 46 , 72 , 96 , 114, 106, 102, 3  , 18 , 31 , 60 , 73 , 88 , 19 "
     ]
    }
   ],
   "source": [
    "#test predict\n",
    "xgb_Xtest_Group0_pre = xgb_model_0.predict(Xtest_Group0_de)"
   ]
  },
  {
   "cell_type": "markdown",
   "metadata": {},
   "source": [
    "Group1"
   ]
  },
  {
   "cell_type": "code",
   "execution_count": 463,
   "metadata": {},
   "outputs": [],
   "source": [
    "XGroup1 = Group1.iloc[:, :-2]\n",
    "yGroup1 = Group1['total_price']"
   ]
  },
  {
   "cell_type": "code",
   "execution_count": 464,
   "metadata": {},
   "outputs": [],
   "source": [
    "#test\n",
    "Xtest_Group1 = test_Group1.iloc[:, :-2]"
   ]
  },
  {
   "cell_type": "code",
   "execution_count": 465,
   "metadata": {},
   "outputs": [],
   "source": [
    "forest = RandomForestRegressor(n_estimators=400,n_jobs=-1)\n",
    "forest_reg_1 = forest.fit(XGroup1, yGroup1)\n",
    "model_ex_1 = SelectFromModel(forest_reg_1, prefit=True)\n",
    "X1_ex = model_ex_1.transform(XGroup1)\n",
    "X1_ex = XGroup1[XGroup1.columns[model_ex_1.get_support()]]"
   ]
  },
  {
   "cell_type": "code",
   "execution_count": 466,
   "metadata": {},
   "outputs": [
    {
     "data": {
      "text/plain": [
       "(7531, 108)"
      ]
     },
     "execution_count": 466,
     "metadata": {},
     "output_type": "execute_result"
    }
   ],
   "source": [
    "X1_ex.shape"
   ]
  },
  {
   "cell_type": "code",
   "execution_count": 467,
   "metadata": {},
   "outputs": [],
   "source": [
    "#test 降維\n",
    "Xtest_Group1_de = pd.DataFrame(model_ex_1.transform(Xtest_Group1))"
   ]
  },
  {
   "cell_type": "code",
   "execution_count": 468,
   "metadata": {},
   "outputs": [],
   "source": [
    "trainX_1 , testX_1 , train_y_1 , test_y_1 = train_test_split (X1_ex , yGroup1, test_size = 0.3)"
   ]
  },
  {
   "cell_type": "code",
   "execution_count": 471,
   "metadata": {},
   "outputs": [
    {
     "name": "stdout",
     "output_type": "stream",
     "text": [
      "train 1.0\n",
      "test 0.913896376287657\n"
     ]
    }
   ],
   "source": [
    "extree_model_1 = extree.fit(trainX_1,train_y_1)\n",
    "print('train',extree_model_1.score(trainX_1,train_y_1))\n",
    "print('test',extree_model_1.score(testX_1,test_y_1))"
   ]
  },
  {
   "cell_type": "code",
   "execution_count": 472,
   "metadata": {},
   "outputs": [],
   "source": [
    "#test predict\n",
    "Xtest_Group1_pre = extree_model_1.predict(Xtest_Group1_de)"
   ]
  },
  {
   "cell_type": "code",
   "execution_count": 214,
   "metadata": {},
   "outputs": [
    {
     "name": "stderr",
     "output_type": "stream",
     "text": [
      "C:\\ProgramData\\Anaconda3\\lib\\site-packages\\xgboost\\core.py:587: FutureWarning: Series.base is deprecated and will be removed in a future version\n",
      "  if getattr(data, 'base', None) is not None and \\\n"
     ]
    },
    {
     "name": "stdout",
     "output_type": "stream",
     "text": [
      "train 0.9805384532801228\n",
      "test 0.9409612248344036\n"
     ]
    }
   ],
   "source": [
    "xgb_model_1 = xgbreg.fit(trainX_1,train_y_1)\n",
    "print('train',xgb_model_1.score(trainX_1,train_y_1))\n",
    "print('test',xgb_model_1.score(testX_1,test_y_1))"
   ]
  },
  {
   "cell_type": "code",
   "execution_count": 215,
   "metadata": {
    "collapsed": true
   },
   "outputs": [
    {
     "ename": "ValueError",
     "evalue": "feature_names mismatch: ['1   ', '2   ', '3   ', '4   ', '6   ', '7   ', '8   ', '15  ', '16  ', '17  ', '18  ', '20  ', '21  ', '22  ', '30  ', '31  ', '34  ', '35  ', '36  ', '44  ', '45  ', '46  ', '48  ', '49  ', '50  ', '58  ', '59  ', '60  ', '62  ', '63  ', '64  ', '72  ', '75  ', '77  ', '78  ', '79  ', '80  ', '82  ', '83  ', '84  ', '91  ', '92  ', '93  ', '94  ', '95  ', '96  ', '97  ', '98  ', '106 ', '107 ', '110 ', '111 ', '112 ', '119 ', '120 ', '121 ', '122 ', '124 ', '125 ', '126 ', '134 ', '135 ', '136 ', '138 ', '139 ', '140 ', '147 ', '148 ', '149 ', '150 ', '151 ', '152 ', '153 ', '154 ', '161 ', '162 ', '163 ', '164 ', '166 ', '167 ', '168 ', '175 ', '176 ', '177 ', '178 ', '180 ', '181 ', '182 ', '189 ', '190 ', '191 ', '192 ', '194 ', '195 ', '196 ', '3552', '4448', '4449', '4460', '4463', '4470', '4481', '4484', '4488', '4489', '4491', '4492', '4493', '4494'] ['0  ', '1  ', '2  ', '3  ', '4  ', '5  ', '6  ', '7  ', '8  ', '9  ', '10 ', '11 ', '12 ', '13 ', '14 ', '15 ', '16 ', '17 ', '18 ', '19 ', '20 ', '21 ', '22 ', '23 ', '24 ', '25 ', '26 ', '27 ', '28 ', '29 ', '30 ', '31 ', '32 ', '33 ', '34 ', '35 ', '36 ', '37 ', '38 ', '39 ', '40 ', '41 ', '42 ', '43 ', '44 ', '45 ', '46 ', '47 ', '48 ', '49 ', '50 ', '51 ', '52 ', '53 ', '54 ', '55 ', '56 ', '57 ', '58 ', '59 ', '60 ', '61 ', '62 ', '63 ', '64 ', '65 ', '66 ', '67 ', '68 ', '69 ', '70 ', '71 ', '72 ', '73 ', '74 ', '75 ', '76 ', '77 ', '78 ', '79 ', '80 ', '81 ', '82 ', '83 ', '84 ', '85 ', '86 ', '87 ', '88 ', '89 ', '90 ', '91 ', '92 ', '93 ', '94 ', '95 ', '96 ', '97 ', '98 ', '99 ', '100', '101', '102', '103', '104', '105', '106', '107', '108']\nexpected 189 , 139 , 75  , 150 , 4470, 125 , 140 , 45  , 15  , 4448, 147 , 2   , 4481, 4494, 148 , 163 , 1   , 98  , 50  , 36  , 4492, 16  , 180 , 63  , 20  , 4484, 178 , 191 , 112 , 59  , 126 , 168 , 48  , 3552, 4460, 83  , 96  , 46  , 7   , 18  , 122 , 121 , 164 , 162 , 91  , 119 , 120 , 72  , 97  , 152 , 176 , 134 , 138 , 30  , 21  , 58  , 194 , 4488, 151 , 192 , 106 , 93  , 60  , 167 , 3   , 49  , 77  , 136 , 35  , 124 , 153 , 177 , 4   , 17  , 4449, 79  , 94  , 92  , 4491, 4463, 195 , 4489, 196 , 62  , 31  , 6   , 78  , 154 , 82  , 22  , 181 , 64  , 80  , 190 , 8   , 84  , 149 , 95  , 135 , 107 , 44  , 166 , 182 , 175 , 4493, 110 , 34  , 111 , 161  in input data\ntraining data did not have the following fields: 6  , 43 , 107, 85 , 37 , 41 , 35 , 71 , 57 , 70 , 54 , 64 , 79 , 67 , 27 , 22 , 59 , 108, 84 , 16 , 17 , 50 , 82 , 92 , 13 , 33 , 86 , 9  , 45 , 14 , 101, 30 , 42 , 10 , 53 , 0  , 76 , 23 , 90 , 95 , 36 , 99 , 97 , 11 , 39 , 5  , 47 , 75 , 80 , 8  , 100, 38 , 69 , 62 , 56 , 78 , 104, 1  , 58 , 61 , 74 , 89 , 21 , 63 , 93 , 26 , 91 , 52 , 24 , 28 , 98 , 15 , 4  , 12 , 65 , 87 , 2  , 29 , 25 , 51 , 32 , 66 , 105, 20 , 81 , 55 , 48 , 77 , 44 , 7  , 68 , 103, 83 , 49 , 40 , 94 , 34 , 46 , 72 , 96 , 106, 102, 3  , 18 , 31 , 60 , 73 , 88 , 19 ",
     "output_type": "error",
     "traceback": [
      "\u001b[1;31m---------------------------------------------------------------------------\u001b[0m",
      "\u001b[1;31mValueError\u001b[0m                                Traceback (most recent call last)",
      "\u001b[1;32m<ipython-input-215-e1bcf482109f>\u001b[0m in \u001b[0;36m<module>\u001b[1;34m\u001b[0m\n\u001b[0;32m      1\u001b[0m \u001b[1;31m#test predict\u001b[0m\u001b[1;33m\u001b[0m\u001b[1;33m\u001b[0m\u001b[1;33m\u001b[0m\u001b[0m\n\u001b[1;32m----> 2\u001b[1;33m \u001b[0mxgb_Xtest_Group1_pre\u001b[0m \u001b[1;33m=\u001b[0m \u001b[0mxgb_model_1\u001b[0m\u001b[1;33m.\u001b[0m\u001b[0mpredict\u001b[0m\u001b[1;33m(\u001b[0m\u001b[0mXtest_Group1_de\u001b[0m\u001b[1;33m)\u001b[0m\u001b[1;33m\u001b[0m\u001b[1;33m\u001b[0m\u001b[0m\n\u001b[0m",
      "\u001b[1;32mC:\\ProgramData\\Anaconda3\\lib\\site-packages\\xgboost\\sklearn.py\u001b[0m in \u001b[0;36mpredict\u001b[1;34m(self, data, output_margin, ntree_limit, validate_features)\u001b[0m\n\u001b[0;32m    454\u001b[0m                                           \u001b[0moutput_margin\u001b[0m\u001b[1;33m=\u001b[0m\u001b[0moutput_margin\u001b[0m\u001b[1;33m,\u001b[0m\u001b[1;33m\u001b[0m\u001b[1;33m\u001b[0m\u001b[0m\n\u001b[0;32m    455\u001b[0m                                           \u001b[0mntree_limit\u001b[0m\u001b[1;33m=\u001b[0m\u001b[0mntree_limit\u001b[0m\u001b[1;33m,\u001b[0m\u001b[1;33m\u001b[0m\u001b[1;33m\u001b[0m\u001b[0m\n\u001b[1;32m--> 456\u001b[1;33m                                           validate_features=validate_features)\n\u001b[0m\u001b[0;32m    457\u001b[0m \u001b[1;33m\u001b[0m\u001b[0m\n\u001b[0;32m    458\u001b[0m     \u001b[1;32mdef\u001b[0m \u001b[0mapply\u001b[0m\u001b[1;33m(\u001b[0m\u001b[0mself\u001b[0m\u001b[1;33m,\u001b[0m \u001b[0mX\u001b[0m\u001b[1;33m,\u001b[0m \u001b[0mntree_limit\u001b[0m\u001b[1;33m=\u001b[0m\u001b[1;36m0\u001b[0m\u001b[1;33m)\u001b[0m\u001b[1;33m:\u001b[0m\u001b[1;33m\u001b[0m\u001b[1;33m\u001b[0m\u001b[0m\n",
      "\u001b[1;32mC:\\ProgramData\\Anaconda3\\lib\\site-packages\\xgboost\\core.py\u001b[0m in \u001b[0;36mpredict\u001b[1;34m(self, data, output_margin, ntree_limit, pred_leaf, pred_contribs, approx_contribs, pred_interactions, validate_features)\u001b[0m\n\u001b[0;32m   1282\u001b[0m \u001b[1;33m\u001b[0m\u001b[0m\n\u001b[0;32m   1283\u001b[0m         \u001b[1;32mif\u001b[0m \u001b[0mvalidate_features\u001b[0m\u001b[1;33m:\u001b[0m\u001b[1;33m\u001b[0m\u001b[1;33m\u001b[0m\u001b[0m\n\u001b[1;32m-> 1284\u001b[1;33m             \u001b[0mself\u001b[0m\u001b[1;33m.\u001b[0m\u001b[0m_validate_features\u001b[0m\u001b[1;33m(\u001b[0m\u001b[0mdata\u001b[0m\u001b[1;33m)\u001b[0m\u001b[1;33m\u001b[0m\u001b[1;33m\u001b[0m\u001b[0m\n\u001b[0m\u001b[0;32m   1285\u001b[0m \u001b[1;33m\u001b[0m\u001b[0m\n\u001b[0;32m   1286\u001b[0m         \u001b[0mlength\u001b[0m \u001b[1;33m=\u001b[0m \u001b[0mc_bst_ulong\u001b[0m\u001b[1;33m(\u001b[0m\u001b[1;33m)\u001b[0m\u001b[1;33m\u001b[0m\u001b[1;33m\u001b[0m\u001b[0m\n",
      "\u001b[1;32mC:\\ProgramData\\Anaconda3\\lib\\site-packages\\xgboost\\core.py\u001b[0m in \u001b[0;36m_validate_features\u001b[1;34m(self, data)\u001b[0m\n\u001b[0;32m   1688\u001b[0m \u001b[1;33m\u001b[0m\u001b[0m\n\u001b[0;32m   1689\u001b[0m                 raise ValueError(msg.format(self.feature_names,\n\u001b[1;32m-> 1690\u001b[1;33m                                             data.feature_names))\n\u001b[0m\u001b[0;32m   1691\u001b[0m \u001b[1;33m\u001b[0m\u001b[0m\n\u001b[0;32m   1692\u001b[0m     \u001b[1;32mdef\u001b[0m \u001b[0mget_split_value_histogram\u001b[0m\u001b[1;33m(\u001b[0m\u001b[0mself\u001b[0m\u001b[1;33m,\u001b[0m \u001b[0mfeature\u001b[0m\u001b[1;33m,\u001b[0m \u001b[0mfmap\u001b[0m\u001b[1;33m=\u001b[0m\u001b[1;34m''\u001b[0m\u001b[1;33m,\u001b[0m \u001b[0mbins\u001b[0m\u001b[1;33m=\u001b[0m\u001b[1;32mNone\u001b[0m\u001b[1;33m,\u001b[0m \u001b[0mas_pandas\u001b[0m\u001b[1;33m=\u001b[0m\u001b[1;32mTrue\u001b[0m\u001b[1;33m)\u001b[0m\u001b[1;33m:\u001b[0m\u001b[1;33m\u001b[0m\u001b[1;33m\u001b[0m\u001b[0m\n",
      "\u001b[1;31mValueError\u001b[0m: feature_names mismatch: ['1   ', '2   ', '3   ', '4   ', '6   ', '7   ', '8   ', '15  ', '16  ', '17  ', '18  ', '20  ', '21  ', '22  ', '30  ', '31  ', '34  ', '35  ', '36  ', '44  ', '45  ', '46  ', '48  ', '49  ', '50  ', '58  ', '59  ', '60  ', '62  ', '63  ', '64  ', '72  ', '75  ', '77  ', '78  ', '79  ', '80  ', '82  ', '83  ', '84  ', '91  ', '92  ', '93  ', '94  ', '95  ', '96  ', '97  ', '98  ', '106 ', '107 ', '110 ', '111 ', '112 ', '119 ', '120 ', '121 ', '122 ', '124 ', '125 ', '126 ', '134 ', '135 ', '136 ', '138 ', '139 ', '140 ', '147 ', '148 ', '149 ', '150 ', '151 ', '152 ', '153 ', '154 ', '161 ', '162 ', '163 ', '164 ', '166 ', '167 ', '168 ', '175 ', '176 ', '177 ', '178 ', '180 ', '181 ', '182 ', '189 ', '190 ', '191 ', '192 ', '194 ', '195 ', '196 ', '3552', '4448', '4449', '4460', '4463', '4470', '4481', '4484', '4488', '4489', '4491', '4492', '4493', '4494'] ['0  ', '1  ', '2  ', '3  ', '4  ', '5  ', '6  ', '7  ', '8  ', '9  ', '10 ', '11 ', '12 ', '13 ', '14 ', '15 ', '16 ', '17 ', '18 ', '19 ', '20 ', '21 ', '22 ', '23 ', '24 ', '25 ', '26 ', '27 ', '28 ', '29 ', '30 ', '31 ', '32 ', '33 ', '34 ', '35 ', '36 ', '37 ', '38 ', '39 ', '40 ', '41 ', '42 ', '43 ', '44 ', '45 ', '46 ', '47 ', '48 ', '49 ', '50 ', '51 ', '52 ', '53 ', '54 ', '55 ', '56 ', '57 ', '58 ', '59 ', '60 ', '61 ', '62 ', '63 ', '64 ', '65 ', '66 ', '67 ', '68 ', '69 ', '70 ', '71 ', '72 ', '73 ', '74 ', '75 ', '76 ', '77 ', '78 ', '79 ', '80 ', '81 ', '82 ', '83 ', '84 ', '85 ', '86 ', '87 ', '88 ', '89 ', '90 ', '91 ', '92 ', '93 ', '94 ', '95 ', '96 ', '97 ', '98 ', '99 ', '100', '101', '102', '103', '104', '105', '106', '107', '108']\nexpected 189 , 139 , 75  , 150 , 4470, 125 , 140 , 45  , 15  , 4448, 147 , 2   , 4481, 4494, 148 , 163 , 1   , 98  , 50  , 36  , 4492, 16  , 180 , 63  , 20  , 4484, 178 , 191 , 112 , 59  , 126 , 168 , 48  , 3552, 4460, 83  , 96  , 46  , 7   , 18  , 122 , 121 , 164 , 162 , 91  , 119 , 120 , 72  , 97  , 152 , 176 , 134 , 138 , 30  , 21  , 58  , 194 , 4488, 151 , 192 , 106 , 93  , 60  , 167 , 3   , 49  , 77  , 136 , 35  , 124 , 153 , 177 , 4   , 17  , 4449, 79  , 94  , 92  , 4491, 4463, 195 , 4489, 196 , 62  , 31  , 6   , 78  , 154 , 82  , 22  , 181 , 64  , 80  , 190 , 8   , 84  , 149 , 95  , 135 , 107 , 44  , 166 , 182 , 175 , 4493, 110 , 34  , 111 , 161  in input data\ntraining data did not have the following fields: 6  , 43 , 107, 85 , 37 , 41 , 35 , 71 , 57 , 70 , 54 , 64 , 79 , 67 , 27 , 22 , 59 , 108, 84 , 16 , 17 , 50 , 82 , 92 , 13 , 33 , 86 , 9  , 45 , 14 , 101, 30 , 42 , 10 , 53 , 0  , 76 , 23 , 90 , 95 , 36 , 99 , 97 , 11 , 39 , 5  , 47 , 75 , 80 , 8  , 100, 38 , 69 , 62 , 56 , 78 , 104, 1  , 58 , 61 , 74 , 89 , 21 , 63 , 93 , 26 , 91 , 52 , 24 , 28 , 98 , 15 , 4  , 12 , 65 , 87 , 2  , 29 , 25 , 51 , 32 , 66 , 105, 20 , 81 , 55 , 48 , 77 , 44 , 7  , 68 , 103, 83 , 49 , 40 , 94 , 34 , 46 , 72 , 96 , 106, 102, 3  , 18 , 31 , 60 , 73 , 88 , 19 "
     ]
    }
   ],
   "source": [
    "#test predict\n",
    "xgb_Xtest_Group1_pre = xgb_model_1.predict(Xtest_Group1_de)"
   ]
  },
  {
   "cell_type": "markdown",
   "metadata": {},
   "source": [
    "Group2"
   ]
  },
  {
   "cell_type": "code",
   "execution_count": 473,
   "metadata": {},
   "outputs": [
    {
     "data": {
      "text/plain": [
       "(5534, 4495)"
      ]
     },
     "execution_count": 473,
     "metadata": {},
     "output_type": "execute_result"
    }
   ],
   "source": [
    "XGroup2 = Group2.iloc[:, :-2]\n",
    "yGroup2 = Group2['total_price']\n",
    "XGroup2.shape"
   ]
  },
  {
   "cell_type": "code",
   "execution_count": 474,
   "metadata": {},
   "outputs": [
    {
     "data": {
      "text/plain": [
       "(982, 4495)"
      ]
     },
     "execution_count": 474,
     "metadata": {},
     "output_type": "execute_result"
    }
   ],
   "source": [
    "#test\n",
    "Xtest_Group2 = test_Group2.iloc[:, :-2]\n",
    "Xtest_Group2.shape"
   ]
  },
  {
   "cell_type": "code",
   "execution_count": 475,
   "metadata": {},
   "outputs": [],
   "source": [
    "forest = RandomForestRegressor(n_estimators=400,n_jobs=-1)\n",
    "forest_reg_2 = forest.fit(XGroup2, yGroup2)\n",
    "model_ex_2 = SelectFromModel(forest_reg_2, prefit=True)\n",
    "X2_ex = model_ex_2.transform(XGroup2)\n",
    "X2_ex = XGroup2[XGroup2.columns[model_ex_2.get_support()]]"
   ]
  },
  {
   "cell_type": "code",
   "execution_count": 476,
   "metadata": {},
   "outputs": [
    {
     "data": {
      "text/plain": [
       "(5534, 128)"
      ]
     },
     "execution_count": 476,
     "metadata": {},
     "output_type": "execute_result"
    }
   ],
   "source": [
    "X2_ex.shape"
   ]
  },
  {
   "cell_type": "code",
   "execution_count": 477,
   "metadata": {},
   "outputs": [
    {
     "data": {
      "text/plain": [
       "(982, 127)"
      ]
     },
     "execution_count": 477,
     "metadata": {},
     "output_type": "execute_result"
    }
   ],
   "source": [
    "Xtest_Group2_de.shape"
   ]
  },
  {
   "cell_type": "code",
   "execution_count": 478,
   "metadata": {},
   "outputs": [],
   "source": [
    "#test 降維\n",
    "Xtest_Group2_de = pd.DataFrame(model_ex_2.transform(Xtest_Group2))"
   ]
  },
  {
   "cell_type": "code",
   "execution_count": 484,
   "metadata": {},
   "outputs": [],
   "source": [
    "trainX_2 , testX_2 , train_y_2 , test_y_2 = train_test_split (X2_ex , yGroup2, test_size = 0.3)"
   ]
  },
  {
   "cell_type": "code",
   "execution_count": 489,
   "metadata": {},
   "outputs": [
    {
     "name": "stdout",
     "output_type": "stream",
     "text": [
      "train 1.0\n",
      "test 0.8642832295391535\n"
     ]
    }
   ],
   "source": [
    "extree_model_2 = extree.fit(trainX_2,train_y_2)\n",
    "print('train',extree_model_2.score(trainX_2,train_y_2))\n",
    "print('test',extree_model_2.score(testX_2,test_y_2))"
   ]
  },
  {
   "cell_type": "code",
   "execution_count": 490,
   "metadata": {},
   "outputs": [],
   "source": [
    "#test predict\n",
    "Xtest_Group2_pre = extree_model_2.predict(Xtest_Group2_de)"
   ]
  },
  {
   "cell_type": "code",
   "execution_count": 238,
   "metadata": {},
   "outputs": [
    {
     "name": "stderr",
     "output_type": "stream",
     "text": [
      "C:\\ProgramData\\Anaconda3\\lib\\site-packages\\xgboost\\core.py:587: FutureWarning: Series.base is deprecated and will be removed in a future version\n",
      "  if getattr(data, 'base', None) is not None and \\\n"
     ]
    },
    {
     "name": "stdout",
     "output_type": "stream",
     "text": [
      "train 0.9823470041936401\n",
      "test 0.9028607349121793\n"
     ]
    }
   ],
   "source": [
    "xgb_model_2 = xgbreg.fit(trainX_2,train_y_2)\n",
    "print('train',xgb_model_2.score(trainX_2,train_y_2))\n",
    "print('test',xgb_model_2.score(testX_2,test_y_2))"
   ]
  },
  {
   "cell_type": "code",
   "execution_count": 241,
   "metadata": {
    "collapsed": true
   },
   "outputs": [
    {
     "ename": "ValueError",
     "evalue": "feature_names mismatch: ['1   ', '2   ', '3   ', '4   ', '6   ', '7   ', '8   ', '15  ', '16  ', '17  ', '18  ', '20  ', '21  ', '22  ', '30  ', '31  ', '34  ', '35  ', '36  ', '43  ', '44  ', '45  ', '46  ', '48  ', '49  ', '50  ', '58  ', '59  ', '60  ', '62  ', '63  ', '64  ', '72  ', '73  ', '75  ', '77  ', '78  ', '79  ', '80  ', '82  ', '83  ', '84  ', '91  ', '92  ', '93  ', '94  ', '95  ', '96  ', '97  ', '98  ', '106 ', '107 ', '108 ', '110 ', '111 ', '112 ', '115 ', '119 ', '120 ', '121 ', '122 ', '124 ', '125 ', '126 ', '134 ', '135 ', '136 ', '138 ', '139 ', '140 ', '147 ', '148 ', '149 ', '150 ', '151 ', '152 ', '153 ', '154 ', '161 ', '162 ', '163 ', '164 ', '166 ', '167 ', '168 ', '175 ', '176 ', '177 ', '178 ', '180 ', '181 ', '182 ', '189 ', '190 ', '191 ', '192 ', '194 ', '195 ', '196 ', '1443', '1555', '4446', '4447', '4448', '4449', '4451', '4457', '4460', '4462', '4463', '4475', '4476', '4477', '4478', '4480', '4481', '4482', '4483', '4484', '4486', '4488', '4489', '4490', '4491', '4492', '4493', '4494'] ['0  ', '1  ', '2  ', '3  ', '4  ', '5  ', '6  ', '7  ', '8  ', '9  ', '10 ', '11 ', '12 ', '13 ', '14 ', '15 ', '16 ', '17 ', '18 ', '19 ', '20 ', '21 ', '22 ', '23 ', '24 ', '25 ', '26 ', '27 ', '28 ', '29 ', '30 ', '31 ', '32 ', '33 ', '34 ', '35 ', '36 ', '37 ', '38 ', '39 ', '40 ', '41 ', '42 ', '43 ', '44 ', '45 ', '46 ', '47 ', '48 ', '49 ', '50 ', '51 ', '52 ', '53 ', '54 ', '55 ', '56 ', '57 ', '58 ', '59 ', '60 ', '61 ', '62 ', '63 ', '64 ', '65 ', '66 ', '67 ', '68 ', '69 ', '70 ', '71 ', '72 ', '73 ', '74 ', '75 ', '76 ', '77 ', '78 ', '79 ', '80 ', '81 ', '82 ', '83 ', '84 ', '85 ', '86 ', '87 ', '88 ', '89 ', '90 ', '91 ', '92 ', '93 ', '94 ', '95 ', '96 ', '97 ', '98 ', '99 ', '100', '101', '102', '103', '104', '105', '106', '107', '108', '109', '110', '111', '112', '113', '114', '115', '116', '117', '118', '119', '120', '121', '122', '123', '124', '125', '126']\nexpected 189 , 139 , 75  , 115 , 150 , 125 , 140 , 45  , 15  , 4448, 147 , 2   , 4481, 4494, 148 , 163 , 4462, 1   , 98  , 50  , 4477, 36  , 4492, 16  , 180 , 4490, 63  , 1555, 20  , 4484, 178 , 191 , 112 , 59  , 126 , 168 , 48  , 108 , 4460, 83  , 96  , 46  , 4451, 4476, 7   , 18  , 122 , 121 , 4457, 164 , 4447, 162 , 91  , 1443, 119 , 120 , 72  , 97  , 152 , 176 , 134 , 138 , 30  , 21  , 58  , 194 , 4488, 151 , 192 , 106 , 93  , 60  , 167 , 3   , 49  , 77  , 4482, 136 , 4446, 35  , 124 , 153 , 177 , 4   , 73  , 4480, 17  , 4449, 79  , 94  , 4483, 92  , 4491, 4463, 195 , 4489, 196 , 62  , 31  , 6   , 78  , 154 , 82  , 22  , 4478, 181 , 64  , 80  , 190 , 8   , 4475, 84  , 149 , 95  , 135 , 43  , 4486, 107 , 44  , 166 , 182 , 175 , 4493, 110 , 34  , 111 , 161  in input data\ntraining data did not have the following fields: 6  , 122, 43 , 107, 85 , 37 , 41 , 35 , 71 , 120, 57 , 70 , 54 , 64 , 112, 79 , 67 , 113, 27 , 22 , 59 , 108, 84 , 16 , 17 , 50 , 82 , 92 , 13 , 33 , 86 , 9  , 119, 124, 45 , 116, 14 , 101, 30 , 42 , 10 , 53 , 0  , 76 , 23 , 117, 90 , 95 , 36 , 99 , 97 , 111, 11 , 39 , 5  , 47 , 75 , 115, 110, 80 , 8  , 100, 38 , 69 , 126, 62 , 118, 56 , 78 , 104, 1  , 58 , 61 , 74 , 89 , 21 , 63 , 93 , 26 , 91 , 52 , 123, 24 , 28 , 98 , 15 , 4  , 12 , 65 , 87 , 2  , 29 , 25 , 51 , 125, 32 , 121, 66 , 105, 20 , 81 , 55 , 48 , 77 , 109, 44 , 7  , 68 , 103, 83 , 49 , 40 , 94 , 34 , 46 , 72 , 96 , 114, 106, 102, 3  , 18 , 31 , 60 , 73 , 88 , 19 ",
     "output_type": "error",
     "traceback": [
      "\u001b[1;31m---------------------------------------------------------------------------\u001b[0m",
      "\u001b[1;31mValueError\u001b[0m                                Traceback (most recent call last)",
      "\u001b[1;32m<ipython-input-241-e7930aff10a7>\u001b[0m in \u001b[0;36m<module>\u001b[1;34m\u001b[0m\n\u001b[0;32m      1\u001b[0m \u001b[1;31m#test predict\u001b[0m\u001b[1;33m\u001b[0m\u001b[1;33m\u001b[0m\u001b[1;33m\u001b[0m\u001b[0m\n\u001b[0;32m      2\u001b[0m \u001b[0mxgb_Xtest_Group2_de\u001b[0m \u001b[1;33m=\u001b[0m \u001b[0mpd\u001b[0m\u001b[1;33m.\u001b[0m\u001b[0mDataFrame\u001b[0m\u001b[1;33m(\u001b[0m\u001b[0mXtest_Group2_de\u001b[0m\u001b[1;33m)\u001b[0m\u001b[1;33m\u001b[0m\u001b[1;33m\u001b[0m\u001b[0m\n\u001b[1;32m----> 3\u001b[1;33m \u001b[0mxgb_Xtest_Group2_pre\u001b[0m \u001b[1;33m=\u001b[0m \u001b[0mxgb_model_2\u001b[0m\u001b[1;33m.\u001b[0m\u001b[0mpredict\u001b[0m\u001b[1;33m(\u001b[0m\u001b[0mxgb_Xtest_Group2_de\u001b[0m\u001b[1;33m)\u001b[0m\u001b[1;33m\u001b[0m\u001b[1;33m\u001b[0m\u001b[0m\n\u001b[0m",
      "\u001b[1;32mC:\\ProgramData\\Anaconda3\\lib\\site-packages\\xgboost\\sklearn.py\u001b[0m in \u001b[0;36mpredict\u001b[1;34m(self, data, output_margin, ntree_limit, validate_features)\u001b[0m\n\u001b[0;32m    454\u001b[0m                                           \u001b[0moutput_margin\u001b[0m\u001b[1;33m=\u001b[0m\u001b[0moutput_margin\u001b[0m\u001b[1;33m,\u001b[0m\u001b[1;33m\u001b[0m\u001b[1;33m\u001b[0m\u001b[0m\n\u001b[0;32m    455\u001b[0m                                           \u001b[0mntree_limit\u001b[0m\u001b[1;33m=\u001b[0m\u001b[0mntree_limit\u001b[0m\u001b[1;33m,\u001b[0m\u001b[1;33m\u001b[0m\u001b[1;33m\u001b[0m\u001b[0m\n\u001b[1;32m--> 456\u001b[1;33m                                           validate_features=validate_features)\n\u001b[0m\u001b[0;32m    457\u001b[0m \u001b[1;33m\u001b[0m\u001b[0m\n\u001b[0;32m    458\u001b[0m     \u001b[1;32mdef\u001b[0m \u001b[0mapply\u001b[0m\u001b[1;33m(\u001b[0m\u001b[0mself\u001b[0m\u001b[1;33m,\u001b[0m \u001b[0mX\u001b[0m\u001b[1;33m,\u001b[0m \u001b[0mntree_limit\u001b[0m\u001b[1;33m=\u001b[0m\u001b[1;36m0\u001b[0m\u001b[1;33m)\u001b[0m\u001b[1;33m:\u001b[0m\u001b[1;33m\u001b[0m\u001b[1;33m\u001b[0m\u001b[0m\n",
      "\u001b[1;32mC:\\ProgramData\\Anaconda3\\lib\\site-packages\\xgboost\\core.py\u001b[0m in \u001b[0;36mpredict\u001b[1;34m(self, data, output_margin, ntree_limit, pred_leaf, pred_contribs, approx_contribs, pred_interactions, validate_features)\u001b[0m\n\u001b[0;32m   1282\u001b[0m \u001b[1;33m\u001b[0m\u001b[0m\n\u001b[0;32m   1283\u001b[0m         \u001b[1;32mif\u001b[0m \u001b[0mvalidate_features\u001b[0m\u001b[1;33m:\u001b[0m\u001b[1;33m\u001b[0m\u001b[1;33m\u001b[0m\u001b[0m\n\u001b[1;32m-> 1284\u001b[1;33m             \u001b[0mself\u001b[0m\u001b[1;33m.\u001b[0m\u001b[0m_validate_features\u001b[0m\u001b[1;33m(\u001b[0m\u001b[0mdata\u001b[0m\u001b[1;33m)\u001b[0m\u001b[1;33m\u001b[0m\u001b[1;33m\u001b[0m\u001b[0m\n\u001b[0m\u001b[0;32m   1285\u001b[0m \u001b[1;33m\u001b[0m\u001b[0m\n\u001b[0;32m   1286\u001b[0m         \u001b[0mlength\u001b[0m \u001b[1;33m=\u001b[0m \u001b[0mc_bst_ulong\u001b[0m\u001b[1;33m(\u001b[0m\u001b[1;33m)\u001b[0m\u001b[1;33m\u001b[0m\u001b[1;33m\u001b[0m\u001b[0m\n",
      "\u001b[1;32mC:\\ProgramData\\Anaconda3\\lib\\site-packages\\xgboost\\core.py\u001b[0m in \u001b[0;36m_validate_features\u001b[1;34m(self, data)\u001b[0m\n\u001b[0;32m   1688\u001b[0m \u001b[1;33m\u001b[0m\u001b[0m\n\u001b[0;32m   1689\u001b[0m                 raise ValueError(msg.format(self.feature_names,\n\u001b[1;32m-> 1690\u001b[1;33m                                             data.feature_names))\n\u001b[0m\u001b[0;32m   1691\u001b[0m \u001b[1;33m\u001b[0m\u001b[0m\n\u001b[0;32m   1692\u001b[0m     \u001b[1;32mdef\u001b[0m \u001b[0mget_split_value_histogram\u001b[0m\u001b[1;33m(\u001b[0m\u001b[0mself\u001b[0m\u001b[1;33m,\u001b[0m \u001b[0mfeature\u001b[0m\u001b[1;33m,\u001b[0m \u001b[0mfmap\u001b[0m\u001b[1;33m=\u001b[0m\u001b[1;34m''\u001b[0m\u001b[1;33m,\u001b[0m \u001b[0mbins\u001b[0m\u001b[1;33m=\u001b[0m\u001b[1;32mNone\u001b[0m\u001b[1;33m,\u001b[0m \u001b[0mas_pandas\u001b[0m\u001b[1;33m=\u001b[0m\u001b[1;32mTrue\u001b[0m\u001b[1;33m)\u001b[0m\u001b[1;33m:\u001b[0m\u001b[1;33m\u001b[0m\u001b[1;33m\u001b[0m\u001b[0m\n",
      "\u001b[1;31mValueError\u001b[0m: feature_names mismatch: ['1   ', '2   ', '3   ', '4   ', '6   ', '7   ', '8   ', '15  ', '16  ', '17  ', '18  ', '20  ', '21  ', '22  ', '30  ', '31  ', '34  ', '35  ', '36  ', '43  ', '44  ', '45  ', '46  ', '48  ', '49  ', '50  ', '58  ', '59  ', '60  ', '62  ', '63  ', '64  ', '72  ', '73  ', '75  ', '77  ', '78  ', '79  ', '80  ', '82  ', '83  ', '84  ', '91  ', '92  ', '93  ', '94  ', '95  ', '96  ', '97  ', '98  ', '106 ', '107 ', '108 ', '110 ', '111 ', '112 ', '115 ', '119 ', '120 ', '121 ', '122 ', '124 ', '125 ', '126 ', '134 ', '135 ', '136 ', '138 ', '139 ', '140 ', '147 ', '148 ', '149 ', '150 ', '151 ', '152 ', '153 ', '154 ', '161 ', '162 ', '163 ', '164 ', '166 ', '167 ', '168 ', '175 ', '176 ', '177 ', '178 ', '180 ', '181 ', '182 ', '189 ', '190 ', '191 ', '192 ', '194 ', '195 ', '196 ', '1443', '1555', '4446', '4447', '4448', '4449', '4451', '4457', '4460', '4462', '4463', '4475', '4476', '4477', '4478', '4480', '4481', '4482', '4483', '4484', '4486', '4488', '4489', '4490', '4491', '4492', '4493', '4494'] ['0  ', '1  ', '2  ', '3  ', '4  ', '5  ', '6  ', '7  ', '8  ', '9  ', '10 ', '11 ', '12 ', '13 ', '14 ', '15 ', '16 ', '17 ', '18 ', '19 ', '20 ', '21 ', '22 ', '23 ', '24 ', '25 ', '26 ', '27 ', '28 ', '29 ', '30 ', '31 ', '32 ', '33 ', '34 ', '35 ', '36 ', '37 ', '38 ', '39 ', '40 ', '41 ', '42 ', '43 ', '44 ', '45 ', '46 ', '47 ', '48 ', '49 ', '50 ', '51 ', '52 ', '53 ', '54 ', '55 ', '56 ', '57 ', '58 ', '59 ', '60 ', '61 ', '62 ', '63 ', '64 ', '65 ', '66 ', '67 ', '68 ', '69 ', '70 ', '71 ', '72 ', '73 ', '74 ', '75 ', '76 ', '77 ', '78 ', '79 ', '80 ', '81 ', '82 ', '83 ', '84 ', '85 ', '86 ', '87 ', '88 ', '89 ', '90 ', '91 ', '92 ', '93 ', '94 ', '95 ', '96 ', '97 ', '98 ', '99 ', '100', '101', '102', '103', '104', '105', '106', '107', '108', '109', '110', '111', '112', '113', '114', '115', '116', '117', '118', '119', '120', '121', '122', '123', '124', '125', '126']\nexpected 189 , 139 , 75  , 115 , 150 , 125 , 140 , 45  , 15  , 4448, 147 , 2   , 4481, 4494, 148 , 163 , 4462, 1   , 98  , 50  , 4477, 36  , 4492, 16  , 180 , 4490, 63  , 1555, 20  , 4484, 178 , 191 , 112 , 59  , 126 , 168 , 48  , 108 , 4460, 83  , 96  , 46  , 4451, 4476, 7   , 18  , 122 , 121 , 4457, 164 , 4447, 162 , 91  , 1443, 119 , 120 , 72  , 97  , 152 , 176 , 134 , 138 , 30  , 21  , 58  , 194 , 4488, 151 , 192 , 106 , 93  , 60  , 167 , 3   , 49  , 77  , 4482, 136 , 4446, 35  , 124 , 153 , 177 , 4   , 73  , 4480, 17  , 4449, 79  , 94  , 4483, 92  , 4491, 4463, 195 , 4489, 196 , 62  , 31  , 6   , 78  , 154 , 82  , 22  , 4478, 181 , 64  , 80  , 190 , 8   , 4475, 84  , 149 , 95  , 135 , 43  , 4486, 107 , 44  , 166 , 182 , 175 , 4493, 110 , 34  , 111 , 161  in input data\ntraining data did not have the following fields: 6  , 122, 43 , 107, 85 , 37 , 41 , 35 , 71 , 120, 57 , 70 , 54 , 64 , 112, 79 , 67 , 113, 27 , 22 , 59 , 108, 84 , 16 , 17 , 50 , 82 , 92 , 13 , 33 , 86 , 9  , 119, 124, 45 , 116, 14 , 101, 30 , 42 , 10 , 53 , 0  , 76 , 23 , 117, 90 , 95 , 36 , 99 , 97 , 111, 11 , 39 , 5  , 47 , 75 , 115, 110, 80 , 8  , 100, 38 , 69 , 126, 62 , 118, 56 , 78 , 104, 1  , 58 , 61 , 74 , 89 , 21 , 63 , 93 , 26 , 91 , 52 , 123, 24 , 28 , 98 , 15 , 4  , 12 , 65 , 87 , 2  , 29 , 25 , 51 , 125, 32 , 121, 66 , 105, 20 , 81 , 55 , 48 , 77 , 109, 44 , 7  , 68 , 103, 83 , 49 , 40 , 94 , 34 , 46 , 72 , 96 , 114, 106, 102, 3  , 18 , 31 , 60 , 73 , 88 , 19 "
     ]
    }
   ],
   "source": [
    "#test predict\n",
    "xgb_Xtest_Group2_de = pd.DataFrame(Xtest_Group2_de)\n",
    "xgb_Xtest_Group2_pre = xgb_model_2.predict(xgb_Xtest_Group2_de)"
   ]
  },
  {
   "cell_type": "markdown",
   "metadata": {},
   "source": [
    "Group3"
   ]
  },
  {
   "cell_type": "code",
   "execution_count": 491,
   "metadata": {},
   "outputs": [],
   "source": [
    "XGroup3 = Group3.iloc[:, :-2]\n",
    "yGroup3 = Group3['total_price']"
   ]
  },
  {
   "cell_type": "code",
   "execution_count": 492,
   "metadata": {},
   "outputs": [
    {
     "data": {
      "text/plain": [
       "(1122, 4495)"
      ]
     },
     "execution_count": 492,
     "metadata": {},
     "output_type": "execute_result"
    }
   ],
   "source": [
    "#test\n",
    "Xtest_Group3 = test_Group3.iloc[:, :-2]\n",
    "Xtest_Group3.shape"
   ]
  },
  {
   "cell_type": "code",
   "execution_count": 493,
   "metadata": {},
   "outputs": [],
   "source": [
    "forest = RandomForestRegressor(n_estimators=400,n_jobs=-1)\n",
    "forest_reg_3 = forest.fit(XGroup3, yGroup3)\n",
    "model_ex_3 = SelectFromModel(forest_reg_3, prefit=True)\n",
    "X3_ex = model_ex_3.transform(XGroup3)\n",
    "X3_ex = XGroup3[XGroup3.columns[model_ex_3.get_support()]]"
   ]
  },
  {
   "cell_type": "code",
   "execution_count": 494,
   "metadata": {},
   "outputs": [
    {
     "data": {
      "text/plain": [
       "(6458, 136)"
      ]
     },
     "execution_count": 494,
     "metadata": {},
     "output_type": "execute_result"
    }
   ],
   "source": [
    "X3_ex.shape"
   ]
  },
  {
   "cell_type": "code",
   "execution_count": 495,
   "metadata": {},
   "outputs": [],
   "source": [
    "#test 降維\n",
    "Xtest_Group3_de = pd.DataFrame(model_ex_3.transform(Xtest_Group3))"
   ]
  },
  {
   "cell_type": "code",
   "execution_count": 496,
   "metadata": {},
   "outputs": [],
   "source": [
    "trainX_3 , testX_3 , train_y_3 , test_y_3 = train_test_split (X3_ex , yGroup3, test_size = 0.2)"
   ]
  },
  {
   "cell_type": "code",
   "execution_count": 498,
   "metadata": {},
   "outputs": [
    {
     "name": "stdout",
     "output_type": "stream",
     "text": [
      "train 1.0\n",
      "test 0.8287743435695583\n"
     ]
    }
   ],
   "source": [
    "extree_model_3 = extree.fit(trainX_3,train_y_3)\n",
    "print('train',extree_model_3.score(trainX_3,train_y_3))\n",
    "print('test',extree_model_3.score(testX_3,test_y_3))"
   ]
  },
  {
   "cell_type": "code",
   "execution_count": 499,
   "metadata": {},
   "outputs": [],
   "source": [
    "#test predict\n",
    "Xtest_Group3_pre = extree_model_3.predict(Xtest_Group3_de)"
   ]
  },
  {
   "cell_type": "code",
   "execution_count": 264,
   "metadata": {},
   "outputs": [
    {
     "name": "stderr",
     "output_type": "stream",
     "text": [
      "C:\\ProgramData\\Anaconda3\\lib\\site-packages\\xgboost\\core.py:587: FutureWarning: Series.base is deprecated and will be removed in a future version\n",
      "  if getattr(data, 'base', None) is not None and \\\n"
     ]
    },
    {
     "name": "stdout",
     "output_type": "stream",
     "text": [
      "train 0.9779783802819778\n",
      "test 0.912491471613027\n"
     ]
    }
   ],
   "source": [
    "xgb_model_3 = xgbreg.fit(trainX_3,train_y_3)\n",
    "print('train',xgb_model_3.score(trainX_3,train_y_3))\n",
    "print('test',xgb_model_3.score(testX_3,test_y_3))"
   ]
  },
  {
   "cell_type": "markdown",
   "metadata": {},
   "source": [
    "Group4"
   ]
  },
  {
   "cell_type": "code",
   "execution_count": 500,
   "metadata": {},
   "outputs": [],
   "source": [
    "XGroup4 = Group4.iloc[:, :-2]\n",
    "yGroup4 = Group4['total_price']"
   ]
  },
  {
   "cell_type": "code",
   "execution_count": 501,
   "metadata": {},
   "outputs": [
    {
     "data": {
      "text/plain": [
       "(404, 4495)"
      ]
     },
     "execution_count": 501,
     "metadata": {},
     "output_type": "execute_result"
    }
   ],
   "source": [
    "#test\n",
    "Xtest_Group4 = test_Group4.iloc[:, :-2]\n",
    "Xtest_Group4.shape"
   ]
  },
  {
   "cell_type": "code",
   "execution_count": 502,
   "metadata": {},
   "outputs": [],
   "source": [
    "forest = RandomForestRegressor(n_estimators=400,n_jobs=-1)\n",
    "forest_reg_4 = forest.fit(XGroup4, yGroup4)\n",
    "model_ex_4 = SelectFromModel(forest_reg_4, prefit=True)\n",
    "X4_ex = model_ex_4.transform(XGroup4)\n",
    "X4_ex = XGroup4[XGroup4.columns[model_ex_4.get_support()]]"
   ]
  },
  {
   "cell_type": "code",
   "execution_count": 503,
   "metadata": {},
   "outputs": [
    {
     "data": {
      "text/plain": [
       "(2494, 86)"
      ]
     },
     "execution_count": 503,
     "metadata": {},
     "output_type": "execute_result"
    }
   ],
   "source": [
    "X4_ex.shape"
   ]
  },
  {
   "cell_type": "code",
   "execution_count": 504,
   "metadata": {},
   "outputs": [],
   "source": [
    "#test 降維\n",
    "Xtest_Group4_de = pd.DataFrame(model_ex_4.transform(Xtest_Group4))"
   ]
  },
  {
   "cell_type": "code",
   "execution_count": 505,
   "metadata": {},
   "outputs": [],
   "source": [
    "trainX_4 , testX_4 , train_y_4 , test_y_4 = train_test_split (X4_ex , yGroup4, test_size = 0.3)"
   ]
  },
  {
   "cell_type": "code",
   "execution_count": 506,
   "metadata": {},
   "outputs": [
    {
     "name": "stdout",
     "output_type": "stream",
     "text": [
      "train 1.0\n",
      "test 0.9402382273614608\n"
     ]
    }
   ],
   "source": [
    "extree_model_4 = extree.fit(trainX_4,train_y_4)\n",
    "print('train',extree_model_4.score(trainX_4,train_y_4))\n",
    "print('test',extree_model_4.score(testX_4,test_y_4))"
   ]
  },
  {
   "cell_type": "code",
   "execution_count": 507,
   "metadata": {},
   "outputs": [],
   "source": [
    "#test predict\n",
    "Xtest_Group4_pre = extree_model_4.predict(Xtest_Group4_de)"
   ]
  },
  {
   "cell_type": "code",
   "execution_count": 87,
   "metadata": {},
   "outputs": [
    {
     "name": "stderr",
     "output_type": "stream",
     "text": [
      "C:\\ProgramData\\Anaconda3\\lib\\site-packages\\xgboost\\core.py:587: FutureWarning: Series.base is deprecated and will be removed in a future version\n",
      "  if getattr(data, 'base', None) is not None and \\\n"
     ]
    },
    {
     "name": "stdout",
     "output_type": "stream",
     "text": [
      "train 0.9976618025296127\n",
      "test 0.9347879619964856\n"
     ]
    }
   ],
   "source": [
    "xgb_model_4 = xgbreg.fit(trainX_4,train_y_4)\n",
    "print('train',xgb_model_4.score(trainX_4,train_y_4))\n",
    "print('test',xgb_model_4.score(testX_4,test_y_4))"
   ]
  },
  {
   "cell_type": "markdown",
   "metadata": {},
   "source": [
    "Group5"
   ]
  },
  {
   "cell_type": "code",
   "execution_count": 508,
   "metadata": {},
   "outputs": [],
   "source": [
    "XGroup5 = Group5.iloc[:, :-2]\n",
    "yGroup5 = Group5['total_price']"
   ]
  },
  {
   "cell_type": "code",
   "execution_count": 509,
   "metadata": {},
   "outputs": [
    {
     "data": {
      "text/plain": [
       "(553, 4495)"
      ]
     },
     "execution_count": 509,
     "metadata": {},
     "output_type": "execute_result"
    }
   ],
   "source": [
    "#test\n",
    "Xtest_Group5 = test_Group5.iloc[:, :-2]\n",
    "Xtest_Group5.shape"
   ]
  },
  {
   "cell_type": "code",
   "execution_count": 510,
   "metadata": {},
   "outputs": [],
   "source": [
    "forest = RandomForestRegressor(n_estimators=400,n_jobs=-1)\n",
    "forest_reg_5 = forest.fit(XGroup5, yGroup5)\n",
    "model_ex_5 = SelectFromModel(forest_reg_5, prefit=True)\n",
    "X5_ex = model_ex_5.transform(XGroup5)\n",
    "X5_ex = XGroup5[XGroup5.columns[model_ex_5.get_support()]]"
   ]
  },
  {
   "cell_type": "code",
   "execution_count": 511,
   "metadata": {},
   "outputs": [
    {
     "data": {
      "text/plain": [
       "(3401, 100)"
      ]
     },
     "execution_count": 511,
     "metadata": {},
     "output_type": "execute_result"
    }
   ],
   "source": [
    "X5_ex.shape"
   ]
  },
  {
   "cell_type": "code",
   "execution_count": 512,
   "metadata": {},
   "outputs": [],
   "source": [
    "#test 降維\n",
    "Xtest_Group5_de = pd.DataFrame(model_ex_5.transform(Xtest_Group5))"
   ]
  },
  {
   "cell_type": "code",
   "execution_count": 513,
   "metadata": {},
   "outputs": [],
   "source": [
    "trainX_5 , testX_5 , train_y_5 , test_y_5 = train_test_split (X5_ex , yGroup5, test_size = 0.2)"
   ]
  },
  {
   "cell_type": "code",
   "execution_count": 514,
   "metadata": {},
   "outputs": [
    {
     "name": "stdout",
     "output_type": "stream",
     "text": [
      "train 1.0\n",
      "test 0.9344141651815459\n"
     ]
    }
   ],
   "source": [
    "extree_model_5 = extree.fit(trainX_5,train_y_5)\n",
    "print('train',extree_model_5.score(trainX_5,train_y_5))\n",
    "print('test',extree_model_5.score(testX_5,test_y_5))"
   ]
  },
  {
   "cell_type": "code",
   "execution_count": 515,
   "metadata": {},
   "outputs": [],
   "source": [
    "#test predict\n",
    "Xtest_Group5_pre = extree_model_5.predict(Xtest_Group5_de)"
   ]
  },
  {
   "cell_type": "code",
   "execution_count": 290,
   "metadata": {},
   "outputs": [
    {
     "name": "stderr",
     "output_type": "stream",
     "text": [
      "C:\\ProgramData\\Anaconda3\\lib\\site-packages\\xgboost\\core.py:587: FutureWarning: Series.base is deprecated and will be removed in a future version\n",
      "  if getattr(data, 'base', None) is not None and \\\n"
     ]
    },
    {
     "name": "stdout",
     "output_type": "stream",
     "text": [
      "train 0.995387273482924\n",
      "test 0.9514434782590745\n"
     ]
    }
   ],
   "source": [
    "xgb_model_5 = xgbreg.fit(trainX_5,train_y_5)\n",
    "print('train',xgb_model_5.score(trainX_5,train_y_5))\n",
    "print('test',xgb_model_5.score(testX_5,test_y_5))"
   ]
  },
  {
   "cell_type": "markdown",
   "metadata": {},
   "source": [
    "Group6"
   ]
  },
  {
   "cell_type": "code",
   "execution_count": 525,
   "metadata": {},
   "outputs": [],
   "source": [
    "XGroup6 = Group6.iloc[:, :-2]\n",
    "yGroup6 = Group6['total_price']"
   ]
  },
  {
   "cell_type": "code",
   "execution_count": 526,
   "metadata": {},
   "outputs": [
    {
     "data": {
      "text/plain": [
       "(1806, 4495)"
      ]
     },
     "execution_count": 526,
     "metadata": {},
     "output_type": "execute_result"
    }
   ],
   "source": [
    "#test\n",
    "Xtest_Group6 = test_Group6.iloc[:, :-2]\n",
    "Xtest_Group6.shape"
   ]
  },
  {
   "cell_type": "code",
   "execution_count": 527,
   "metadata": {},
   "outputs": [],
   "source": [
    "forest = RandomForestRegressor(n_estimators=400,n_jobs=-1)\n",
    "forest_reg_6 = forest.fit(XGroup6, yGroup6)\n",
    "model_ex_6 = SelectFromModel(forest_reg_6, prefit=True)\n",
    "X6_ex = model_ex_6.transform(XGroup6)\n",
    "X6_ex = XGroup6[XGroup6.columns[model_ex_6.get_support()]]"
   ]
  },
  {
   "cell_type": "code",
   "execution_count": 528,
   "metadata": {},
   "outputs": [
    {
     "data": {
      "text/plain": [
       "(10268, 131)"
      ]
     },
     "execution_count": 528,
     "metadata": {},
     "output_type": "execute_result"
    }
   ],
   "source": [
    "X6_ex.shape"
   ]
  },
  {
   "cell_type": "code",
   "execution_count": 529,
   "metadata": {},
   "outputs": [],
   "source": [
    "#test 降維\n",
    "Xtest_Group6_de = pd.DataFrame(model_ex_6.transform(Xtest_Group6))"
   ]
  },
  {
   "cell_type": "code",
   "execution_count": 530,
   "metadata": {},
   "outputs": [],
   "source": [
    "trainX_6 , testX_6 , train_y_6 , test_y_6 = train_test_split (X6_ex , yGroup6, test_size = 0.3)"
   ]
  },
  {
   "cell_type": "code",
   "execution_count": 531,
   "metadata": {},
   "outputs": [
    {
     "name": "stdout",
     "output_type": "stream",
     "text": [
      "train 1.0\n",
      "test 0.9198017017713027\n"
     ]
    }
   ],
   "source": [
    "extree_model_6 = extree.fit(trainX_6,train_y_6)\n",
    "print('train',extree_model_6.score(trainX_6,train_y_6))\n",
    "print('test',extree_model_6.score(testX_6,test_y_6))"
   ]
  },
  {
   "cell_type": "code",
   "execution_count": 532,
   "metadata": {},
   "outputs": [],
   "source": [
    "#test predict\n",
    "Xtest_Group6_pre = extree_model_6.predict(Xtest_Group6_de)"
   ]
  },
  {
   "cell_type": "code",
   "execution_count": 106,
   "metadata": {},
   "outputs": [
    {
     "name": "stderr",
     "output_type": "stream",
     "text": [
      "C:\\ProgramData\\Anaconda3\\lib\\site-packages\\xgboost\\core.py:587: FutureWarning: Series.base is deprecated and will be removed in a future version\n",
      "  if getattr(data, 'base', None) is not None and \\\n"
     ]
    },
    {
     "name": "stdout",
     "output_type": "stream",
     "text": [
      "train 0.9826569751368419\n",
      "test 0.8763205653233879\n"
     ]
    }
   ],
   "source": [
    "xgb_model_6 = xgbreg.fit(trainX_6,train_y_6)\n",
    "print('train',xgb_model_6.score(trainX_6,train_y_6))\n",
    "print('test',xgb_model_6.score(testX_6,test_y_6))"
   ]
  },
  {
   "cell_type": "markdown",
   "metadata": {},
   "source": [
    "Group7"
   ]
  },
  {
   "cell_type": "code",
   "execution_count": 533,
   "metadata": {},
   "outputs": [],
   "source": [
    "XGroup7 = Group7.iloc[:, :-2]\n",
    "yGroup7 = Group7['total_price']"
   ]
  },
  {
   "cell_type": "code",
   "execution_count": 534,
   "metadata": {},
   "outputs": [
    {
     "data": {
      "text/plain": [
       "(245, 4495)"
      ]
     },
     "execution_count": 534,
     "metadata": {},
     "output_type": "execute_result"
    }
   ],
   "source": [
    "#test\n",
    "Xtest_Group7 = test_Group7.iloc[:, :-2]\n",
    "Xtest_Group7.shape"
   ]
  },
  {
   "cell_type": "code",
   "execution_count": 535,
   "metadata": {},
   "outputs": [],
   "source": [
    "forest = RandomForestRegressor(n_estimators=400,n_jobs=-1)\n",
    "forest_reg_7 = forest.fit(XGroup7, yGroup7)\n",
    "model_ex_7 = SelectFromModel(forest_reg_7, prefit=True)\n",
    "X7_ex = model_ex_7.transform(XGroup7)\n",
    "X7_ex = XGroup7[XGroup7.columns[model_ex_7.get_support()]]"
   ]
  },
  {
   "cell_type": "code",
   "execution_count": 536,
   "metadata": {},
   "outputs": [
    {
     "data": {
      "text/plain": [
       "(1315, 110)"
      ]
     },
     "execution_count": 536,
     "metadata": {},
     "output_type": "execute_result"
    }
   ],
   "source": [
    "X7_ex.shape"
   ]
  },
  {
   "cell_type": "code",
   "execution_count": 537,
   "metadata": {},
   "outputs": [],
   "source": [
    "#test 降維\n",
    "Xtest_Group7_de = pd.DataFrame(model_ex_7.transform(Xtest_Group7))"
   ]
  },
  {
   "cell_type": "code",
   "execution_count": 538,
   "metadata": {},
   "outputs": [],
   "source": [
    "trainX_7 , testX_7 , train_y_7 , test_y_7 = train_test_split (X7_ex , yGroup7, test_size = 0.2)"
   ]
  },
  {
   "cell_type": "code",
   "execution_count": 550,
   "metadata": {},
   "outputs": [
    {
     "name": "stdout",
     "output_type": "stream",
     "text": [
      "train 1.0\n",
      "test 0.9306425029097899\n"
     ]
    }
   ],
   "source": [
    "extree_model_7 = extree.fit(trainX_7,train_y_7)\n",
    "print('train',extree_model_7.score(trainX_7,train_y_7))\n",
    "print('test',extree_model_7.score(testX_7,test_y_7))"
   ]
  },
  {
   "cell_type": "code",
   "execution_count": 551,
   "metadata": {},
   "outputs": [],
   "source": [
    "#test predict\n",
    "Xtest_Group7_pre = extree_model_7.predict(Xtest_Group7_de)"
   ]
  },
  {
   "cell_type": "code",
   "execution_count": 318,
   "metadata": {},
   "outputs": [
    {
     "name": "stderr",
     "output_type": "stream",
     "text": [
      "C:\\ProgramData\\Anaconda3\\lib\\site-packages\\xgboost\\core.py:587: FutureWarning: Series.base is deprecated and will be removed in a future version\n",
      "  if getattr(data, 'base', None) is not None and \\\n"
     ]
    },
    {
     "name": "stdout",
     "output_type": "stream",
     "text": [
      "train 0.9967742412708047\n",
      "test 0.9253580838616257\n"
     ]
    }
   ],
   "source": [
    "xgb_model_7 = xgbreg.fit(trainX_7,train_y_7)\n",
    "print('train',xgb_model_7.score(trainX_7,train_y_7))\n",
    "print('test',xgb_model_7.score(testX_7,test_y_7))"
   ]
  },
  {
   "cell_type": "markdown",
   "metadata": {},
   "source": [
    "Group8"
   ]
  },
  {
   "cell_type": "code",
   "execution_count": 552,
   "metadata": {},
   "outputs": [],
   "source": [
    "XGroup8 = Group8.iloc[:, :-2]\n",
    "yGroup8 = Group8['total_price']"
   ]
  },
  {
   "cell_type": "code",
   "execution_count": 553,
   "metadata": {},
   "outputs": [
    {
     "data": {
      "text/plain": [
       "(1483, 4495)"
      ]
     },
     "execution_count": 553,
     "metadata": {},
     "output_type": "execute_result"
    }
   ],
   "source": [
    "#test\n",
    "Xtest_Group8 = test_Group8.iloc[:, :-2]\n",
    "Xtest_Group8.shape"
   ]
  },
  {
   "cell_type": "code",
   "execution_count": 554,
   "metadata": {},
   "outputs": [],
   "source": [
    "forest = RandomForestRegressor(n_estimators=400,n_jobs=-1)\n",
    "forest_reg_8 = forest.fit(XGroup8, yGroup8)\n",
    "model_ex_8 = SelectFromModel(forest_reg_8, prefit=True)\n",
    "X8_ex = model_ex_8.transform(XGroup8)\n",
    "X8_ex = XGroup8[XGroup8.columns[model_ex_8.get_support()]]"
   ]
  },
  {
   "cell_type": "code",
   "execution_count": 555,
   "metadata": {},
   "outputs": [
    {
     "data": {
      "text/plain": [
       "(8288, 131)"
      ]
     },
     "execution_count": 555,
     "metadata": {},
     "output_type": "execute_result"
    }
   ],
   "source": [
    "X8_ex.shape"
   ]
  },
  {
   "cell_type": "code",
   "execution_count": 556,
   "metadata": {},
   "outputs": [],
   "source": [
    "#test 降維\n",
    "Xtest_Group8_de = pd.DataFrame(model_ex_8.transform(Xtest_Group8))"
   ]
  },
  {
   "cell_type": "code",
   "execution_count": 557,
   "metadata": {},
   "outputs": [],
   "source": [
    "trainX_8 , testX_8 , train_y_8 , test_y_8 = train_test_split (X8_ex , yGroup8, test_size = 0.2)"
   ]
  },
  {
   "cell_type": "code",
   "execution_count": 558,
   "metadata": {},
   "outputs": [
    {
     "name": "stdout",
     "output_type": "stream",
     "text": [
      "train 1.0\n",
      "test 0.9605085198161263\n"
     ]
    }
   ],
   "source": [
    "extree_model_8 = extree.fit(trainX_8,train_y_8)\n",
    "print('train',extree_model_8.score(trainX_8,train_y_8))\n",
    "print('test',extree_model_8.score(testX_8,test_y_8))"
   ]
  },
  {
   "cell_type": "code",
   "execution_count": 559,
   "metadata": {},
   "outputs": [],
   "source": [
    "#test predict\n",
    "Xtest_Group8_pre = extree_model_8.predict(Xtest_Group8_de)"
   ]
  },
  {
   "cell_type": "code",
   "execution_count": 326,
   "metadata": {},
   "outputs": [
    {
     "name": "stderr",
     "output_type": "stream",
     "text": [
      "C:\\ProgramData\\Anaconda3\\lib\\site-packages\\xgboost\\core.py:587: FutureWarning: Series.base is deprecated and will be removed in a future version\n",
      "  if getattr(data, 'base', None) is not None and \\\n"
     ]
    },
    {
     "name": "stdout",
     "output_type": "stream",
     "text": [
      "train 0.9842820844913304\n",
      "test 0.9596723874498532\n"
     ]
    }
   ],
   "source": [
    "xgb_model_8 = xgbreg.fit(trainX_8,train_y_8)\n",
    "print('train',xgb_model_8.score(trainX_8,train_y_8))\n",
    "print('test',xgb_model_8.score(testX_8,test_y_8))"
   ]
  },
  {
   "cell_type": "markdown",
   "metadata": {},
   "source": [
    "Group9"
   ]
  },
  {
   "cell_type": "code",
   "execution_count": 560,
   "metadata": {},
   "outputs": [],
   "source": [
    "XGroup9 = Group9.iloc[:, :-2]\n",
    "yGroup9 = Group9['total_price']"
   ]
  },
  {
   "cell_type": "code",
   "execution_count": 561,
   "metadata": {},
   "outputs": [
    {
     "data": {
      "text/plain": [
       "(1453, 4495)"
      ]
     },
     "execution_count": 561,
     "metadata": {},
     "output_type": "execute_result"
    }
   ],
   "source": [
    "#test\n",
    "Xtest_Group9 = test_Group9.iloc[:, :-2]\n",
    "Xtest_Group9.shape"
   ]
  },
  {
   "cell_type": "code",
   "execution_count": 562,
   "metadata": {},
   "outputs": [],
   "source": [
    "forest = RandomForestRegressor(n_estimators=400,n_jobs=-1)\n",
    "forest_reg_9 = forest.fit(XGroup9, yGroup9)\n",
    "model_ex_9 = SelectFromModel(forest_reg_9, prefit=True)\n",
    "X9_ex = model_ex_9.transform(XGroup9)\n",
    "X9_ex = XGroup9[XGroup9.columns[model_ex_9.get_support()]]"
   ]
  },
  {
   "cell_type": "code",
   "execution_count": 563,
   "metadata": {},
   "outputs": [
    {
     "data": {
      "text/plain": [
       "(8310, 133)"
      ]
     },
     "execution_count": 563,
     "metadata": {},
     "output_type": "execute_result"
    }
   ],
   "source": [
    "X9_ex.shape"
   ]
  },
  {
   "cell_type": "code",
   "execution_count": 564,
   "metadata": {},
   "outputs": [
    {
     "data": {
      "text/plain": [
       "(1453, 133)"
      ]
     },
     "execution_count": 564,
     "metadata": {},
     "output_type": "execute_result"
    }
   ],
   "source": [
    "#test 降維\n",
    "Xtest_Group9_de = pd.DataFrame(model_ex_9.transform(Xtest_Group9))\n",
    "Xtest_Group9_de.shape"
   ]
  },
  {
   "cell_type": "code",
   "execution_count": 565,
   "metadata": {},
   "outputs": [],
   "source": [
    "trainX_9 , testX_9 , train_y_9 , test_y_9 = train_test_split (X9_ex , yGroup9, test_size = 0.3)"
   ]
  },
  {
   "cell_type": "code",
   "execution_count": 569,
   "metadata": {},
   "outputs": [
    {
     "name": "stdout",
     "output_type": "stream",
     "text": [
      "train 1.0\n",
      "test 0.8156750115024587\n"
     ]
    }
   ],
   "source": [
    "extree_model_9 = extree.fit(trainX_9,train_y_9)\n",
    "print('train',extree_model_9.score(trainX_9,train_y_9))\n",
    "print('test',extree_model_9.score(testX_9,test_y_9))"
   ]
  },
  {
   "cell_type": "code",
   "execution_count": 570,
   "metadata": {},
   "outputs": [],
   "source": [
    "#test predict\n",
    "Xtest_Group9_pre = extree_model_9.predict(Xtest_Group9_de)"
   ]
  },
  {
   "cell_type": "code",
   "execution_count": 136,
   "metadata": {},
   "outputs": [
    {
     "name": "stderr",
     "output_type": "stream",
     "text": [
      "C:\\ProgramData\\Anaconda3\\lib\\site-packages\\xgboost\\core.py:587: FutureWarning: Series.base is deprecated and will be removed in a future version\n",
      "  if getattr(data, 'base', None) is not None and \\\n"
     ]
    },
    {
     "name": "stdout",
     "output_type": "stream",
     "text": [
      "train 0.9760138124631996\n",
      "test 0.682661598788691\n"
     ]
    }
   ],
   "source": [
    "xgb_model_9 = xgbreg.fit(trainX_9,train_y_9)\n",
    "print('train',xgb_model_9.score(trainX_9,train_y_9))\n",
    "print('test',xgb_model_9.score(testX_9,test_y_9))"
   ]
  },
  {
   "cell_type": "markdown",
   "metadata": {},
   "source": [
    "Group39"
   ]
  },
  {
   "cell_type": "code",
   "execution_count": 413,
   "metadata": {},
   "outputs": [
    {
     "name": "stdout",
     "output_type": "stream",
     "text": [
      "(6458, 4497) (8310, 4497)\n",
      "(14768, 4497)\n"
     ]
    }
   ],
   "source": [
    "print(Group3.shape, Group9.shape)\n",
    "Group39 = pd.concat([Group3, Group9],axis=0)\n",
    "print(Group39.shape)"
   ]
  },
  {
   "cell_type": "code",
   "execution_count": 422,
   "metadata": {},
   "outputs": [
    {
     "name": "stdout",
     "output_type": "stream",
     "text": [
      "(1122, 4497) (1453, 4497)\n"
     ]
    },
    {
     "data": {
      "text/plain": [
       "(2575, 4497)"
      ]
     },
     "execution_count": 422,
     "metadata": {},
     "output_type": "execute_result"
    }
   ],
   "source": [
    "test_Group39 = pd.concat([test_Group3, test_Group9],axis=0)\n",
    "print(test_Group3.shape, test_Group9.shape)\n",
    "test_Group39.shape"
   ]
  },
  {
   "cell_type": "code",
   "execution_count": 423,
   "metadata": {},
   "outputs": [
    {
     "name": "stderr",
     "output_type": "stream",
     "text": [
      "C:\\ProgramData\\Anaconda3\\lib\\site-packages\\ipykernel_launcher.py:2: DataConversionWarning: Data with input dtype int64, float64 were all converted to float64 by the scale function.\n",
      "  \n"
     ]
    },
    {
     "data": {
      "text/plain": [
       "(2575, 4495)"
      ]
     },
     "execution_count": 423,
     "metadata": {},
     "output_type": "execute_result"
    }
   ],
   "source": [
    "#test\n",
    "Xtest_Group39 = pd.DataFrame(preprocessing.scale(test_Group39.iloc[:, :-2]))\n",
    "Xtest_Group39.shape"
   ]
  },
  {
   "cell_type": "code",
   "execution_count": 416,
   "metadata": {},
   "outputs": [
    {
     "name": "stderr",
     "output_type": "stream",
     "text": [
      "C:\\ProgramData\\Anaconda3\\lib\\site-packages\\ipykernel_launcher.py:1: DataConversionWarning: Data with input dtype int64, float64 were all converted to float64 by the scale function.\n",
      "  \"\"\"Entry point for launching an IPython kernel.\n"
     ]
    }
   ],
   "source": [
    "XGroup39 = pd.DataFrame(preprocessing.scale(Group39.iloc[:, :-2]))\n",
    "yGroup39 = Group39['total_price']"
   ]
  },
  {
   "cell_type": "code",
   "execution_count": 417,
   "metadata": {},
   "outputs": [],
   "source": [
    "forest = RandomForestRegressor(n_estimators=400,n_jobs=-1)\n",
    "forest_reg_39 = forest.fit(XGroup39, yGroup39)\n",
    "model_ex_39 = SelectFromModel(forest_reg_39, prefit=True)\n",
    "X39_ex = model_ex_39.transform(XGroup39)\n",
    "X39_ex = XGroup39[XGroup39.columns[model_ex_39.get_support()]]"
   ]
  },
  {
   "cell_type": "code",
   "execution_count": 418,
   "metadata": {},
   "outputs": [
    {
     "data": {
      "text/plain": [
       "(14768, 135)"
      ]
     },
     "execution_count": 418,
     "metadata": {},
     "output_type": "execute_result"
    }
   ],
   "source": [
    "X39_ex.shape"
   ]
  },
  {
   "cell_type": "code",
   "execution_count": 424,
   "metadata": {},
   "outputs": [
    {
     "data": {
      "text/plain": [
       "(2575, 135)"
      ]
     },
     "execution_count": 424,
     "metadata": {},
     "output_type": "execute_result"
    }
   ],
   "source": [
    "#test 降維\n",
    "Xtest_Group39_de = pd.DataFrame(model_ex_39.transform(Xtest_Group39))\n",
    "Xtest_Group39_de.shape"
   ]
  },
  {
   "cell_type": "code",
   "execution_count": 419,
   "metadata": {},
   "outputs": [],
   "source": [
    "trainX_39 , testX_39 , train_y_39 , test_y_39 = train_test_split (X39_ex , yGroup39, test_size = 0.3)"
   ]
  },
  {
   "cell_type": "code",
   "execution_count": 425,
   "metadata": {},
   "outputs": [
    {
     "name": "stdout",
     "output_type": "stream",
     "text": [
      "train 1.0\n",
      "test 0.887324419658926\n"
     ]
    }
   ],
   "source": [
    "extree_model_39 = extree.fit(trainX_39,train_y_39)\n",
    "print('train',extree_model_39.score(trainX_39,train_y_39))\n",
    "print('test',extree_model_39.score(testX_39,test_y_39))"
   ]
  },
  {
   "cell_type": "code",
   "execution_count": 426,
   "metadata": {},
   "outputs": [],
   "source": [
    "#test predict\n",
    "Xtest_Group39_pre = extree_model_39.predict(Xtest_Group39_de)"
   ]
  },
  {
   "cell_type": "code",
   "execution_count": 427,
   "metadata": {},
   "outputs": [
    {
     "data": {
      "text/plain": [
       "(2575,)"
      ]
     },
     "execution_count": 427,
     "metadata": {},
     "output_type": "execute_result"
    }
   ],
   "source": [
    "Xtest_Group39_pre.shape"
   ]
  },
  {
   "cell_type": "code",
   "execution_count": 429,
   "metadata": {},
   "outputs": [
    {
     "data": {
      "text/plain": [
       "(1453,)"
      ]
     },
     "execution_count": 429,
     "metadata": {},
     "output_type": "execute_result"
    }
   ],
   "source": [
    "Xtest_Group9_pre = Xtest_Group39_pre[1122:]\n",
    "Xtest_Group9_pre.shape"
   ]
  },
  {
   "cell_type": "code",
   "execution_count": 421,
   "metadata": {},
   "outputs": [
    {
     "name": "stderr",
     "output_type": "stream",
     "text": [
      "C:\\ProgramData\\Anaconda3\\lib\\site-packages\\xgboost\\core.py:587: FutureWarning: Series.base is deprecated and will be removed in a future version\n",
      "  if getattr(data, 'base', None) is not None and \\\n"
     ]
    },
    {
     "name": "stdout",
     "output_type": "stream",
     "text": [
      "train 0.9633404082983927\n",
      "test 0.8273253662963939\n"
     ]
    }
   ],
   "source": [
    "xgb_model_39 = xgbreg.fit(trainX_39,train_y_39)\n",
    "print('train',xgb_model_39.score(trainX_39,train_y_39))\n",
    "print('test',xgb_model_39.score(testX_39,test_y_39))"
   ]
  },
  {
   "cell_type": "markdown",
   "metadata": {},
   "source": [
    "# combine"
   ]
  },
  {
   "cell_type": "code",
   "execution_count": 571,
   "metadata": {},
   "outputs": [],
   "source": [
    "test0_pre = pd.DataFrame(Xtest_Group0_pre)\n",
    "test0_id = pd.DataFrame(test_Group0['building_id'])\n",
    "test0_id.reset_index(inplace=True)\n",
    "test0_sub = pd.concat([test0_id,test0_pre],axis=1)"
   ]
  },
  {
   "cell_type": "code",
   "execution_count": 572,
   "metadata": {},
   "outputs": [],
   "source": [
    "test1_pre = pd.DataFrame(Xtest_Group1_pre)\n",
    "test1_id = pd.DataFrame(test_Group1['building_id'])\n",
    "test1_id.reset_index(inplace=True)\n",
    "test1_sub = pd.concat([test1_id,test1_pre],axis=1)"
   ]
  },
  {
   "cell_type": "code",
   "execution_count": 573,
   "metadata": {},
   "outputs": [],
   "source": [
    "test2_pre = pd.DataFrame(Xtest_Group2_pre)\n",
    "test2_id = pd.DataFrame(test_Group2['building_id'])\n",
    "test2_id.reset_index(inplace=True)\n",
    "test2_sub = pd.concat([test2_id,test2_pre],axis=1)"
   ]
  },
  {
   "cell_type": "code",
   "execution_count": 574,
   "metadata": {},
   "outputs": [],
   "source": [
    "test3_pre = pd.DataFrame(Xtest_Group3_pre)\n",
    "test3_id = pd.DataFrame(test_Group3['building_id'])\n",
    "test3_id.reset_index(inplace=True)\n",
    "test3_sub = pd.concat([test3_id,test3_pre],axis=1)"
   ]
  },
  {
   "cell_type": "code",
   "execution_count": 575,
   "metadata": {},
   "outputs": [],
   "source": [
    "test4_pre = pd.DataFrame(Xtest_Group4_pre)\n",
    "test4_id = pd.DataFrame(test_Group4['building_id'])\n",
    "test4_id.reset_index(inplace=True)\n",
    "test4_sub = pd.concat([test4_id,test4_pre],axis=1)"
   ]
  },
  {
   "cell_type": "code",
   "execution_count": 576,
   "metadata": {},
   "outputs": [],
   "source": [
    "test5_pre = pd.DataFrame(Xtest_Group5_pre)\n",
    "test5_id = pd.DataFrame(test_Group5['building_id'])\n",
    "test5_id.reset_index(inplace=True)\n",
    "test5_sub = pd.concat([test5_id,test5_pre],axis=1)"
   ]
  },
  {
   "cell_type": "code",
   "execution_count": 577,
   "metadata": {},
   "outputs": [],
   "source": [
    "test6_pre = pd.DataFrame(Xtest_Group6_pre)\n",
    "test6_id = pd.DataFrame(test_Group6['building_id'])\n",
    "test6_id.reset_index(inplace=True)\n",
    "test6_sub = pd.concat([test6_id,test6_pre],axis=1)"
   ]
  },
  {
   "cell_type": "code",
   "execution_count": 578,
   "metadata": {},
   "outputs": [],
   "source": [
    "test7_pre = pd.DataFrame(Xtest_Group7_pre)\n",
    "test7_id = pd.DataFrame(test_Group7['building_id'])\n",
    "test7_id.reset_index(inplace=True)\n",
    "test7_sub = pd.concat([test7_id,test7_pre],axis=1)"
   ]
  },
  {
   "cell_type": "code",
   "execution_count": 579,
   "metadata": {},
   "outputs": [],
   "source": [
    "test8_pre = pd.DataFrame(Xtest_Group8_pre)\n",
    "test8_id = pd.DataFrame(test_Group8['building_id'])\n",
    "test8_id.reset_index(inplace=True)\n",
    "test8_sub = pd.concat([test8_id,test8_pre],axis=1)"
   ]
  },
  {
   "cell_type": "code",
   "execution_count": 580,
   "metadata": {},
   "outputs": [],
   "source": [
    "test9_pre = pd.DataFrame(Xtest_Group9_pre)\n",
    "test9_id = pd.DataFrame(test_Group9['building_id'])\n",
    "test9_id.reset_index(inplace=True)\n",
    "test9_sub = pd.concat([test9_id,test9_pre],axis=1)"
   ]
  },
  {
   "cell_type": "code",
   "execution_count": 581,
   "metadata": {},
   "outputs": [],
   "source": [
    "subbmit = pd.concat([test0_sub,test1_sub,test2_sub,test3_sub,test4_sub,test5_sub,test6_sub,test7_sub,test8_sub,test9_sub])"
   ]
  },
  {
   "cell_type": "code",
   "execution_count": 582,
   "metadata": {},
   "outputs": [
    {
     "name": "stdout",
     "output_type": "stream",
     "text": [
      "(614, 3) (1338, 3) (982, 3) (1122, 3) (404, 3) (553, 3) (1806, 3) (245, 3) (1483, 3) (1453, 3) (10000, 3)\n"
     ]
    }
   ],
   "source": [
    "print(test0_sub.shape,\n",
    "test1_sub.shape,\n",
    "test2_sub.shape,\n",
    "test3_sub.shape,\n",
    "test4_sub.shape,\n",
    "test5_sub.shape,\n",
    "test6_sub.shape,\n",
    "test7_sub.shape,\n",
    "test8_sub.shape,\n",
    "test9_sub.shape,\n",
    "subbmit.shape)"
   ]
  },
  {
   "cell_type": "code",
   "execution_count": 583,
   "metadata": {},
   "outputs": [
    {
     "data": {
      "text/html": [
       "<div>\n",
       "<style scoped>\n",
       "    .dataframe tbody tr th:only-of-type {\n",
       "        vertical-align: middle;\n",
       "    }\n",
       "\n",
       "    .dataframe tbody tr th {\n",
       "        vertical-align: top;\n",
       "    }\n",
       "\n",
       "    .dataframe thead th {\n",
       "        text-align: right;\n",
       "    }\n",
       "</style>\n",
       "<table border=\"1\" class=\"dataframe\">\n",
       "  <thead>\n",
       "    <tr style=\"text-align: right;\">\n",
       "      <th></th>\n",
       "      <th>index</th>\n",
       "      <th>building_id</th>\n",
       "      <th>0</th>\n",
       "    </tr>\n",
       "  </thead>\n",
       "  <tbody>\n",
       "    <tr>\n",
       "      <th>0</th>\n",
       "      <td>12</td>\n",
       "      <td>eM2NppIOwzW0o8iy</td>\n",
       "      <td>1.059419e+07</td>\n",
       "    </tr>\n",
       "    <tr>\n",
       "      <th>1</th>\n",
       "      <td>27</td>\n",
       "      <td>JPWqZbLq0VNC0yKI</td>\n",
       "      <td>1.213838e+07</td>\n",
       "    </tr>\n",
       "    <tr>\n",
       "      <th>2</th>\n",
       "      <td>34</td>\n",
       "      <td>YLKpsew5dW75vksT</td>\n",
       "      <td>6.285862e+06</td>\n",
       "    </tr>\n",
       "    <tr>\n",
       "      <th>3</th>\n",
       "      <td>121</td>\n",
       "      <td>E0gBmfDjtixwUA0k</td>\n",
       "      <td>1.374325e+07</td>\n",
       "    </tr>\n",
       "    <tr>\n",
       "      <th>4</th>\n",
       "      <td>168</td>\n",
       "      <td>AzPpJz3T62VmkxrS</td>\n",
       "      <td>2.843125e+06</td>\n",
       "    </tr>\n",
       "    <tr>\n",
       "      <th>5</th>\n",
       "      <td>171</td>\n",
       "      <td>MwV3Ve3wqFjXXIEQ</td>\n",
       "      <td>4.517301e+07</td>\n",
       "    </tr>\n",
       "    <tr>\n",
       "      <th>6</th>\n",
       "      <td>176</td>\n",
       "      <td>QQrkTCqzHS3JKGyi</td>\n",
       "      <td>6.060283e+06</td>\n",
       "    </tr>\n",
       "    <tr>\n",
       "      <th>7</th>\n",
       "      <td>183</td>\n",
       "      <td>mbZY6kO9JRKSIYJZ</td>\n",
       "      <td>1.190839e+07</td>\n",
       "    </tr>\n",
       "    <tr>\n",
       "      <th>8</th>\n",
       "      <td>258</td>\n",
       "      <td>F9POw6Q1VfzwmvZl</td>\n",
       "      <td>3.004407e+07</td>\n",
       "    </tr>\n",
       "    <tr>\n",
       "      <th>9</th>\n",
       "      <td>288</td>\n",
       "      <td>N7FRMJ3hgQwfo1iN</td>\n",
       "      <td>1.300114e+07</td>\n",
       "    </tr>\n",
       "    <tr>\n",
       "      <th>10</th>\n",
       "      <td>303</td>\n",
       "      <td>v0g7kjWLOxF9i3bH</td>\n",
       "      <td>6.471031e+07</td>\n",
       "    </tr>\n",
       "    <tr>\n",
       "      <th>11</th>\n",
       "      <td>329</td>\n",
       "      <td>k2XTiqNucNtmOM0P</td>\n",
       "      <td>1.736874e+07</td>\n",
       "    </tr>\n",
       "    <tr>\n",
       "      <th>12</th>\n",
       "      <td>336</td>\n",
       "      <td>YyHL06puF4yThClZ</td>\n",
       "      <td>2.653635e+07</td>\n",
       "    </tr>\n",
       "    <tr>\n",
       "      <th>13</th>\n",
       "      <td>381</td>\n",
       "      <td>zzNxAsYc4pCLb8cT</td>\n",
       "      <td>2.632831e+07</td>\n",
       "    </tr>\n",
       "    <tr>\n",
       "      <th>14</th>\n",
       "      <td>412</td>\n",
       "      <td>nY8ArxLsiCcHfFBq</td>\n",
       "      <td>3.499652e+06</td>\n",
       "    </tr>\n",
       "    <tr>\n",
       "      <th>15</th>\n",
       "      <td>441</td>\n",
       "      <td>kLJs9hlLD2krtNLj</td>\n",
       "      <td>3.271319e+06</td>\n",
       "    </tr>\n",
       "    <tr>\n",
       "      <th>16</th>\n",
       "      <td>442</td>\n",
       "      <td>we4T3Jh7wf43EoJN</td>\n",
       "      <td>5.794882e+06</td>\n",
       "    </tr>\n",
       "    <tr>\n",
       "      <th>17</th>\n",
       "      <td>466</td>\n",
       "      <td>VVuzs8mA59Tqq9Zn</td>\n",
       "      <td>1.449832e+07</td>\n",
       "    </tr>\n",
       "    <tr>\n",
       "      <th>18</th>\n",
       "      <td>467</td>\n",
       "      <td>HbbHzMgEdn4Yy9Yt</td>\n",
       "      <td>4.442724e+06</td>\n",
       "    </tr>\n",
       "    <tr>\n",
       "      <th>19</th>\n",
       "      <td>490</td>\n",
       "      <td>XgyrgXyT7sx2dMR7</td>\n",
       "      <td>2.788424e+06</td>\n",
       "    </tr>\n",
       "    <tr>\n",
       "      <th>20</th>\n",
       "      <td>495</td>\n",
       "      <td>heV1zTCVN1mZuzco</td>\n",
       "      <td>5.945443e+07</td>\n",
       "    </tr>\n",
       "    <tr>\n",
       "      <th>21</th>\n",
       "      <td>544</td>\n",
       "      <td>XQSUBM24Wi3OSSFY</td>\n",
       "      <td>7.499473e+06</td>\n",
       "    </tr>\n",
       "    <tr>\n",
       "      <th>22</th>\n",
       "      <td>550</td>\n",
       "      <td>JRLYHMycpd7Vhhby</td>\n",
       "      <td>2.738605e+07</td>\n",
       "    </tr>\n",
       "    <tr>\n",
       "      <th>23</th>\n",
       "      <td>563</td>\n",
       "      <td>m2SjFuUI6We2s2YL</td>\n",
       "      <td>3.406859e+07</td>\n",
       "    </tr>\n",
       "    <tr>\n",
       "      <th>24</th>\n",
       "      <td>582</td>\n",
       "      <td>KdYCXpBfJKS4jzE3</td>\n",
       "      <td>4.594934e+06</td>\n",
       "    </tr>\n",
       "    <tr>\n",
       "      <th>25</th>\n",
       "      <td>585</td>\n",
       "      <td>LDW2aCQQIZmbqWr8</td>\n",
       "      <td>7.940612e+06</td>\n",
       "    </tr>\n",
       "    <tr>\n",
       "      <th>26</th>\n",
       "      <td>586</td>\n",
       "      <td>AJbd6muMhsG9BpJ1</td>\n",
       "      <td>8.935586e+06</td>\n",
       "    </tr>\n",
       "    <tr>\n",
       "      <th>27</th>\n",
       "      <td>590</td>\n",
       "      <td>LZB9lC9M95ZaWgcr</td>\n",
       "      <td>7.198433e+06</td>\n",
       "    </tr>\n",
       "    <tr>\n",
       "      <th>28</th>\n",
       "      <td>594</td>\n",
       "      <td>bEQKWWW07GhrfXgp</td>\n",
       "      <td>8.633434e+07</td>\n",
       "    </tr>\n",
       "    <tr>\n",
       "      <th>29</th>\n",
       "      <td>600</td>\n",
       "      <td>jHUpnPeckB6aVCNI</td>\n",
       "      <td>6.457204e+06</td>\n",
       "    </tr>\n",
       "    <tr>\n",
       "      <th>...</th>\n",
       "      <td>...</td>\n",
       "      <td>...</td>\n",
       "      <td>...</td>\n",
       "    </tr>\n",
       "    <tr>\n",
       "      <th>1423</th>\n",
       "      <td>9748</td>\n",
       "      <td>FydRF3soTPDhBebY</td>\n",
       "      <td>1.348359e+06</td>\n",
       "    </tr>\n",
       "    <tr>\n",
       "      <th>1424</th>\n",
       "      <td>9774</td>\n",
       "      <td>RkdQcNfuBwj9HR3B</td>\n",
       "      <td>6.240548e+06</td>\n",
       "    </tr>\n",
       "    <tr>\n",
       "      <th>1425</th>\n",
       "      <td>9794</td>\n",
       "      <td>s2JinUtJfOThkwsG</td>\n",
       "      <td>2.603113e+06</td>\n",
       "    </tr>\n",
       "    <tr>\n",
       "      <th>1426</th>\n",
       "      <td>9801</td>\n",
       "      <td>RWu4pnpviU8q3EBy</td>\n",
       "      <td>7.423422e+06</td>\n",
       "    </tr>\n",
       "    <tr>\n",
       "      <th>1427</th>\n",
       "      <td>9802</td>\n",
       "      <td>E8QuZ3BnoLvjiZPb</td>\n",
       "      <td>2.882165e+06</td>\n",
       "    </tr>\n",
       "    <tr>\n",
       "      <th>1428</th>\n",
       "      <td>9804</td>\n",
       "      <td>zbOQmhLdcpjWz09o</td>\n",
       "      <td>3.659684e+07</td>\n",
       "    </tr>\n",
       "    <tr>\n",
       "      <th>1429</th>\n",
       "      <td>9805</td>\n",
       "      <td>BHz2WdGT7vMwKvzU</td>\n",
       "      <td>2.681268e+06</td>\n",
       "    </tr>\n",
       "    <tr>\n",
       "      <th>1430</th>\n",
       "      <td>9810</td>\n",
       "      <td>kNVXPJLEOTrTbmHn</td>\n",
       "      <td>3.935029e+06</td>\n",
       "    </tr>\n",
       "    <tr>\n",
       "      <th>1431</th>\n",
       "      <td>9816</td>\n",
       "      <td>vV2vzEhWpLDXrY2y</td>\n",
       "      <td>3.203925e+06</td>\n",
       "    </tr>\n",
       "    <tr>\n",
       "      <th>1432</th>\n",
       "      <td>9829</td>\n",
       "      <td>F3VSjwCTP4Hi8Uhr</td>\n",
       "      <td>4.077840e+07</td>\n",
       "    </tr>\n",
       "    <tr>\n",
       "      <th>1433</th>\n",
       "      <td>9832</td>\n",
       "      <td>KjxDTmY0LoEwMhZl</td>\n",
       "      <td>3.327969e+06</td>\n",
       "    </tr>\n",
       "    <tr>\n",
       "      <th>1434</th>\n",
       "      <td>9843</td>\n",
       "      <td>L8h97YA8K4UzV0GE</td>\n",
       "      <td>5.167527e+06</td>\n",
       "    </tr>\n",
       "    <tr>\n",
       "      <th>1435</th>\n",
       "      <td>9850</td>\n",
       "      <td>dCwmeRyZDNBHRPEF</td>\n",
       "      <td>1.361966e+06</td>\n",
       "    </tr>\n",
       "    <tr>\n",
       "      <th>1436</th>\n",
       "      <td>9856</td>\n",
       "      <td>or5GUpKyrKxRULHK</td>\n",
       "      <td>1.481112e+06</td>\n",
       "    </tr>\n",
       "    <tr>\n",
       "      <th>1437</th>\n",
       "      <td>9860</td>\n",
       "      <td>A7DKMi7gBqdbm28h</td>\n",
       "      <td>1.533992e+06</td>\n",
       "    </tr>\n",
       "    <tr>\n",
       "      <th>1438</th>\n",
       "      <td>9872</td>\n",
       "      <td>DSiXq4XI00Xgdmwx</td>\n",
       "      <td>2.914600e+06</td>\n",
       "    </tr>\n",
       "    <tr>\n",
       "      <th>1439</th>\n",
       "      <td>9873</td>\n",
       "      <td>c48FobRS3aQfCXZQ</td>\n",
       "      <td>3.833492e+06</td>\n",
       "    </tr>\n",
       "    <tr>\n",
       "      <th>1440</th>\n",
       "      <td>9878</td>\n",
       "      <td>iD8NK6Zrf62Ks7G6</td>\n",
       "      <td>6.781439e+06</td>\n",
       "    </tr>\n",
       "    <tr>\n",
       "      <th>1441</th>\n",
       "      <td>9880</td>\n",
       "      <td>vCG0Rym2GrVjlYNz</td>\n",
       "      <td>4.207297e+06</td>\n",
       "    </tr>\n",
       "    <tr>\n",
       "      <th>1442</th>\n",
       "      <td>9884</td>\n",
       "      <td>x63m45CdHkiaTSFB</td>\n",
       "      <td>4.288693e+06</td>\n",
       "    </tr>\n",
       "    <tr>\n",
       "      <th>1443</th>\n",
       "      <td>9895</td>\n",
       "      <td>g8EGFqOn6QiMwsrE</td>\n",
       "      <td>1.487000e+06</td>\n",
       "    </tr>\n",
       "    <tr>\n",
       "      <th>1444</th>\n",
       "      <td>9916</td>\n",
       "      <td>OdrDw4nqRS3j76rO</td>\n",
       "      <td>6.160528e+06</td>\n",
       "    </tr>\n",
       "    <tr>\n",
       "      <th>1445</th>\n",
       "      <td>9927</td>\n",
       "      <td>wReTstj8ry3RHzng</td>\n",
       "      <td>2.032730e+06</td>\n",
       "    </tr>\n",
       "    <tr>\n",
       "      <th>1446</th>\n",
       "      <td>9936</td>\n",
       "      <td>cNwyqu4wsyR1nl9S</td>\n",
       "      <td>2.500027e+07</td>\n",
       "    </tr>\n",
       "    <tr>\n",
       "      <th>1447</th>\n",
       "      <td>9941</td>\n",
       "      <td>LZp0zgh3JyJASxCP</td>\n",
       "      <td>1.877127e+06</td>\n",
       "    </tr>\n",
       "    <tr>\n",
       "      <th>1448</th>\n",
       "      <td>9951</td>\n",
       "      <td>UbRHSEkDUASK0JkU</td>\n",
       "      <td>2.342601e+06</td>\n",
       "    </tr>\n",
       "    <tr>\n",
       "      <th>1449</th>\n",
       "      <td>9960</td>\n",
       "      <td>S2nOY2ysUdCg5Fwv</td>\n",
       "      <td>2.643691e+06</td>\n",
       "    </tr>\n",
       "    <tr>\n",
       "      <th>1450</th>\n",
       "      <td>9965</td>\n",
       "      <td>oKhg0miYj36EvnmG</td>\n",
       "      <td>4.050207e+06</td>\n",
       "    </tr>\n",
       "    <tr>\n",
       "      <th>1451</th>\n",
       "      <td>9972</td>\n",
       "      <td>P1j8YRbxDAovumaI</td>\n",
       "      <td>1.447398e+07</td>\n",
       "    </tr>\n",
       "    <tr>\n",
       "      <th>1452</th>\n",
       "      <td>9994</td>\n",
       "      <td>qNgt1ajb5uVMKbqm</td>\n",
       "      <td>3.886630e+06</td>\n",
       "    </tr>\n",
       "  </tbody>\n",
       "</table>\n",
       "<p>10000 rows × 3 columns</p>\n",
       "</div>"
      ],
      "text/plain": [
       "      index       building_id             0\n",
       "0        12  eM2NppIOwzW0o8iy  1.059419e+07\n",
       "1        27  JPWqZbLq0VNC0yKI  1.213838e+07\n",
       "2        34  YLKpsew5dW75vksT  6.285862e+06\n",
       "3       121  E0gBmfDjtixwUA0k  1.374325e+07\n",
       "4       168  AzPpJz3T62VmkxrS  2.843125e+06\n",
       "5       171  MwV3Ve3wqFjXXIEQ  4.517301e+07\n",
       "6       176  QQrkTCqzHS3JKGyi  6.060283e+06\n",
       "7       183  mbZY6kO9JRKSIYJZ  1.190839e+07\n",
       "8       258  F9POw6Q1VfzwmvZl  3.004407e+07\n",
       "9       288  N7FRMJ3hgQwfo1iN  1.300114e+07\n",
       "10      303  v0g7kjWLOxF9i3bH  6.471031e+07\n",
       "11      329  k2XTiqNucNtmOM0P  1.736874e+07\n",
       "12      336  YyHL06puF4yThClZ  2.653635e+07\n",
       "13      381  zzNxAsYc4pCLb8cT  2.632831e+07\n",
       "14      412  nY8ArxLsiCcHfFBq  3.499652e+06\n",
       "15      441  kLJs9hlLD2krtNLj  3.271319e+06\n",
       "16      442  we4T3Jh7wf43EoJN  5.794882e+06\n",
       "17      466  VVuzs8mA59Tqq9Zn  1.449832e+07\n",
       "18      467  HbbHzMgEdn4Yy9Yt  4.442724e+06\n",
       "19      490  XgyrgXyT7sx2dMR7  2.788424e+06\n",
       "20      495  heV1zTCVN1mZuzco  5.945443e+07\n",
       "21      544  XQSUBM24Wi3OSSFY  7.499473e+06\n",
       "22      550  JRLYHMycpd7Vhhby  2.738605e+07\n",
       "23      563  m2SjFuUI6We2s2YL  3.406859e+07\n",
       "24      582  KdYCXpBfJKS4jzE3  4.594934e+06\n",
       "25      585  LDW2aCQQIZmbqWr8  7.940612e+06\n",
       "26      586  AJbd6muMhsG9BpJ1  8.935586e+06\n",
       "27      590  LZB9lC9M95ZaWgcr  7.198433e+06\n",
       "28      594  bEQKWWW07GhrfXgp  8.633434e+07\n",
       "29      600  jHUpnPeckB6aVCNI  6.457204e+06\n",
       "...     ...               ...           ...\n",
       "1423   9748  FydRF3soTPDhBebY  1.348359e+06\n",
       "1424   9774  RkdQcNfuBwj9HR3B  6.240548e+06\n",
       "1425   9794  s2JinUtJfOThkwsG  2.603113e+06\n",
       "1426   9801  RWu4pnpviU8q3EBy  7.423422e+06\n",
       "1427   9802  E8QuZ3BnoLvjiZPb  2.882165e+06\n",
       "1428   9804  zbOQmhLdcpjWz09o  3.659684e+07\n",
       "1429   9805  BHz2WdGT7vMwKvzU  2.681268e+06\n",
       "1430   9810  kNVXPJLEOTrTbmHn  3.935029e+06\n",
       "1431   9816  vV2vzEhWpLDXrY2y  3.203925e+06\n",
       "1432   9829  F3VSjwCTP4Hi8Uhr  4.077840e+07\n",
       "1433   9832  KjxDTmY0LoEwMhZl  3.327969e+06\n",
       "1434   9843  L8h97YA8K4UzV0GE  5.167527e+06\n",
       "1435   9850  dCwmeRyZDNBHRPEF  1.361966e+06\n",
       "1436   9856  or5GUpKyrKxRULHK  1.481112e+06\n",
       "1437   9860  A7DKMi7gBqdbm28h  1.533992e+06\n",
       "1438   9872  DSiXq4XI00Xgdmwx  2.914600e+06\n",
       "1439   9873  c48FobRS3aQfCXZQ  3.833492e+06\n",
       "1440   9878  iD8NK6Zrf62Ks7G6  6.781439e+06\n",
       "1441   9880  vCG0Rym2GrVjlYNz  4.207297e+06\n",
       "1442   9884  x63m45CdHkiaTSFB  4.288693e+06\n",
       "1443   9895  g8EGFqOn6QiMwsrE  1.487000e+06\n",
       "1444   9916  OdrDw4nqRS3j76rO  6.160528e+06\n",
       "1445   9927  wReTstj8ry3RHzng  2.032730e+06\n",
       "1446   9936  cNwyqu4wsyR1nl9S  2.500027e+07\n",
       "1447   9941  LZp0zgh3JyJASxCP  1.877127e+06\n",
       "1448   9951  UbRHSEkDUASK0JkU  2.342601e+06\n",
       "1449   9960  S2nOY2ysUdCg5Fwv  2.643691e+06\n",
       "1450   9965  oKhg0miYj36EvnmG  4.050207e+06\n",
       "1451   9972  P1j8YRbxDAovumaI  1.447398e+07\n",
       "1452   9994  qNgt1ajb5uVMKbqm  3.886630e+06\n",
       "\n",
       "[10000 rows x 3 columns]"
      ]
     },
     "execution_count": 583,
     "metadata": {},
     "output_type": "execute_result"
    }
   ],
   "source": [
    "subbmit"
   ]
  },
  {
   "cell_type": "code",
   "execution_count": 584,
   "metadata": {
    "scrolled": true
   },
   "outputs": [
    {
     "data": {
      "text/html": [
       "<div>\n",
       "<style scoped>\n",
       "    .dataframe tbody tr th:only-of-type {\n",
       "        vertical-align: middle;\n",
       "    }\n",
       "\n",
       "    .dataframe tbody tr th {\n",
       "        vertical-align: top;\n",
       "    }\n",
       "\n",
       "    .dataframe thead th {\n",
       "        text-align: right;\n",
       "    }\n",
       "</style>\n",
       "<table border=\"1\" class=\"dataframe\">\n",
       "  <thead>\n",
       "    <tr style=\"text-align: right;\">\n",
       "      <th></th>\n",
       "      <th>building_id</th>\n",
       "      <th>total_price</th>\n",
       "      <th>index</th>\n",
       "      <th>0</th>\n",
       "    </tr>\n",
       "  </thead>\n",
       "  <tbody>\n",
       "    <tr>\n",
       "      <th>0</th>\n",
       "      <td>X5gsdTWGS3W7JJQB</td>\n",
       "      <td>0</td>\n",
       "      <td>0</td>\n",
       "      <td>1.277081e+07</td>\n",
       "    </tr>\n",
       "    <tr>\n",
       "      <th>1</th>\n",
       "      <td>BTshNOJyKHnT2YIT</td>\n",
       "      <td>0</td>\n",
       "      <td>1</td>\n",
       "      <td>3.629924e+06</td>\n",
       "    </tr>\n",
       "    <tr>\n",
       "      <th>2</th>\n",
       "      <td>dhdymr0lV8N5kZOT</td>\n",
       "      <td>0</td>\n",
       "      <td>2</td>\n",
       "      <td>1.089540e+07</td>\n",
       "    </tr>\n",
       "    <tr>\n",
       "      <th>3</th>\n",
       "      <td>VEwyGGMcD56w5BOc</td>\n",
       "      <td>0</td>\n",
       "      <td>3</td>\n",
       "      <td>5.899362e+06</td>\n",
       "    </tr>\n",
       "    <tr>\n",
       "      <th>4</th>\n",
       "      <td>wmUeMoJZfsqaSX9b</td>\n",
       "      <td>0</td>\n",
       "      <td>4</td>\n",
       "      <td>1.266749e+06</td>\n",
       "    </tr>\n",
       "    <tr>\n",
       "      <th>5</th>\n",
       "      <td>EtBjGAHmHCe9t7TZ</td>\n",
       "      <td>0</td>\n",
       "      <td>5</td>\n",
       "      <td>3.857482e+06</td>\n",
       "    </tr>\n",
       "    <tr>\n",
       "      <th>6</th>\n",
       "      <td>hPNH34vmaZtvBtqc</td>\n",
       "      <td>0</td>\n",
       "      <td>6</td>\n",
       "      <td>1.240998e+07</td>\n",
       "    </tr>\n",
       "    <tr>\n",
       "      <th>7</th>\n",
       "      <td>wXjeI38bYDMJJwZC</td>\n",
       "      <td>0</td>\n",
       "      <td>7</td>\n",
       "      <td>7.097653e+06</td>\n",
       "    </tr>\n",
       "    <tr>\n",
       "      <th>8</th>\n",
       "      <td>fxZSGX6aPAFKU8W4</td>\n",
       "      <td>0</td>\n",
       "      <td>8</td>\n",
       "      <td>1.663499e+06</td>\n",
       "    </tr>\n",
       "    <tr>\n",
       "      <th>9</th>\n",
       "      <td>ewr0Fx6ign87OwaV</td>\n",
       "      <td>0</td>\n",
       "      <td>9</td>\n",
       "      <td>3.595638e+06</td>\n",
       "    </tr>\n",
       "    <tr>\n",
       "      <th>10</th>\n",
       "      <td>gHKurnEP4AowzsLg</td>\n",
       "      <td>0</td>\n",
       "      <td>10</td>\n",
       "      <td>8.777156e+05</td>\n",
       "    </tr>\n",
       "    <tr>\n",
       "      <th>11</th>\n",
       "      <td>PmLfTgY2FElLrTl0</td>\n",
       "      <td>0</td>\n",
       "      <td>11</td>\n",
       "      <td>6.291512e+06</td>\n",
       "    </tr>\n",
       "    <tr>\n",
       "      <th>12</th>\n",
       "      <td>eM2NppIOwzW0o8iy</td>\n",
       "      <td>0</td>\n",
       "      <td>12</td>\n",
       "      <td>1.059419e+07</td>\n",
       "    </tr>\n",
       "    <tr>\n",
       "      <th>13</th>\n",
       "      <td>dxxwNun97NH4WTrZ</td>\n",
       "      <td>0</td>\n",
       "      <td>13</td>\n",
       "      <td>4.395728e+06</td>\n",
       "    </tr>\n",
       "    <tr>\n",
       "      <th>14</th>\n",
       "      <td>jykBfhh3vdeFUi3H</td>\n",
       "      <td>0</td>\n",
       "      <td>14</td>\n",
       "      <td>3.688997e+06</td>\n",
       "    </tr>\n",
       "    <tr>\n",
       "      <th>15</th>\n",
       "      <td>NlXbvdFfmJZf3L18</td>\n",
       "      <td>0</td>\n",
       "      <td>15</td>\n",
       "      <td>2.434297e+07</td>\n",
       "    </tr>\n",
       "    <tr>\n",
       "      <th>16</th>\n",
       "      <td>D7jaFWHCzSqLBwdt</td>\n",
       "      <td>0</td>\n",
       "      <td>16</td>\n",
       "      <td>1.023008e+06</td>\n",
       "    </tr>\n",
       "    <tr>\n",
       "      <th>17</th>\n",
       "      <td>L10dBBdqGmemweSl</td>\n",
       "      <td>0</td>\n",
       "      <td>17</td>\n",
       "      <td>3.669878e+06</td>\n",
       "    </tr>\n",
       "    <tr>\n",
       "      <th>18</th>\n",
       "      <td>OgB0AdiPKlElakKN</td>\n",
       "      <td>0</td>\n",
       "      <td>18</td>\n",
       "      <td>1.299636e+06</td>\n",
       "    </tr>\n",
       "    <tr>\n",
       "      <th>19</th>\n",
       "      <td>StiWNN1GQrpPBOYt</td>\n",
       "      <td>0</td>\n",
       "      <td>19</td>\n",
       "      <td>2.563102e+06</td>\n",
       "    </tr>\n",
       "    <tr>\n",
       "      <th>20</th>\n",
       "      <td>a016eMAVQKnfwMnt</td>\n",
       "      <td>0</td>\n",
       "      <td>20</td>\n",
       "      <td>1.592172e+07</td>\n",
       "    </tr>\n",
       "    <tr>\n",
       "      <th>21</th>\n",
       "      <td>gsCFcQHnOH3AKMcZ</td>\n",
       "      <td>0</td>\n",
       "      <td>21</td>\n",
       "      <td>4.011421e+06</td>\n",
       "    </tr>\n",
       "    <tr>\n",
       "      <th>22</th>\n",
       "      <td>IbNsDXfsPwSuFpow</td>\n",
       "      <td>0</td>\n",
       "      <td>22</td>\n",
       "      <td>7.079746e+06</td>\n",
       "    </tr>\n",
       "    <tr>\n",
       "      <th>23</th>\n",
       "      <td>EgAVWOVxD1Jy5YkE</td>\n",
       "      <td>0</td>\n",
       "      <td>23</td>\n",
       "      <td>1.223042e+06</td>\n",
       "    </tr>\n",
       "    <tr>\n",
       "      <th>24</th>\n",
       "      <td>BrKghvR76XdbQPnx</td>\n",
       "      <td>0</td>\n",
       "      <td>24</td>\n",
       "      <td>6.479344e+06</td>\n",
       "    </tr>\n",
       "    <tr>\n",
       "      <th>25</th>\n",
       "      <td>a7fxkXTnUGWHUmKG</td>\n",
       "      <td>0</td>\n",
       "      <td>25</td>\n",
       "      <td>1.933313e+07</td>\n",
       "    </tr>\n",
       "    <tr>\n",
       "      <th>26</th>\n",
       "      <td>WgzXa170DfpzpURE</td>\n",
       "      <td>0</td>\n",
       "      <td>26</td>\n",
       "      <td>8.522936e+06</td>\n",
       "    </tr>\n",
       "    <tr>\n",
       "      <th>27</th>\n",
       "      <td>JPWqZbLq0VNC0yKI</td>\n",
       "      <td>0</td>\n",
       "      <td>27</td>\n",
       "      <td>1.213838e+07</td>\n",
       "    </tr>\n",
       "    <tr>\n",
       "      <th>28</th>\n",
       "      <td>JQgTtbVstqFZwEK1</td>\n",
       "      <td>0</td>\n",
       "      <td>28</td>\n",
       "      <td>1.064286e+06</td>\n",
       "    </tr>\n",
       "    <tr>\n",
       "      <th>29</th>\n",
       "      <td>bCSDbEthlS3nSIor</td>\n",
       "      <td>0</td>\n",
       "      <td>29</td>\n",
       "      <td>1.995242e+06</td>\n",
       "    </tr>\n",
       "    <tr>\n",
       "      <th>...</th>\n",
       "      <td>...</td>\n",
       "      <td>...</td>\n",
       "      <td>...</td>\n",
       "      <td>...</td>\n",
       "    </tr>\n",
       "    <tr>\n",
       "      <th>9970</th>\n",
       "      <td>QL412tWF5RDIX7IO</td>\n",
       "      <td>0</td>\n",
       "      <td>9970</td>\n",
       "      <td>2.229739e+06</td>\n",
       "    </tr>\n",
       "    <tr>\n",
       "      <th>9971</th>\n",
       "      <td>d3c2ceGtckONZzsr</td>\n",
       "      <td>0</td>\n",
       "      <td>9971</td>\n",
       "      <td>8.733244e+06</td>\n",
       "    </tr>\n",
       "    <tr>\n",
       "      <th>9972</th>\n",
       "      <td>P1j8YRbxDAovumaI</td>\n",
       "      <td>0</td>\n",
       "      <td>9972</td>\n",
       "      <td>1.447398e+07</td>\n",
       "    </tr>\n",
       "    <tr>\n",
       "      <th>9973</th>\n",
       "      <td>IxcBhEoFLcrI9TPr</td>\n",
       "      <td>0</td>\n",
       "      <td>9973</td>\n",
       "      <td>2.532664e+06</td>\n",
       "    </tr>\n",
       "    <tr>\n",
       "      <th>9974</th>\n",
       "      <td>rKiV0KDbAl2myBQI</td>\n",
       "      <td>0</td>\n",
       "      <td>9974</td>\n",
       "      <td>1.849260e+06</td>\n",
       "    </tr>\n",
       "    <tr>\n",
       "      <th>9975</th>\n",
       "      <td>GSdIXmKr0g5jQQcF</td>\n",
       "      <td>0</td>\n",
       "      <td>9975</td>\n",
       "      <td>1.531665e+06</td>\n",
       "    </tr>\n",
       "    <tr>\n",
       "      <th>9976</th>\n",
       "      <td>Am6Wcg3TO64qvzd8</td>\n",
       "      <td>0</td>\n",
       "      <td>9976</td>\n",
       "      <td>3.380539e+07</td>\n",
       "    </tr>\n",
       "    <tr>\n",
       "      <th>9977</th>\n",
       "      <td>RZqACAhkL4Tgw4Jr</td>\n",
       "      <td>0</td>\n",
       "      <td>9977</td>\n",
       "      <td>1.076273e+08</td>\n",
       "    </tr>\n",
       "    <tr>\n",
       "      <th>9978</th>\n",
       "      <td>u7NKZfWoMUlZy9rJ</td>\n",
       "      <td>0</td>\n",
       "      <td>9978</td>\n",
       "      <td>8.064325e+06</td>\n",
       "    </tr>\n",
       "    <tr>\n",
       "      <th>9979</th>\n",
       "      <td>C1BqV4MWH15rjAgz</td>\n",
       "      <td>0</td>\n",
       "      <td>9979</td>\n",
       "      <td>2.417482e+06</td>\n",
       "    </tr>\n",
       "    <tr>\n",
       "      <th>9980</th>\n",
       "      <td>wz8A2UbwsgR0lXGJ</td>\n",
       "      <td>0</td>\n",
       "      <td>9980</td>\n",
       "      <td>2.422717e+06</td>\n",
       "    </tr>\n",
       "    <tr>\n",
       "      <th>9981</th>\n",
       "      <td>MGJ8ABBTmC2yIaSm</td>\n",
       "      <td>0</td>\n",
       "      <td>9981</td>\n",
       "      <td>9.645769e+06</td>\n",
       "    </tr>\n",
       "    <tr>\n",
       "      <th>9982</th>\n",
       "      <td>MjHL2HP1PGIp8aBt</td>\n",
       "      <td>0</td>\n",
       "      <td>9982</td>\n",
       "      <td>1.715053e+06</td>\n",
       "    </tr>\n",
       "    <tr>\n",
       "      <th>9983</th>\n",
       "      <td>FMz7nnURFn85LaGt</td>\n",
       "      <td>0</td>\n",
       "      <td>9983</td>\n",
       "      <td>7.386667e+07</td>\n",
       "    </tr>\n",
       "    <tr>\n",
       "      <th>9984</th>\n",
       "      <td>kydULx0r0G7OklRD</td>\n",
       "      <td>0</td>\n",
       "      <td>9984</td>\n",
       "      <td>7.604289e+06</td>\n",
       "    </tr>\n",
       "    <tr>\n",
       "      <th>9985</th>\n",
       "      <td>nVNYRuk2fRbtlV00</td>\n",
       "      <td>0</td>\n",
       "      <td>9985</td>\n",
       "      <td>2.287444e+07</td>\n",
       "    </tr>\n",
       "    <tr>\n",
       "      <th>9986</th>\n",
       "      <td>F8SGEOGPxrPfiRv2</td>\n",
       "      <td>0</td>\n",
       "      <td>9986</td>\n",
       "      <td>9.001405e+05</td>\n",
       "    </tr>\n",
       "    <tr>\n",
       "      <th>9987</th>\n",
       "      <td>w7VMfiMvRb765ejK</td>\n",
       "      <td>0</td>\n",
       "      <td>9987</td>\n",
       "      <td>4.256822e+07</td>\n",
       "    </tr>\n",
       "    <tr>\n",
       "      <th>9988</th>\n",
       "      <td>lgZWdUKliWt2y5sM</td>\n",
       "      <td>0</td>\n",
       "      <td>9988</td>\n",
       "      <td>1.206704e+07</td>\n",
       "    </tr>\n",
       "    <tr>\n",
       "      <th>9989</th>\n",
       "      <td>TER8YrP9mw7UwWwr</td>\n",
       "      <td>0</td>\n",
       "      <td>9989</td>\n",
       "      <td>5.348761e+06</td>\n",
       "    </tr>\n",
       "    <tr>\n",
       "      <th>9990</th>\n",
       "      <td>TXHk3oUpVsm5Cmag</td>\n",
       "      <td>0</td>\n",
       "      <td>9990</td>\n",
       "      <td>3.736125e+06</td>\n",
       "    </tr>\n",
       "    <tr>\n",
       "      <th>9991</th>\n",
       "      <td>JtgDm9aQcGE9zELB</td>\n",
       "      <td>0</td>\n",
       "      <td>9991</td>\n",
       "      <td>5.607868e+05</td>\n",
       "    </tr>\n",
       "    <tr>\n",
       "      <th>9992</th>\n",
       "      <td>wTQmcqbN0OCuSF1t</td>\n",
       "      <td>0</td>\n",
       "      <td>9992</td>\n",
       "      <td>1.618410e+07</td>\n",
       "    </tr>\n",
       "    <tr>\n",
       "      <th>9993</th>\n",
       "      <td>WgsI1cBtzSfiWA1j</td>\n",
       "      <td>0</td>\n",
       "      <td>9993</td>\n",
       "      <td>2.065140e+07</td>\n",
       "    </tr>\n",
       "    <tr>\n",
       "      <th>9994</th>\n",
       "      <td>qNgt1ajb5uVMKbqm</td>\n",
       "      <td>0</td>\n",
       "      <td>9994</td>\n",
       "      <td>3.886630e+06</td>\n",
       "    </tr>\n",
       "    <tr>\n",
       "      <th>9995</th>\n",
       "      <td>UEeCDaAJzPwdKKKA</td>\n",
       "      <td>0</td>\n",
       "      <td>9995</td>\n",
       "      <td>1.120679e+06</td>\n",
       "    </tr>\n",
       "    <tr>\n",
       "      <th>9996</th>\n",
       "      <td>i0fgbPaQsDWs7Q87</td>\n",
       "      <td>0</td>\n",
       "      <td>9996</td>\n",
       "      <td>4.541003e+07</td>\n",
       "    </tr>\n",
       "    <tr>\n",
       "      <th>9997</th>\n",
       "      <td>YunNwAhcqkf6YclI</td>\n",
       "      <td>0</td>\n",
       "      <td>9997</td>\n",
       "      <td>1.159468e+06</td>\n",
       "    </tr>\n",
       "    <tr>\n",
       "      <th>9998</th>\n",
       "      <td>A2NotxtRY9MYoWMl</td>\n",
       "      <td>0</td>\n",
       "      <td>9998</td>\n",
       "      <td>3.448028e+06</td>\n",
       "    </tr>\n",
       "    <tr>\n",
       "      <th>9999</th>\n",
       "      <td>kKvgBXiA50gRmQhP</td>\n",
       "      <td>0</td>\n",
       "      <td>9999</td>\n",
       "      <td>4.654167e+06</td>\n",
       "    </tr>\n",
       "  </tbody>\n",
       "</table>\n",
       "<p>10000 rows × 4 columns</p>\n",
       "</div>"
      ],
      "text/plain": [
       "           building_id  total_price  index             0\n",
       "0     X5gsdTWGS3W7JJQB            0      0  1.277081e+07\n",
       "1     BTshNOJyKHnT2YIT            0      1  3.629924e+06\n",
       "2     dhdymr0lV8N5kZOT            0      2  1.089540e+07\n",
       "3     VEwyGGMcD56w5BOc            0      3  5.899362e+06\n",
       "4     wmUeMoJZfsqaSX9b            0      4  1.266749e+06\n",
       "5     EtBjGAHmHCe9t7TZ            0      5  3.857482e+06\n",
       "6     hPNH34vmaZtvBtqc            0      6  1.240998e+07\n",
       "7     wXjeI38bYDMJJwZC            0      7  7.097653e+06\n",
       "8     fxZSGX6aPAFKU8W4            0      8  1.663499e+06\n",
       "9     ewr0Fx6ign87OwaV            0      9  3.595638e+06\n",
       "10    gHKurnEP4AowzsLg            0     10  8.777156e+05\n",
       "11    PmLfTgY2FElLrTl0            0     11  6.291512e+06\n",
       "12    eM2NppIOwzW0o8iy            0     12  1.059419e+07\n",
       "13    dxxwNun97NH4WTrZ            0     13  4.395728e+06\n",
       "14    jykBfhh3vdeFUi3H            0     14  3.688997e+06\n",
       "15    NlXbvdFfmJZf3L18            0     15  2.434297e+07\n",
       "16    D7jaFWHCzSqLBwdt            0     16  1.023008e+06\n",
       "17    L10dBBdqGmemweSl            0     17  3.669878e+06\n",
       "18    OgB0AdiPKlElakKN            0     18  1.299636e+06\n",
       "19    StiWNN1GQrpPBOYt            0     19  2.563102e+06\n",
       "20    a016eMAVQKnfwMnt            0     20  1.592172e+07\n",
       "21    gsCFcQHnOH3AKMcZ            0     21  4.011421e+06\n",
       "22    IbNsDXfsPwSuFpow            0     22  7.079746e+06\n",
       "23    EgAVWOVxD1Jy5YkE            0     23  1.223042e+06\n",
       "24    BrKghvR76XdbQPnx            0     24  6.479344e+06\n",
       "25    a7fxkXTnUGWHUmKG            0     25  1.933313e+07\n",
       "26    WgzXa170DfpzpURE            0     26  8.522936e+06\n",
       "27    JPWqZbLq0VNC0yKI            0     27  1.213838e+07\n",
       "28    JQgTtbVstqFZwEK1            0     28  1.064286e+06\n",
       "29    bCSDbEthlS3nSIor            0     29  1.995242e+06\n",
       "...                ...          ...    ...           ...\n",
       "9970  QL412tWF5RDIX7IO            0   9970  2.229739e+06\n",
       "9971  d3c2ceGtckONZzsr            0   9971  8.733244e+06\n",
       "9972  P1j8YRbxDAovumaI            0   9972  1.447398e+07\n",
       "9973  IxcBhEoFLcrI9TPr            0   9973  2.532664e+06\n",
       "9974  rKiV0KDbAl2myBQI            0   9974  1.849260e+06\n",
       "9975  GSdIXmKr0g5jQQcF            0   9975  1.531665e+06\n",
       "9976  Am6Wcg3TO64qvzd8            0   9976  3.380539e+07\n",
       "9977  RZqACAhkL4Tgw4Jr            0   9977  1.076273e+08\n",
       "9978  u7NKZfWoMUlZy9rJ            0   9978  8.064325e+06\n",
       "9979  C1BqV4MWH15rjAgz            0   9979  2.417482e+06\n",
       "9980  wz8A2UbwsgR0lXGJ            0   9980  2.422717e+06\n",
       "9981  MGJ8ABBTmC2yIaSm            0   9981  9.645769e+06\n",
       "9982  MjHL2HP1PGIp8aBt            0   9982  1.715053e+06\n",
       "9983  FMz7nnURFn85LaGt            0   9983  7.386667e+07\n",
       "9984  kydULx0r0G7OklRD            0   9984  7.604289e+06\n",
       "9985  nVNYRuk2fRbtlV00            0   9985  2.287444e+07\n",
       "9986  F8SGEOGPxrPfiRv2            0   9986  9.001405e+05\n",
       "9987  w7VMfiMvRb765ejK            0   9987  4.256822e+07\n",
       "9988  lgZWdUKliWt2y5sM            0   9988  1.206704e+07\n",
       "9989  TER8YrP9mw7UwWwr            0   9989  5.348761e+06\n",
       "9990  TXHk3oUpVsm5Cmag            0   9990  3.736125e+06\n",
       "9991  JtgDm9aQcGE9zELB            0   9991  5.607868e+05\n",
       "9992  wTQmcqbN0OCuSF1t            0   9992  1.618410e+07\n",
       "9993  WgsI1cBtzSfiWA1j            0   9993  2.065140e+07\n",
       "9994  qNgt1ajb5uVMKbqm            0   9994  3.886630e+06\n",
       "9995  UEeCDaAJzPwdKKKA            0   9995  1.120679e+06\n",
       "9996  i0fgbPaQsDWs7Q87            0   9996  4.541003e+07\n",
       "9997  YunNwAhcqkf6YclI            0   9997  1.159468e+06\n",
       "9998  A2NotxtRY9MYoWMl            0   9998  3.448028e+06\n",
       "9999  kKvgBXiA50gRmQhP            0   9999  4.654167e+06\n",
       "\n",
       "[10000 rows x 4 columns]"
      ]
     },
     "execution_count": 584,
     "metadata": {},
     "output_type": "execute_result"
    }
   ],
   "source": [
    "answer = sub.merge(subbmit,on = 'building_id')\n",
    "answer"
   ]
  },
  {
   "cell_type": "code",
   "execution_count": 585,
   "metadata": {
    "scrolled": true
   },
   "outputs": [
    {
     "data": {
      "text/html": [
       "<div>\n",
       "<style scoped>\n",
       "    .dataframe tbody tr th:only-of-type {\n",
       "        vertical-align: middle;\n",
       "    }\n",
       "\n",
       "    .dataframe tbody tr th {\n",
       "        vertical-align: top;\n",
       "    }\n",
       "\n",
       "    .dataframe thead th {\n",
       "        text-align: right;\n",
       "    }\n",
       "</style>\n",
       "<table border=\"1\" class=\"dataframe\">\n",
       "  <thead>\n",
       "    <tr style=\"text-align: right;\">\n",
       "      <th></th>\n",
       "      <th>building_id</th>\n",
       "      <th>total_price</th>\n",
       "      <th>index</th>\n",
       "      <th>0</th>\n",
       "    </tr>\n",
       "  </thead>\n",
       "  <tbody>\n",
       "    <tr>\n",
       "      <th>0</th>\n",
       "      <td>X5gsdTWGS3W7JJQB</td>\n",
       "      <td>1.277081e+07</td>\n",
       "      <td>0</td>\n",
       "      <td>1.277081e+07</td>\n",
       "    </tr>\n",
       "    <tr>\n",
       "      <th>1</th>\n",
       "      <td>BTshNOJyKHnT2YIT</td>\n",
       "      <td>3.629924e+06</td>\n",
       "      <td>1</td>\n",
       "      <td>3.629924e+06</td>\n",
       "    </tr>\n",
       "    <tr>\n",
       "      <th>2</th>\n",
       "      <td>dhdymr0lV8N5kZOT</td>\n",
       "      <td>1.089540e+07</td>\n",
       "      <td>2</td>\n",
       "      <td>1.089540e+07</td>\n",
       "    </tr>\n",
       "    <tr>\n",
       "      <th>3</th>\n",
       "      <td>VEwyGGMcD56w5BOc</td>\n",
       "      <td>5.899362e+06</td>\n",
       "      <td>3</td>\n",
       "      <td>5.899362e+06</td>\n",
       "    </tr>\n",
       "    <tr>\n",
       "      <th>4</th>\n",
       "      <td>wmUeMoJZfsqaSX9b</td>\n",
       "      <td>1.266749e+06</td>\n",
       "      <td>4</td>\n",
       "      <td>1.266749e+06</td>\n",
       "    </tr>\n",
       "    <tr>\n",
       "      <th>5</th>\n",
       "      <td>EtBjGAHmHCe9t7TZ</td>\n",
       "      <td>3.857482e+06</td>\n",
       "      <td>5</td>\n",
       "      <td>3.857482e+06</td>\n",
       "    </tr>\n",
       "    <tr>\n",
       "      <th>6</th>\n",
       "      <td>hPNH34vmaZtvBtqc</td>\n",
       "      <td>1.240998e+07</td>\n",
       "      <td>6</td>\n",
       "      <td>1.240998e+07</td>\n",
       "    </tr>\n",
       "    <tr>\n",
       "      <th>7</th>\n",
       "      <td>wXjeI38bYDMJJwZC</td>\n",
       "      <td>7.097653e+06</td>\n",
       "      <td>7</td>\n",
       "      <td>7.097653e+06</td>\n",
       "    </tr>\n",
       "    <tr>\n",
       "      <th>8</th>\n",
       "      <td>fxZSGX6aPAFKU8W4</td>\n",
       "      <td>1.663499e+06</td>\n",
       "      <td>8</td>\n",
       "      <td>1.663499e+06</td>\n",
       "    </tr>\n",
       "    <tr>\n",
       "      <th>9</th>\n",
       "      <td>ewr0Fx6ign87OwaV</td>\n",
       "      <td>3.595638e+06</td>\n",
       "      <td>9</td>\n",
       "      <td>3.595638e+06</td>\n",
       "    </tr>\n",
       "    <tr>\n",
       "      <th>10</th>\n",
       "      <td>gHKurnEP4AowzsLg</td>\n",
       "      <td>8.777156e+05</td>\n",
       "      <td>10</td>\n",
       "      <td>8.777156e+05</td>\n",
       "    </tr>\n",
       "    <tr>\n",
       "      <th>11</th>\n",
       "      <td>PmLfTgY2FElLrTl0</td>\n",
       "      <td>6.291512e+06</td>\n",
       "      <td>11</td>\n",
       "      <td>6.291512e+06</td>\n",
       "    </tr>\n",
       "    <tr>\n",
       "      <th>12</th>\n",
       "      <td>eM2NppIOwzW0o8iy</td>\n",
       "      <td>1.059419e+07</td>\n",
       "      <td>12</td>\n",
       "      <td>1.059419e+07</td>\n",
       "    </tr>\n",
       "    <tr>\n",
       "      <th>13</th>\n",
       "      <td>dxxwNun97NH4WTrZ</td>\n",
       "      <td>4.395728e+06</td>\n",
       "      <td>13</td>\n",
       "      <td>4.395728e+06</td>\n",
       "    </tr>\n",
       "    <tr>\n",
       "      <th>14</th>\n",
       "      <td>jykBfhh3vdeFUi3H</td>\n",
       "      <td>3.688997e+06</td>\n",
       "      <td>14</td>\n",
       "      <td>3.688997e+06</td>\n",
       "    </tr>\n",
       "    <tr>\n",
       "      <th>15</th>\n",
       "      <td>NlXbvdFfmJZf3L18</td>\n",
       "      <td>2.434297e+07</td>\n",
       "      <td>15</td>\n",
       "      <td>2.434297e+07</td>\n",
       "    </tr>\n",
       "    <tr>\n",
       "      <th>16</th>\n",
       "      <td>D7jaFWHCzSqLBwdt</td>\n",
       "      <td>1.023008e+06</td>\n",
       "      <td>16</td>\n",
       "      <td>1.023008e+06</td>\n",
       "    </tr>\n",
       "    <tr>\n",
       "      <th>17</th>\n",
       "      <td>L10dBBdqGmemweSl</td>\n",
       "      <td>3.669878e+06</td>\n",
       "      <td>17</td>\n",
       "      <td>3.669878e+06</td>\n",
       "    </tr>\n",
       "    <tr>\n",
       "      <th>18</th>\n",
       "      <td>OgB0AdiPKlElakKN</td>\n",
       "      <td>1.299636e+06</td>\n",
       "      <td>18</td>\n",
       "      <td>1.299636e+06</td>\n",
       "    </tr>\n",
       "    <tr>\n",
       "      <th>19</th>\n",
       "      <td>StiWNN1GQrpPBOYt</td>\n",
       "      <td>2.563102e+06</td>\n",
       "      <td>19</td>\n",
       "      <td>2.563102e+06</td>\n",
       "    </tr>\n",
       "    <tr>\n",
       "      <th>20</th>\n",
       "      <td>a016eMAVQKnfwMnt</td>\n",
       "      <td>1.592172e+07</td>\n",
       "      <td>20</td>\n",
       "      <td>1.592172e+07</td>\n",
       "    </tr>\n",
       "    <tr>\n",
       "      <th>21</th>\n",
       "      <td>gsCFcQHnOH3AKMcZ</td>\n",
       "      <td>4.011421e+06</td>\n",
       "      <td>21</td>\n",
       "      <td>4.011421e+06</td>\n",
       "    </tr>\n",
       "    <tr>\n",
       "      <th>22</th>\n",
       "      <td>IbNsDXfsPwSuFpow</td>\n",
       "      <td>7.079746e+06</td>\n",
       "      <td>22</td>\n",
       "      <td>7.079746e+06</td>\n",
       "    </tr>\n",
       "    <tr>\n",
       "      <th>23</th>\n",
       "      <td>EgAVWOVxD1Jy5YkE</td>\n",
       "      <td>1.223042e+06</td>\n",
       "      <td>23</td>\n",
       "      <td>1.223042e+06</td>\n",
       "    </tr>\n",
       "    <tr>\n",
       "      <th>24</th>\n",
       "      <td>BrKghvR76XdbQPnx</td>\n",
       "      <td>6.479344e+06</td>\n",
       "      <td>24</td>\n",
       "      <td>6.479344e+06</td>\n",
       "    </tr>\n",
       "    <tr>\n",
       "      <th>25</th>\n",
       "      <td>a7fxkXTnUGWHUmKG</td>\n",
       "      <td>1.933313e+07</td>\n",
       "      <td>25</td>\n",
       "      <td>1.933313e+07</td>\n",
       "    </tr>\n",
       "    <tr>\n",
       "      <th>26</th>\n",
       "      <td>WgzXa170DfpzpURE</td>\n",
       "      <td>8.522936e+06</td>\n",
       "      <td>26</td>\n",
       "      <td>8.522936e+06</td>\n",
       "    </tr>\n",
       "    <tr>\n",
       "      <th>27</th>\n",
       "      <td>JPWqZbLq0VNC0yKI</td>\n",
       "      <td>1.213838e+07</td>\n",
       "      <td>27</td>\n",
       "      <td>1.213838e+07</td>\n",
       "    </tr>\n",
       "    <tr>\n",
       "      <th>28</th>\n",
       "      <td>JQgTtbVstqFZwEK1</td>\n",
       "      <td>1.064286e+06</td>\n",
       "      <td>28</td>\n",
       "      <td>1.064286e+06</td>\n",
       "    </tr>\n",
       "    <tr>\n",
       "      <th>29</th>\n",
       "      <td>bCSDbEthlS3nSIor</td>\n",
       "      <td>1.995242e+06</td>\n",
       "      <td>29</td>\n",
       "      <td>1.995242e+06</td>\n",
       "    </tr>\n",
       "    <tr>\n",
       "      <th>...</th>\n",
       "      <td>...</td>\n",
       "      <td>...</td>\n",
       "      <td>...</td>\n",
       "      <td>...</td>\n",
       "    </tr>\n",
       "    <tr>\n",
       "      <th>9970</th>\n",
       "      <td>QL412tWF5RDIX7IO</td>\n",
       "      <td>2.229739e+06</td>\n",
       "      <td>9970</td>\n",
       "      <td>2.229739e+06</td>\n",
       "    </tr>\n",
       "    <tr>\n",
       "      <th>9971</th>\n",
       "      <td>d3c2ceGtckONZzsr</td>\n",
       "      <td>8.733244e+06</td>\n",
       "      <td>9971</td>\n",
       "      <td>8.733244e+06</td>\n",
       "    </tr>\n",
       "    <tr>\n",
       "      <th>9972</th>\n",
       "      <td>P1j8YRbxDAovumaI</td>\n",
       "      <td>1.447398e+07</td>\n",
       "      <td>9972</td>\n",
       "      <td>1.447398e+07</td>\n",
       "    </tr>\n",
       "    <tr>\n",
       "      <th>9973</th>\n",
       "      <td>IxcBhEoFLcrI9TPr</td>\n",
       "      <td>2.532664e+06</td>\n",
       "      <td>9973</td>\n",
       "      <td>2.532664e+06</td>\n",
       "    </tr>\n",
       "    <tr>\n",
       "      <th>9974</th>\n",
       "      <td>rKiV0KDbAl2myBQI</td>\n",
       "      <td>1.849260e+06</td>\n",
       "      <td>9974</td>\n",
       "      <td>1.849260e+06</td>\n",
       "    </tr>\n",
       "    <tr>\n",
       "      <th>9975</th>\n",
       "      <td>GSdIXmKr0g5jQQcF</td>\n",
       "      <td>1.531665e+06</td>\n",
       "      <td>9975</td>\n",
       "      <td>1.531665e+06</td>\n",
       "    </tr>\n",
       "    <tr>\n",
       "      <th>9976</th>\n",
       "      <td>Am6Wcg3TO64qvzd8</td>\n",
       "      <td>3.380539e+07</td>\n",
       "      <td>9976</td>\n",
       "      <td>3.380539e+07</td>\n",
       "    </tr>\n",
       "    <tr>\n",
       "      <th>9977</th>\n",
       "      <td>RZqACAhkL4Tgw4Jr</td>\n",
       "      <td>1.076273e+08</td>\n",
       "      <td>9977</td>\n",
       "      <td>1.076273e+08</td>\n",
       "    </tr>\n",
       "    <tr>\n",
       "      <th>9978</th>\n",
       "      <td>u7NKZfWoMUlZy9rJ</td>\n",
       "      <td>8.064325e+06</td>\n",
       "      <td>9978</td>\n",
       "      <td>8.064325e+06</td>\n",
       "    </tr>\n",
       "    <tr>\n",
       "      <th>9979</th>\n",
       "      <td>C1BqV4MWH15rjAgz</td>\n",
       "      <td>2.417482e+06</td>\n",
       "      <td>9979</td>\n",
       "      <td>2.417482e+06</td>\n",
       "    </tr>\n",
       "    <tr>\n",
       "      <th>9980</th>\n",
       "      <td>wz8A2UbwsgR0lXGJ</td>\n",
       "      <td>2.422717e+06</td>\n",
       "      <td>9980</td>\n",
       "      <td>2.422717e+06</td>\n",
       "    </tr>\n",
       "    <tr>\n",
       "      <th>9981</th>\n",
       "      <td>MGJ8ABBTmC2yIaSm</td>\n",
       "      <td>9.645769e+06</td>\n",
       "      <td>9981</td>\n",
       "      <td>9.645769e+06</td>\n",
       "    </tr>\n",
       "    <tr>\n",
       "      <th>9982</th>\n",
       "      <td>MjHL2HP1PGIp8aBt</td>\n",
       "      <td>1.715053e+06</td>\n",
       "      <td>9982</td>\n",
       "      <td>1.715053e+06</td>\n",
       "    </tr>\n",
       "    <tr>\n",
       "      <th>9983</th>\n",
       "      <td>FMz7nnURFn85LaGt</td>\n",
       "      <td>7.386667e+07</td>\n",
       "      <td>9983</td>\n",
       "      <td>7.386667e+07</td>\n",
       "    </tr>\n",
       "    <tr>\n",
       "      <th>9984</th>\n",
       "      <td>kydULx0r0G7OklRD</td>\n",
       "      <td>7.604289e+06</td>\n",
       "      <td>9984</td>\n",
       "      <td>7.604289e+06</td>\n",
       "    </tr>\n",
       "    <tr>\n",
       "      <th>9985</th>\n",
       "      <td>nVNYRuk2fRbtlV00</td>\n",
       "      <td>2.287444e+07</td>\n",
       "      <td>9985</td>\n",
       "      <td>2.287444e+07</td>\n",
       "    </tr>\n",
       "    <tr>\n",
       "      <th>9986</th>\n",
       "      <td>F8SGEOGPxrPfiRv2</td>\n",
       "      <td>9.001405e+05</td>\n",
       "      <td>9986</td>\n",
       "      <td>9.001405e+05</td>\n",
       "    </tr>\n",
       "    <tr>\n",
       "      <th>9987</th>\n",
       "      <td>w7VMfiMvRb765ejK</td>\n",
       "      <td>4.256822e+07</td>\n",
       "      <td>9987</td>\n",
       "      <td>4.256822e+07</td>\n",
       "    </tr>\n",
       "    <tr>\n",
       "      <th>9988</th>\n",
       "      <td>lgZWdUKliWt2y5sM</td>\n",
       "      <td>1.206704e+07</td>\n",
       "      <td>9988</td>\n",
       "      <td>1.206704e+07</td>\n",
       "    </tr>\n",
       "    <tr>\n",
       "      <th>9989</th>\n",
       "      <td>TER8YrP9mw7UwWwr</td>\n",
       "      <td>5.348761e+06</td>\n",
       "      <td>9989</td>\n",
       "      <td>5.348761e+06</td>\n",
       "    </tr>\n",
       "    <tr>\n",
       "      <th>9990</th>\n",
       "      <td>TXHk3oUpVsm5Cmag</td>\n",
       "      <td>3.736125e+06</td>\n",
       "      <td>9990</td>\n",
       "      <td>3.736125e+06</td>\n",
       "    </tr>\n",
       "    <tr>\n",
       "      <th>9991</th>\n",
       "      <td>JtgDm9aQcGE9zELB</td>\n",
       "      <td>5.607868e+05</td>\n",
       "      <td>9991</td>\n",
       "      <td>5.607868e+05</td>\n",
       "    </tr>\n",
       "    <tr>\n",
       "      <th>9992</th>\n",
       "      <td>wTQmcqbN0OCuSF1t</td>\n",
       "      <td>1.618410e+07</td>\n",
       "      <td>9992</td>\n",
       "      <td>1.618410e+07</td>\n",
       "    </tr>\n",
       "    <tr>\n",
       "      <th>9993</th>\n",
       "      <td>WgsI1cBtzSfiWA1j</td>\n",
       "      <td>2.065140e+07</td>\n",
       "      <td>9993</td>\n",
       "      <td>2.065140e+07</td>\n",
       "    </tr>\n",
       "    <tr>\n",
       "      <th>9994</th>\n",
       "      <td>qNgt1ajb5uVMKbqm</td>\n",
       "      <td>3.886630e+06</td>\n",
       "      <td>9994</td>\n",
       "      <td>3.886630e+06</td>\n",
       "    </tr>\n",
       "    <tr>\n",
       "      <th>9995</th>\n",
       "      <td>UEeCDaAJzPwdKKKA</td>\n",
       "      <td>1.120679e+06</td>\n",
       "      <td>9995</td>\n",
       "      <td>1.120679e+06</td>\n",
       "    </tr>\n",
       "    <tr>\n",
       "      <th>9996</th>\n",
       "      <td>i0fgbPaQsDWs7Q87</td>\n",
       "      <td>4.541003e+07</td>\n",
       "      <td>9996</td>\n",
       "      <td>4.541003e+07</td>\n",
       "    </tr>\n",
       "    <tr>\n",
       "      <th>9997</th>\n",
       "      <td>YunNwAhcqkf6YclI</td>\n",
       "      <td>1.159468e+06</td>\n",
       "      <td>9997</td>\n",
       "      <td>1.159468e+06</td>\n",
       "    </tr>\n",
       "    <tr>\n",
       "      <th>9998</th>\n",
       "      <td>A2NotxtRY9MYoWMl</td>\n",
       "      <td>3.448028e+06</td>\n",
       "      <td>9998</td>\n",
       "      <td>3.448028e+06</td>\n",
       "    </tr>\n",
       "    <tr>\n",
       "      <th>9999</th>\n",
       "      <td>kKvgBXiA50gRmQhP</td>\n",
       "      <td>4.654167e+06</td>\n",
       "      <td>9999</td>\n",
       "      <td>4.654167e+06</td>\n",
       "    </tr>\n",
       "  </tbody>\n",
       "</table>\n",
       "<p>10000 rows × 4 columns</p>\n",
       "</div>"
      ],
      "text/plain": [
       "           building_id   total_price  index             0\n",
       "0     X5gsdTWGS3W7JJQB  1.277081e+07      0  1.277081e+07\n",
       "1     BTshNOJyKHnT2YIT  3.629924e+06      1  3.629924e+06\n",
       "2     dhdymr0lV8N5kZOT  1.089540e+07      2  1.089540e+07\n",
       "3     VEwyGGMcD56w5BOc  5.899362e+06      3  5.899362e+06\n",
       "4     wmUeMoJZfsqaSX9b  1.266749e+06      4  1.266749e+06\n",
       "5     EtBjGAHmHCe9t7TZ  3.857482e+06      5  3.857482e+06\n",
       "6     hPNH34vmaZtvBtqc  1.240998e+07      6  1.240998e+07\n",
       "7     wXjeI38bYDMJJwZC  7.097653e+06      7  7.097653e+06\n",
       "8     fxZSGX6aPAFKU8W4  1.663499e+06      8  1.663499e+06\n",
       "9     ewr0Fx6ign87OwaV  3.595638e+06      9  3.595638e+06\n",
       "10    gHKurnEP4AowzsLg  8.777156e+05     10  8.777156e+05\n",
       "11    PmLfTgY2FElLrTl0  6.291512e+06     11  6.291512e+06\n",
       "12    eM2NppIOwzW0o8iy  1.059419e+07     12  1.059419e+07\n",
       "13    dxxwNun97NH4WTrZ  4.395728e+06     13  4.395728e+06\n",
       "14    jykBfhh3vdeFUi3H  3.688997e+06     14  3.688997e+06\n",
       "15    NlXbvdFfmJZf3L18  2.434297e+07     15  2.434297e+07\n",
       "16    D7jaFWHCzSqLBwdt  1.023008e+06     16  1.023008e+06\n",
       "17    L10dBBdqGmemweSl  3.669878e+06     17  3.669878e+06\n",
       "18    OgB0AdiPKlElakKN  1.299636e+06     18  1.299636e+06\n",
       "19    StiWNN1GQrpPBOYt  2.563102e+06     19  2.563102e+06\n",
       "20    a016eMAVQKnfwMnt  1.592172e+07     20  1.592172e+07\n",
       "21    gsCFcQHnOH3AKMcZ  4.011421e+06     21  4.011421e+06\n",
       "22    IbNsDXfsPwSuFpow  7.079746e+06     22  7.079746e+06\n",
       "23    EgAVWOVxD1Jy5YkE  1.223042e+06     23  1.223042e+06\n",
       "24    BrKghvR76XdbQPnx  6.479344e+06     24  6.479344e+06\n",
       "25    a7fxkXTnUGWHUmKG  1.933313e+07     25  1.933313e+07\n",
       "26    WgzXa170DfpzpURE  8.522936e+06     26  8.522936e+06\n",
       "27    JPWqZbLq0VNC0yKI  1.213838e+07     27  1.213838e+07\n",
       "28    JQgTtbVstqFZwEK1  1.064286e+06     28  1.064286e+06\n",
       "29    bCSDbEthlS3nSIor  1.995242e+06     29  1.995242e+06\n",
       "...                ...           ...    ...           ...\n",
       "9970  QL412tWF5RDIX7IO  2.229739e+06   9970  2.229739e+06\n",
       "9971  d3c2ceGtckONZzsr  8.733244e+06   9971  8.733244e+06\n",
       "9972  P1j8YRbxDAovumaI  1.447398e+07   9972  1.447398e+07\n",
       "9973  IxcBhEoFLcrI9TPr  2.532664e+06   9973  2.532664e+06\n",
       "9974  rKiV0KDbAl2myBQI  1.849260e+06   9974  1.849260e+06\n",
       "9975  GSdIXmKr0g5jQQcF  1.531665e+06   9975  1.531665e+06\n",
       "9976  Am6Wcg3TO64qvzd8  3.380539e+07   9976  3.380539e+07\n",
       "9977  RZqACAhkL4Tgw4Jr  1.076273e+08   9977  1.076273e+08\n",
       "9978  u7NKZfWoMUlZy9rJ  8.064325e+06   9978  8.064325e+06\n",
       "9979  C1BqV4MWH15rjAgz  2.417482e+06   9979  2.417482e+06\n",
       "9980  wz8A2UbwsgR0lXGJ  2.422717e+06   9980  2.422717e+06\n",
       "9981  MGJ8ABBTmC2yIaSm  9.645769e+06   9981  9.645769e+06\n",
       "9982  MjHL2HP1PGIp8aBt  1.715053e+06   9982  1.715053e+06\n",
       "9983  FMz7nnURFn85LaGt  7.386667e+07   9983  7.386667e+07\n",
       "9984  kydULx0r0G7OklRD  7.604289e+06   9984  7.604289e+06\n",
       "9985  nVNYRuk2fRbtlV00  2.287444e+07   9985  2.287444e+07\n",
       "9986  F8SGEOGPxrPfiRv2  9.001405e+05   9986  9.001405e+05\n",
       "9987  w7VMfiMvRb765ejK  4.256822e+07   9987  4.256822e+07\n",
       "9988  lgZWdUKliWt2y5sM  1.206704e+07   9988  1.206704e+07\n",
       "9989  TER8YrP9mw7UwWwr  5.348761e+06   9989  5.348761e+06\n",
       "9990  TXHk3oUpVsm5Cmag  3.736125e+06   9990  3.736125e+06\n",
       "9991  JtgDm9aQcGE9zELB  5.607868e+05   9991  5.607868e+05\n",
       "9992  wTQmcqbN0OCuSF1t  1.618410e+07   9992  1.618410e+07\n",
       "9993  WgsI1cBtzSfiWA1j  2.065140e+07   9993  2.065140e+07\n",
       "9994  qNgt1ajb5uVMKbqm  3.886630e+06   9994  3.886630e+06\n",
       "9995  UEeCDaAJzPwdKKKA  1.120679e+06   9995  1.120679e+06\n",
       "9996  i0fgbPaQsDWs7Q87  4.541003e+07   9996  4.541003e+07\n",
       "9997  YunNwAhcqkf6YclI  1.159468e+06   9997  1.159468e+06\n",
       "9998  A2NotxtRY9MYoWMl  3.448028e+06   9998  3.448028e+06\n",
       "9999  kKvgBXiA50gRmQhP  4.654167e+06   9999  4.654167e+06\n",
       "\n",
       "[10000 rows x 4 columns]"
      ]
     },
     "execution_count": 585,
     "metadata": {},
     "output_type": "execute_result"
    }
   ],
   "source": [
    "answer['total_price'] = answer[0]\n",
    "answer"
   ]
  },
  {
   "cell_type": "code",
   "execution_count": 446,
   "metadata": {
    "scrolled": true
   },
   "outputs": [
    {
     "data": {
      "text/html": [
       "<div>\n",
       "<style scoped>\n",
       "    .dataframe tbody tr th:only-of-type {\n",
       "        vertical-align: middle;\n",
       "    }\n",
       "\n",
       "    .dataframe tbody tr th {\n",
       "        vertical-align: top;\n",
       "    }\n",
       "\n",
       "    .dataframe thead th {\n",
       "        text-align: right;\n",
       "    }\n",
       "</style>\n",
       "<table border=\"1\" class=\"dataframe\">\n",
       "  <thead>\n",
       "    <tr style=\"text-align: right;\">\n",
       "      <th></th>\n",
       "      <th>building_id</th>\n",
       "      <th>total_price</th>\n",
       "    </tr>\n",
       "  </thead>\n",
       "  <tbody>\n",
       "    <tr>\n",
       "      <th>0</th>\n",
       "      <td>X5gsdTWGS3W7JJQB</td>\n",
       "      <td>1.525316e+07</td>\n",
       "    </tr>\n",
       "    <tr>\n",
       "      <th>1</th>\n",
       "      <td>BTshNOJyKHnT2YIT</td>\n",
       "      <td>4.593591e+06</td>\n",
       "    </tr>\n",
       "    <tr>\n",
       "      <th>2</th>\n",
       "      <td>dhdymr0lV8N5kZOT</td>\n",
       "      <td>7.251619e+06</td>\n",
       "    </tr>\n",
       "    <tr>\n",
       "      <th>3</th>\n",
       "      <td>VEwyGGMcD56w5BOc</td>\n",
       "      <td>7.176508e+06</td>\n",
       "    </tr>\n",
       "    <tr>\n",
       "      <th>4</th>\n",
       "      <td>wmUeMoJZfsqaSX9b</td>\n",
       "      <td>2.382019e+06</td>\n",
       "    </tr>\n",
       "    <tr>\n",
       "      <th>5</th>\n",
       "      <td>EtBjGAHmHCe9t7TZ</td>\n",
       "      <td>3.687853e+06</td>\n",
       "    </tr>\n",
       "    <tr>\n",
       "      <th>6</th>\n",
       "      <td>hPNH34vmaZtvBtqc</td>\n",
       "      <td>9.353441e+06</td>\n",
       "    </tr>\n",
       "    <tr>\n",
       "      <th>7</th>\n",
       "      <td>wXjeI38bYDMJJwZC</td>\n",
       "      <td>9.497528e+06</td>\n",
       "    </tr>\n",
       "    <tr>\n",
       "      <th>8</th>\n",
       "      <td>fxZSGX6aPAFKU8W4</td>\n",
       "      <td>1.513216e+06</td>\n",
       "    </tr>\n",
       "    <tr>\n",
       "      <th>9</th>\n",
       "      <td>ewr0Fx6ign87OwaV</td>\n",
       "      <td>8.516537e+06</td>\n",
       "    </tr>\n",
       "    <tr>\n",
       "      <th>10</th>\n",
       "      <td>gHKurnEP4AowzsLg</td>\n",
       "      <td>1.309759e+06</td>\n",
       "    </tr>\n",
       "    <tr>\n",
       "      <th>11</th>\n",
       "      <td>PmLfTgY2FElLrTl0</td>\n",
       "      <td>6.520053e+06</td>\n",
       "    </tr>\n",
       "    <tr>\n",
       "      <th>12</th>\n",
       "      <td>eM2NppIOwzW0o8iy</td>\n",
       "      <td>1.120320e+07</td>\n",
       "    </tr>\n",
       "    <tr>\n",
       "      <th>13</th>\n",
       "      <td>dxxwNun97NH4WTrZ</td>\n",
       "      <td>5.655407e+06</td>\n",
       "    </tr>\n",
       "    <tr>\n",
       "      <th>14</th>\n",
       "      <td>jykBfhh3vdeFUi3H</td>\n",
       "      <td>3.892364e+06</td>\n",
       "    </tr>\n",
       "    <tr>\n",
       "      <th>15</th>\n",
       "      <td>NlXbvdFfmJZf3L18</td>\n",
       "      <td>2.192622e+07</td>\n",
       "    </tr>\n",
       "    <tr>\n",
       "      <th>16</th>\n",
       "      <td>D7jaFWHCzSqLBwdt</td>\n",
       "      <td>1.880944e+06</td>\n",
       "    </tr>\n",
       "    <tr>\n",
       "      <th>17</th>\n",
       "      <td>L10dBBdqGmemweSl</td>\n",
       "      <td>3.923834e+06</td>\n",
       "    </tr>\n",
       "    <tr>\n",
       "      <th>18</th>\n",
       "      <td>OgB0AdiPKlElakKN</td>\n",
       "      <td>1.293728e+06</td>\n",
       "    </tr>\n",
       "    <tr>\n",
       "      <th>19</th>\n",
       "      <td>StiWNN1GQrpPBOYt</td>\n",
       "      <td>4.802392e+06</td>\n",
       "    </tr>\n",
       "    <tr>\n",
       "      <th>20</th>\n",
       "      <td>a016eMAVQKnfwMnt</td>\n",
       "      <td>2.262280e+07</td>\n",
       "    </tr>\n",
       "    <tr>\n",
       "      <th>21</th>\n",
       "      <td>gsCFcQHnOH3AKMcZ</td>\n",
       "      <td>5.223319e+06</td>\n",
       "    </tr>\n",
       "    <tr>\n",
       "      <th>22</th>\n",
       "      <td>IbNsDXfsPwSuFpow</td>\n",
       "      <td>8.399169e+06</td>\n",
       "    </tr>\n",
       "    <tr>\n",
       "      <th>23</th>\n",
       "      <td>EgAVWOVxD1Jy5YkE</td>\n",
       "      <td>2.772642e+06</td>\n",
       "    </tr>\n",
       "    <tr>\n",
       "      <th>24</th>\n",
       "      <td>BrKghvR76XdbQPnx</td>\n",
       "      <td>7.012208e+06</td>\n",
       "    </tr>\n",
       "    <tr>\n",
       "      <th>25</th>\n",
       "      <td>a7fxkXTnUGWHUmKG</td>\n",
       "      <td>9.257884e+06</td>\n",
       "    </tr>\n",
       "    <tr>\n",
       "      <th>26</th>\n",
       "      <td>WgzXa170DfpzpURE</td>\n",
       "      <td>7.375017e+06</td>\n",
       "    </tr>\n",
       "    <tr>\n",
       "      <th>27</th>\n",
       "      <td>JPWqZbLq0VNC0yKI</td>\n",
       "      <td>1.528582e+07</td>\n",
       "    </tr>\n",
       "    <tr>\n",
       "      <th>28</th>\n",
       "      <td>JQgTtbVstqFZwEK1</td>\n",
       "      <td>2.473673e+06</td>\n",
       "    </tr>\n",
       "    <tr>\n",
       "      <th>29</th>\n",
       "      <td>bCSDbEthlS3nSIor</td>\n",
       "      <td>1.724062e+06</td>\n",
       "    </tr>\n",
       "    <tr>\n",
       "      <th>...</th>\n",
       "      <td>...</td>\n",
       "      <td>...</td>\n",
       "    </tr>\n",
       "    <tr>\n",
       "      <th>9970</th>\n",
       "      <td>QL412tWF5RDIX7IO</td>\n",
       "      <td>4.110140e+06</td>\n",
       "    </tr>\n",
       "    <tr>\n",
       "      <th>9971</th>\n",
       "      <td>d3c2ceGtckONZzsr</td>\n",
       "      <td>7.162433e+06</td>\n",
       "    </tr>\n",
       "    <tr>\n",
       "      <th>9972</th>\n",
       "      <td>P1j8YRbxDAovumaI</td>\n",
       "      <td>1.192004e+07</td>\n",
       "    </tr>\n",
       "    <tr>\n",
       "      <th>9973</th>\n",
       "      <td>IxcBhEoFLcrI9TPr</td>\n",
       "      <td>2.883675e+06</td>\n",
       "    </tr>\n",
       "    <tr>\n",
       "      <th>9974</th>\n",
       "      <td>rKiV0KDbAl2myBQI</td>\n",
       "      <td>2.239419e+06</td>\n",
       "    </tr>\n",
       "    <tr>\n",
       "      <th>9975</th>\n",
       "      <td>GSdIXmKr0g5jQQcF</td>\n",
       "      <td>1.660875e+06</td>\n",
       "    </tr>\n",
       "    <tr>\n",
       "      <th>9976</th>\n",
       "      <td>Am6Wcg3TO64qvzd8</td>\n",
       "      <td>2.326670e+07</td>\n",
       "    </tr>\n",
       "    <tr>\n",
       "      <th>9977</th>\n",
       "      <td>RZqACAhkL4Tgw4Jr</td>\n",
       "      <td>6.929890e+07</td>\n",
       "    </tr>\n",
       "    <tr>\n",
       "      <th>9978</th>\n",
       "      <td>u7NKZfWoMUlZy9rJ</td>\n",
       "      <td>7.052251e+06</td>\n",
       "    </tr>\n",
       "    <tr>\n",
       "      <th>9979</th>\n",
       "      <td>C1BqV4MWH15rjAgz</td>\n",
       "      <td>3.914469e+06</td>\n",
       "    </tr>\n",
       "    <tr>\n",
       "      <th>9980</th>\n",
       "      <td>wz8A2UbwsgR0lXGJ</td>\n",
       "      <td>4.024557e+06</td>\n",
       "    </tr>\n",
       "    <tr>\n",
       "      <th>9981</th>\n",
       "      <td>MGJ8ABBTmC2yIaSm</td>\n",
       "      <td>1.073171e+07</td>\n",
       "    </tr>\n",
       "    <tr>\n",
       "      <th>9982</th>\n",
       "      <td>MjHL2HP1PGIp8aBt</td>\n",
       "      <td>2.912401e+06</td>\n",
       "    </tr>\n",
       "    <tr>\n",
       "      <th>9983</th>\n",
       "      <td>FMz7nnURFn85LaGt</td>\n",
       "      <td>7.874907e+07</td>\n",
       "    </tr>\n",
       "    <tr>\n",
       "      <th>9984</th>\n",
       "      <td>kydULx0r0G7OklRD</td>\n",
       "      <td>6.115137e+06</td>\n",
       "    </tr>\n",
       "    <tr>\n",
       "      <th>9985</th>\n",
       "      <td>nVNYRuk2fRbtlV00</td>\n",
       "      <td>2.645867e+07</td>\n",
       "    </tr>\n",
       "    <tr>\n",
       "      <th>9986</th>\n",
       "      <td>F8SGEOGPxrPfiRv2</td>\n",
       "      <td>1.258112e+06</td>\n",
       "    </tr>\n",
       "    <tr>\n",
       "      <th>9987</th>\n",
       "      <td>w7VMfiMvRb765ejK</td>\n",
       "      <td>3.322244e+07</td>\n",
       "    </tr>\n",
       "    <tr>\n",
       "      <th>9988</th>\n",
       "      <td>lgZWdUKliWt2y5sM</td>\n",
       "      <td>1.099162e+07</td>\n",
       "    </tr>\n",
       "    <tr>\n",
       "      <th>9989</th>\n",
       "      <td>TER8YrP9mw7UwWwr</td>\n",
       "      <td>8.470975e+06</td>\n",
       "    </tr>\n",
       "    <tr>\n",
       "      <th>9990</th>\n",
       "      <td>TXHk3oUpVsm5Cmag</td>\n",
       "      <td>3.634145e+06</td>\n",
       "    </tr>\n",
       "    <tr>\n",
       "      <th>9991</th>\n",
       "      <td>JtgDm9aQcGE9zELB</td>\n",
       "      <td>2.303335e+06</td>\n",
       "    </tr>\n",
       "    <tr>\n",
       "      <th>9992</th>\n",
       "      <td>wTQmcqbN0OCuSF1t</td>\n",
       "      <td>1.994687e+07</td>\n",
       "    </tr>\n",
       "    <tr>\n",
       "      <th>9993</th>\n",
       "      <td>WgsI1cBtzSfiWA1j</td>\n",
       "      <td>5.326169e+07</td>\n",
       "    </tr>\n",
       "    <tr>\n",
       "      <th>9994</th>\n",
       "      <td>qNgt1ajb5uVMKbqm</td>\n",
       "      <td>5.008664e+06</td>\n",
       "    </tr>\n",
       "    <tr>\n",
       "      <th>9995</th>\n",
       "      <td>UEeCDaAJzPwdKKKA</td>\n",
       "      <td>2.143656e+06</td>\n",
       "    </tr>\n",
       "    <tr>\n",
       "      <th>9996</th>\n",
       "      <td>i0fgbPaQsDWs7Q87</td>\n",
       "      <td>4.432417e+07</td>\n",
       "    </tr>\n",
       "    <tr>\n",
       "      <th>9997</th>\n",
       "      <td>YunNwAhcqkf6YclI</td>\n",
       "      <td>1.300005e+06</td>\n",
       "    </tr>\n",
       "    <tr>\n",
       "      <th>9998</th>\n",
       "      <td>A2NotxtRY9MYoWMl</td>\n",
       "      <td>5.872629e+06</td>\n",
       "    </tr>\n",
       "    <tr>\n",
       "      <th>9999</th>\n",
       "      <td>kKvgBXiA50gRmQhP</td>\n",
       "      <td>3.939521e+06</td>\n",
       "    </tr>\n",
       "  </tbody>\n",
       "</table>\n",
       "<p>10000 rows × 2 columns</p>\n",
       "</div>"
      ],
      "text/plain": [
       "           building_id   total_price\n",
       "0     X5gsdTWGS3W7JJQB  1.525316e+07\n",
       "1     BTshNOJyKHnT2YIT  4.593591e+06\n",
       "2     dhdymr0lV8N5kZOT  7.251619e+06\n",
       "3     VEwyGGMcD56w5BOc  7.176508e+06\n",
       "4     wmUeMoJZfsqaSX9b  2.382019e+06\n",
       "5     EtBjGAHmHCe9t7TZ  3.687853e+06\n",
       "6     hPNH34vmaZtvBtqc  9.353441e+06\n",
       "7     wXjeI38bYDMJJwZC  9.497528e+06\n",
       "8     fxZSGX6aPAFKU8W4  1.513216e+06\n",
       "9     ewr0Fx6ign87OwaV  8.516537e+06\n",
       "10    gHKurnEP4AowzsLg  1.309759e+06\n",
       "11    PmLfTgY2FElLrTl0  6.520053e+06\n",
       "12    eM2NppIOwzW0o8iy  1.120320e+07\n",
       "13    dxxwNun97NH4WTrZ  5.655407e+06\n",
       "14    jykBfhh3vdeFUi3H  3.892364e+06\n",
       "15    NlXbvdFfmJZf3L18  2.192622e+07\n",
       "16    D7jaFWHCzSqLBwdt  1.880944e+06\n",
       "17    L10dBBdqGmemweSl  3.923834e+06\n",
       "18    OgB0AdiPKlElakKN  1.293728e+06\n",
       "19    StiWNN1GQrpPBOYt  4.802392e+06\n",
       "20    a016eMAVQKnfwMnt  2.262280e+07\n",
       "21    gsCFcQHnOH3AKMcZ  5.223319e+06\n",
       "22    IbNsDXfsPwSuFpow  8.399169e+06\n",
       "23    EgAVWOVxD1Jy5YkE  2.772642e+06\n",
       "24    BrKghvR76XdbQPnx  7.012208e+06\n",
       "25    a7fxkXTnUGWHUmKG  9.257884e+06\n",
       "26    WgzXa170DfpzpURE  7.375017e+06\n",
       "27    JPWqZbLq0VNC0yKI  1.528582e+07\n",
       "28    JQgTtbVstqFZwEK1  2.473673e+06\n",
       "29    bCSDbEthlS3nSIor  1.724062e+06\n",
       "...                ...           ...\n",
       "9970  QL412tWF5RDIX7IO  4.110140e+06\n",
       "9971  d3c2ceGtckONZzsr  7.162433e+06\n",
       "9972  P1j8YRbxDAovumaI  1.192004e+07\n",
       "9973  IxcBhEoFLcrI9TPr  2.883675e+06\n",
       "9974  rKiV0KDbAl2myBQI  2.239419e+06\n",
       "9975  GSdIXmKr0g5jQQcF  1.660875e+06\n",
       "9976  Am6Wcg3TO64qvzd8  2.326670e+07\n",
       "9977  RZqACAhkL4Tgw4Jr  6.929890e+07\n",
       "9978  u7NKZfWoMUlZy9rJ  7.052251e+06\n",
       "9979  C1BqV4MWH15rjAgz  3.914469e+06\n",
       "9980  wz8A2UbwsgR0lXGJ  4.024557e+06\n",
       "9981  MGJ8ABBTmC2yIaSm  1.073171e+07\n",
       "9982  MjHL2HP1PGIp8aBt  2.912401e+06\n",
       "9983  FMz7nnURFn85LaGt  7.874907e+07\n",
       "9984  kydULx0r0G7OklRD  6.115137e+06\n",
       "9985  nVNYRuk2fRbtlV00  2.645867e+07\n",
       "9986  F8SGEOGPxrPfiRv2  1.258112e+06\n",
       "9987  w7VMfiMvRb765ejK  3.322244e+07\n",
       "9988  lgZWdUKliWt2y5sM  1.099162e+07\n",
       "9989  TER8YrP9mw7UwWwr  8.470975e+06\n",
       "9990  TXHk3oUpVsm5Cmag  3.634145e+06\n",
       "9991  JtgDm9aQcGE9zELB  2.303335e+06\n",
       "9992  wTQmcqbN0OCuSF1t  1.994687e+07\n",
       "9993  WgsI1cBtzSfiWA1j  5.326169e+07\n",
       "9994  qNgt1ajb5uVMKbqm  5.008664e+06\n",
       "9995  UEeCDaAJzPwdKKKA  2.143656e+06\n",
       "9996  i0fgbPaQsDWs7Q87  4.432417e+07\n",
       "9997  YunNwAhcqkf6YclI  1.300005e+06\n",
       "9998  A2NotxtRY9MYoWMl  5.872629e+06\n",
       "9999  kKvgBXiA50gRmQhP  3.939521e+06\n",
       "\n",
       "[10000 rows x 2 columns]"
      ]
     },
     "execution_count": 446,
     "metadata": {},
     "output_type": "execute_result"
    }
   ],
   "source": [
    "Answer = answer.iloc[:, :-2]\n",
    "Answer"
   ]
  },
  {
   "cell_type": "code",
   "execution_count": 586,
   "metadata": {},
   "outputs": [],
   "source": [
    "Answer.to_csv('Answer1.csv')"
   ]
  },
  {
   "cell_type": "code",
   "execution_count": null,
   "metadata": {},
   "outputs": [],
   "source": []
  }
 ],
 "metadata": {
  "kernelspec": {
   "display_name": "Python 3",
   "language": "python",
   "name": "python3"
  },
  "language_info": {
   "codemirror_mode": {
    "name": "ipython",
    "version": 3
   },
   "file_extension": ".py",
   "mimetype": "text/x-python",
   "name": "python",
   "nbconvert_exporter": "python",
   "pygments_lexer": "ipython3",
   "version": "3.7.3"
  }
 },
 "nbformat": 4,
 "nbformat_minor": 2
}

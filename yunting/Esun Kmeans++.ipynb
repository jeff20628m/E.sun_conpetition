{
 "cells": [
  {
   "cell_type": "code",
   "execution_count": 1,
   "metadata": {},
   "outputs": [],
   "source": [
    "import numpy as np\n",
    "import pandas as pd\n",
    "import matplotlib.pyplot as plt\n",
    "from sklearn import preprocessing\n",
    "from sklearn.model_selection import cross_val_score, train_test_split, KFold\n",
    "from sklearn.cluster import KMeans"
   ]
  },
  {
   "cell_type": "code",
   "execution_count": 2,
   "metadata": {},
   "outputs": [],
   "source": [
    "trainx = pd.read_csv('C:\\\\Users\\\\yunting\\\\Documents\\\\GitHub\\\\E.sun_conpetition\\\\data_set\\\\new\\\\ready_train.csv')\n",
    "trainy = pd.read_csv('C:\\\\Users\\\\yunting\\\\Documents\\\\GitHub\\\\E.sun_conpetition\\\\data_set\\\\new\\\\ready_y.csv')"
   ]
  },
  {
   "cell_type": "code",
   "execution_count": 3,
   "metadata": {},
   "outputs": [],
   "source": [
    "#因為做了one hot encoding維度太高,所以用原始資料分群。\n",
    "train = pd.read_csv('C:\\\\Users\\\\yunting\\\\Documents\\\\GitHub\\\\E.sun_conpetition\\\\data_set\\\\initial\\\\train.csv')"
   ]
  },
  {
   "cell_type": "code",
   "execution_count": 4,
   "metadata": {},
   "outputs": [],
   "source": [
    "choose = [ 'town', 'village_income_median', 'total_price'] "
   ]
  },
  {
   "cell_type": "code",
   "execution_count": 5,
   "metadata": {},
   "outputs": [
    {
     "data": {
      "text/plain": [
       "count    58858.000000\n",
       "mean       674.840175\n",
       "std        140.653083\n",
       "min        411.000000\n",
       "25%        583.000000\n",
       "50%        642.000000\n",
       "75%        729.000000\n",
       "max       1851.000000\n",
       "Name: village_income_median, dtype: float64"
      ]
     },
     "execution_count": 5,
     "metadata": {},
     "output_type": "execute_result"
    }
   ],
   "source": [
    "train['village_income_median'].describe()"
   ]
  },
  {
   "cell_type": "code",
   "execution_count": 6,
   "metadata": {},
   "outputs": [
    {
     "data": {
      "text/plain": [
       "count    60000.000000\n",
       "mean       674.215117\n",
       "std        139.380337\n",
       "min        411.000000\n",
       "25%        584.000000\n",
       "50%        642.000000\n",
       "75%        728.000000\n",
       "max       1851.000000\n",
       "Name: village_income_median, dtype: float64"
      ]
     },
     "execution_count": 6,
     "metadata": {},
     "output_type": "execute_result"
    }
   ],
   "source": [
    "train['village_income_median'].fillna(642,inplace = True)\n",
    "train['village_income_median'].describe()"
   ]
  },
  {
   "cell_type": "code",
   "execution_count": 7,
   "metadata": {},
   "outputs": [],
   "source": [
    "ks = KMeans(n_clusters=20).fit(train[choose])\n",
    "labels = pd.DataFrame((ks.labels_).tolist())"
   ]
  },
  {
   "cell_type": "code",
   "execution_count": 8,
   "metadata": {},
   "outputs": [
    {
     "data": {
      "text/html": [
       "<div>\n",
       "<style scoped>\n",
       "    .dataframe tbody tr th:only-of-type {\n",
       "        vertical-align: middle;\n",
       "    }\n",
       "\n",
       "    .dataframe tbody tr th {\n",
       "        vertical-align: top;\n",
       "    }\n",
       "\n",
       "    .dataframe thead th {\n",
       "        text-align: right;\n",
       "    }\n",
       "</style>\n",
       "<table border=\"1\" class=\"dataframe\">\n",
       "  <thead>\n",
       "    <tr style=\"text-align: right;\">\n",
       "      <th></th>\n",
       "      <th>0</th>\n",
       "    </tr>\n",
       "  </thead>\n",
       "  <tbody>\n",
       "    <tr>\n",
       "      <th>count</th>\n",
       "      <td>60000.000000</td>\n",
       "    </tr>\n",
       "    <tr>\n",
       "      <th>mean</th>\n",
       "      <td>7.885217</td>\n",
       "    </tr>\n",
       "    <tr>\n",
       "      <th>std</th>\n",
       "      <td>8.312711</td>\n",
       "    </tr>\n",
       "    <tr>\n",
       "      <th>min</th>\n",
       "      <td>0.000000</td>\n",
       "    </tr>\n",
       "    <tr>\n",
       "      <th>25%</th>\n",
       "      <td>0.000000</td>\n",
       "    </tr>\n",
       "    <tr>\n",
       "      <th>50%</th>\n",
       "      <td>6.000000</td>\n",
       "    </tr>\n",
       "    <tr>\n",
       "      <th>75%</th>\n",
       "      <td>19.000000</td>\n",
       "    </tr>\n",
       "    <tr>\n",
       "      <th>max</th>\n",
       "      <td>19.000000</td>\n",
       "    </tr>\n",
       "  </tbody>\n",
       "</table>\n",
       "</div>"
      ],
      "text/plain": [
       "                  0\n",
       "count  60000.000000\n",
       "mean       7.885217\n",
       "std        8.312711\n",
       "min        0.000000\n",
       "25%        0.000000\n",
       "50%        6.000000\n",
       "75%       19.000000\n",
       "max       19.000000"
      ]
     },
     "execution_count": 8,
     "metadata": {},
     "output_type": "execute_result"
    }
   ],
   "source": [
    "labels.describe()"
   ]
  },
  {
   "cell_type": "code",
   "execution_count": 9,
   "metadata": {},
   "outputs": [
    {
     "data": {
      "text/html": [
       "<div>\n",
       "<style scoped>\n",
       "    .dataframe tbody tr th:only-of-type {\n",
       "        vertical-align: middle;\n",
       "    }\n",
       "\n",
       "    .dataframe tbody tr th {\n",
       "        vertical-align: top;\n",
       "    }\n",
       "\n",
       "    .dataframe thead th {\n",
       "        text-align: right;\n",
       "    }\n",
       "</style>\n",
       "<table border=\"1\" class=\"dataframe\">\n",
       "  <thead>\n",
       "    <tr style=\"text-align: right;\">\n",
       "      <th></th>\n",
       "      <th>III_10</th>\n",
       "      <th>III_100</th>\n",
       "      <th>III_1000</th>\n",
       "      <th>III_10000</th>\n",
       "      <th>III_250</th>\n",
       "      <th>III_50</th>\n",
       "      <th>III_500</th>\n",
       "      <th>III_5000</th>\n",
       "      <th>III_MIN</th>\n",
       "      <th>III_index_1000</th>\n",
       "      <th>...</th>\n",
       "      <th>vill_993</th>\n",
       "      <th>vill_994</th>\n",
       "      <th>vill_995</th>\n",
       "      <th>vill_996</th>\n",
       "      <th>vill_997</th>\n",
       "      <th>vill_998</th>\n",
       "      <th>vill_999</th>\n",
       "      <th>village_income_median</th>\n",
       "      <th>0</th>\n",
       "      <th>total_price</th>\n",
       "    </tr>\n",
       "  </thead>\n",
       "  <tbody>\n",
       "    <tr>\n",
       "      <th>0</th>\n",
       "      <td>0</td>\n",
       "      <td>3</td>\n",
       "      <td>91</td>\n",
       "      <td>3728</td>\n",
       "      <td>17</td>\n",
       "      <td>1</td>\n",
       "      <td>37</td>\n",
       "      <td>1861</td>\n",
       "      <td>42.635964</td>\n",
       "      <td>1</td>\n",
       "      <td>...</td>\n",
       "      <td>0</td>\n",
       "      <td>0</td>\n",
       "      <td>0</td>\n",
       "      <td>0</td>\n",
       "      <td>0</td>\n",
       "      <td>0</td>\n",
       "      <td>0</td>\n",
       "      <td>572</td>\n",
       "      <td>0</td>\n",
       "      <td>6.476038e+05</td>\n",
       "    </tr>\n",
       "    <tr>\n",
       "      <th>1</th>\n",
       "      <td>1</td>\n",
       "      <td>1</td>\n",
       "      <td>29</td>\n",
       "      <td>7380</td>\n",
       "      <td>4</td>\n",
       "      <td>1</td>\n",
       "      <td>11</td>\n",
       "      <td>2512</td>\n",
       "      <td>7.157464</td>\n",
       "      <td>1</td>\n",
       "      <td>...</td>\n",
       "      <td>0</td>\n",
       "      <td>0</td>\n",
       "      <td>0</td>\n",
       "      <td>0</td>\n",
       "      <td>0</td>\n",
       "      <td>0</td>\n",
       "      <td>0</td>\n",
       "      <td>550</td>\n",
       "      <td>0</td>\n",
       "      <td>3.321452e+06</td>\n",
       "    </tr>\n",
       "    <tr>\n",
       "      <th>2</th>\n",
       "      <td>0</td>\n",
       "      <td>1</td>\n",
       "      <td>235</td>\n",
       "      <td>7971</td>\n",
       "      <td>17</td>\n",
       "      <td>0</td>\n",
       "      <td>73</td>\n",
       "      <td>2695</td>\n",
       "      <td>86.589412</td>\n",
       "      <td>1</td>\n",
       "      <td>...</td>\n",
       "      <td>0</td>\n",
       "      <td>0</td>\n",
       "      <td>0</td>\n",
       "      <td>0</td>\n",
       "      <td>0</td>\n",
       "      <td>0</td>\n",
       "      <td>0</td>\n",
       "      <td>625</td>\n",
       "      <td>19</td>\n",
       "      <td>9.570885e+06</td>\n",
       "    </tr>\n",
       "  </tbody>\n",
       "</table>\n",
       "<p>3 rows × 3379 columns</p>\n",
       "</div>"
      ],
      "text/plain": [
       "   III_10  III_100  III_1000  III_10000  III_250  III_50  III_500  III_5000  \\\n",
       "0       0        3        91       3728       17       1       37      1861   \n",
       "1       1        1        29       7380        4       1       11      2512   \n",
       "2       0        1       235       7971       17       0       73      2695   \n",
       "\n",
       "     III_MIN  III_index_1000  ...  vill_993  vill_994  vill_995  vill_996  \\\n",
       "0  42.635964               1  ...         0         0         0         0   \n",
       "1   7.157464               1  ...         0         0         0         0   \n",
       "2  86.589412               1  ...         0         0         0         0   \n",
       "\n",
       "   vill_997  vill_998  vill_999  village_income_median   0   total_price  \n",
       "0         0         0         0                    572   0  6.476038e+05  \n",
       "1         0         0         0                    550   0  3.321452e+06  \n",
       "2         0         0         0                    625  19  9.570885e+06  \n",
       "\n",
       "[3 rows x 3379 columns]"
      ]
     },
     "execution_count": 9,
     "metadata": {},
     "output_type": "execute_result"
    }
   ],
   "source": [
    "trainx_addlabels = pd.concat([trainx, labels, trainy],axis=1)\n",
    "trainx_addlabels.head(3)"
   ]
  },
  {
   "cell_type": "markdown",
   "metadata": {},
   "source": [
    "# Group_10"
   ]
  },
  {
   "cell_type": "code",
   "execution_count": 10,
   "metadata": {},
   "outputs": [],
   "source": [
    "group10 = trainx_addlabels[0]==10"
   ]
  },
  {
   "cell_type": "code",
   "execution_count": 11,
   "metadata": {},
   "outputs": [
    {
     "data": {
      "text/html": [
       "<div>\n",
       "<style scoped>\n",
       "    .dataframe tbody tr th:only-of-type {\n",
       "        vertical-align: middle;\n",
       "    }\n",
       "\n",
       "    .dataframe tbody tr th {\n",
       "        vertical-align: top;\n",
       "    }\n",
       "\n",
       "    .dataframe thead th {\n",
       "        text-align: right;\n",
       "    }\n",
       "</style>\n",
       "<table border=\"1\" class=\"dataframe\">\n",
       "  <thead>\n",
       "    <tr style=\"text-align: right;\">\n",
       "      <th></th>\n",
       "      <th>III_10</th>\n",
       "      <th>III_100</th>\n",
       "      <th>III_1000</th>\n",
       "      <th>III_10000</th>\n",
       "      <th>III_250</th>\n",
       "      <th>III_50</th>\n",
       "      <th>III_500</th>\n",
       "      <th>III_5000</th>\n",
       "      <th>III_MIN</th>\n",
       "      <th>III_index_1000</th>\n",
       "      <th>...</th>\n",
       "      <th>vill_993</th>\n",
       "      <th>vill_994</th>\n",
       "      <th>vill_995</th>\n",
       "      <th>vill_996</th>\n",
       "      <th>vill_997</th>\n",
       "      <th>vill_998</th>\n",
       "      <th>vill_999</th>\n",
       "      <th>village_income_median</th>\n",
       "      <th>0</th>\n",
       "      <th>total_price</th>\n",
       "    </tr>\n",
       "  </thead>\n",
       "  <tbody>\n",
       "    <tr>\n",
       "      <th>3</th>\n",
       "      <td>0</td>\n",
       "      <td>1</td>\n",
       "      <td>50</td>\n",
       "      <td>3904</td>\n",
       "      <td>3</td>\n",
       "      <td>1</td>\n",
       "      <td>5</td>\n",
       "      <td>2157</td>\n",
       "      <td>45.508654</td>\n",
       "      <td>1</td>\n",
       "      <td>...</td>\n",
       "      <td>0</td>\n",
       "      <td>0</td>\n",
       "      <td>0</td>\n",
       "      <td>0</td>\n",
       "      <td>0</td>\n",
       "      <td>0</td>\n",
       "      <td>0</td>\n",
       "      <td>950</td>\n",
       "      <td>10</td>\n",
       "      <td>14215011.13</td>\n",
       "    </tr>\n",
       "    <tr>\n",
       "      <th>9</th>\n",
       "      <td>0</td>\n",
       "      <td>2</td>\n",
       "      <td>201</td>\n",
       "      <td>10173</td>\n",
       "      <td>9</td>\n",
       "      <td>1</td>\n",
       "      <td>31</td>\n",
       "      <td>3849</td>\n",
       "      <td>36.215680</td>\n",
       "      <td>1</td>\n",
       "      <td>...</td>\n",
       "      <td>0</td>\n",
       "      <td>0</td>\n",
       "      <td>0</td>\n",
       "      <td>0</td>\n",
       "      <td>0</td>\n",
       "      <td>0</td>\n",
       "      <td>0</td>\n",
       "      <td>604</td>\n",
       "      <td>10</td>\n",
       "      <td>11815402.04</td>\n",
       "    </tr>\n",
       "    <tr>\n",
       "      <th>11</th>\n",
       "      <td>0</td>\n",
       "      <td>0</td>\n",
       "      <td>51</td>\n",
       "      <td>3925</td>\n",
       "      <td>4</td>\n",
       "      <td>0</td>\n",
       "      <td>17</td>\n",
       "      <td>2285</td>\n",
       "      <td>132.253089</td>\n",
       "      <td>1</td>\n",
       "      <td>...</td>\n",
       "      <td>0</td>\n",
       "      <td>0</td>\n",
       "      <td>0</td>\n",
       "      <td>0</td>\n",
       "      <td>0</td>\n",
       "      <td>0</td>\n",
       "      <td>0</td>\n",
       "      <td>950</td>\n",
       "      <td>10</td>\n",
       "      <td>11240596.77</td>\n",
       "    </tr>\n",
       "  </tbody>\n",
       "</table>\n",
       "<p>3 rows × 3379 columns</p>\n",
       "</div>"
      ],
      "text/plain": [
       "    III_10  III_100  III_1000  III_10000  III_250  III_50  III_500  III_5000  \\\n",
       "3        0        1        50       3904        3       1        5      2157   \n",
       "9        0        2       201      10173        9       1       31      3849   \n",
       "11       0        0        51       3925        4       0       17      2285   \n",
       "\n",
       "       III_MIN  III_index_1000  ...  vill_993  vill_994  vill_995  vill_996  \\\n",
       "3    45.508654               1  ...         0         0         0         0   \n",
       "9    36.215680               1  ...         0         0         0         0   \n",
       "11  132.253089               1  ...         0         0         0         0   \n",
       "\n",
       "    vill_997  vill_998  vill_999  village_income_median   0  total_price  \n",
       "3          0         0         0                    950  10  14215011.13  \n",
       "9          0         0         0                    604  10  11815402.04  \n",
       "11         0         0         0                    950  10  11240596.77  \n",
       "\n",
       "[3 rows x 3379 columns]"
      ]
     },
     "execution_count": 11,
     "metadata": {},
     "output_type": "execute_result"
    }
   ],
   "source": [
    "group_10 = trainx_addlabels[group10]\n",
    "group_10.head(3)"
   ]
  },
  {
   "cell_type": "code",
   "execution_count": 12,
   "metadata": {},
   "outputs": [
    {
     "data": {
      "text/html": [
       "<div>\n",
       "<style scoped>\n",
       "    .dataframe tbody tr th:only-of-type {\n",
       "        vertical-align: middle;\n",
       "    }\n",
       "\n",
       "    .dataframe tbody tr th {\n",
       "        vertical-align: top;\n",
       "    }\n",
       "\n",
       "    .dataframe thead th {\n",
       "        text-align: right;\n",
       "    }\n",
       "</style>\n",
       "<table border=\"1\" class=\"dataframe\">\n",
       "  <thead>\n",
       "    <tr style=\"text-align: right;\">\n",
       "      <th></th>\n",
       "      <th>III_10</th>\n",
       "      <th>III_100</th>\n",
       "      <th>III_1000</th>\n",
       "      <th>III_10000</th>\n",
       "      <th>III_250</th>\n",
       "      <th>III_50</th>\n",
       "      <th>III_500</th>\n",
       "      <th>III_5000</th>\n",
       "      <th>III_MIN</th>\n",
       "      <th>III_index_1000</th>\n",
       "      <th>...</th>\n",
       "      <th>vill_992</th>\n",
       "      <th>vill_993</th>\n",
       "      <th>vill_994</th>\n",
       "      <th>vill_995</th>\n",
       "      <th>vill_996</th>\n",
       "      <th>vill_997</th>\n",
       "      <th>vill_998</th>\n",
       "      <th>vill_999</th>\n",
       "      <th>village_income_median</th>\n",
       "      <th>total_price</th>\n",
       "    </tr>\n",
       "  </thead>\n",
       "  <tbody>\n",
       "    <tr>\n",
       "      <th>3</th>\n",
       "      <td>0</td>\n",
       "      <td>1</td>\n",
       "      <td>50</td>\n",
       "      <td>3904</td>\n",
       "      <td>3</td>\n",
       "      <td>1</td>\n",
       "      <td>5</td>\n",
       "      <td>2157</td>\n",
       "      <td>45.508654</td>\n",
       "      <td>1</td>\n",
       "      <td>...</td>\n",
       "      <td>0</td>\n",
       "      <td>0</td>\n",
       "      <td>0</td>\n",
       "      <td>0</td>\n",
       "      <td>0</td>\n",
       "      <td>0</td>\n",
       "      <td>0</td>\n",
       "      <td>0</td>\n",
       "      <td>950</td>\n",
       "      <td>14215011.13</td>\n",
       "    </tr>\n",
       "    <tr>\n",
       "      <th>9</th>\n",
       "      <td>0</td>\n",
       "      <td>2</td>\n",
       "      <td>201</td>\n",
       "      <td>10173</td>\n",
       "      <td>9</td>\n",
       "      <td>1</td>\n",
       "      <td>31</td>\n",
       "      <td>3849</td>\n",
       "      <td>36.215680</td>\n",
       "      <td>1</td>\n",
       "      <td>...</td>\n",
       "      <td>0</td>\n",
       "      <td>0</td>\n",
       "      <td>0</td>\n",
       "      <td>0</td>\n",
       "      <td>0</td>\n",
       "      <td>0</td>\n",
       "      <td>0</td>\n",
       "      <td>0</td>\n",
       "      <td>604</td>\n",
       "      <td>11815402.04</td>\n",
       "    </tr>\n",
       "    <tr>\n",
       "      <th>11</th>\n",
       "      <td>0</td>\n",
       "      <td>0</td>\n",
       "      <td>51</td>\n",
       "      <td>3925</td>\n",
       "      <td>4</td>\n",
       "      <td>0</td>\n",
       "      <td>17</td>\n",
       "      <td>2285</td>\n",
       "      <td>132.253089</td>\n",
       "      <td>1</td>\n",
       "      <td>...</td>\n",
       "      <td>0</td>\n",
       "      <td>0</td>\n",
       "      <td>0</td>\n",
       "      <td>0</td>\n",
       "      <td>0</td>\n",
       "      <td>0</td>\n",
       "      <td>0</td>\n",
       "      <td>0</td>\n",
       "      <td>950</td>\n",
       "      <td>11240596.77</td>\n",
       "    </tr>\n",
       "  </tbody>\n",
       "</table>\n",
       "<p>3 rows × 3378 columns</p>\n",
       "</div>"
      ],
      "text/plain": [
       "    III_10  III_100  III_1000  III_10000  III_250  III_50  III_500  III_5000  \\\n",
       "3        0        1        50       3904        3       1        5      2157   \n",
       "9        0        2       201      10173        9       1       31      3849   \n",
       "11       0        0        51       3925        4       0       17      2285   \n",
       "\n",
       "       III_MIN  III_index_1000  ...  vill_992  vill_993  vill_994  vill_995  \\\n",
       "3    45.508654               1  ...         0         0         0         0   \n",
       "9    36.215680               1  ...         0         0         0         0   \n",
       "11  132.253089               1  ...         0         0         0         0   \n",
       "\n",
       "    vill_996  vill_997  vill_998  vill_999  village_income_median  total_price  \n",
       "3          0         0         0         0                    950  14215011.13  \n",
       "9          0         0         0         0                    604  11815402.04  \n",
       "11         0         0         0         0                    950  11240596.77  \n",
       "\n",
       "[3 rows x 3378 columns]"
      ]
     },
     "execution_count": 12,
     "metadata": {},
     "output_type": "execute_result"
    }
   ],
   "source": [
    "Group_10 = group_10.drop([0], axis = 1)\n",
    "Group_10.head(3)"
   ]
  },
  {
   "cell_type": "markdown",
   "metadata": {},
   "source": [
    "## train Group_10"
   ]
  },
  {
   "cell_type": "code",
   "execution_count": 13,
   "metadata": {},
   "outputs": [
    {
     "name": "stderr",
     "output_type": "stream",
     "text": [
      "C:\\ProgramData\\Anaconda3\\lib\\site-packages\\ipykernel_launcher.py:2: DataConversionWarning: Data with input dtype int64, float64 were all converted to float64 by the scale function.\n",
      "  \n"
     ]
    }
   ],
   "source": [
    "#標準化\n",
    "norm_Group_10 = preprocessing.scale(Group_10)"
   ]
  },
  {
   "cell_type": "code",
   "execution_count": 14,
   "metadata": {},
   "outputs": [],
   "source": [
    "norm_Group_10_X = norm_Group_10[:, :-2] \n",
    "norm_Group_10_y = norm_Group_10[:, -1]"
   ]
  },
  {
   "cell_type": "code",
   "execution_count": 15,
   "metadata": {},
   "outputs": [],
   "source": [
    "#CV\n",
    "train_X , test_X , train_y, test_y = train_test_split (norm_Group_10_X , norm_Group_10_y, test_size = 0.3)\n",
    "#KFold\n",
    "kf = KFold(n_splits=5, shuffle=False)"
   ]
  },
  {
   "cell_type": "markdown",
   "metadata": {},
   "source": [
    "# Decision Tree"
   ]
  },
  {
   "cell_type": "code",
   "execution_count": 16,
   "metadata": {},
   "outputs": [],
   "source": [
    "from sklearn.tree import DecisionTreeRegressor"
   ]
  },
  {
   "cell_type": "code",
   "execution_count": 17,
   "metadata": {},
   "outputs": [],
   "source": [
    "treereg = DecisionTreeRegressor()"
   ]
  },
  {
   "cell_type": "markdown",
   "metadata": {},
   "source": [
    "## CV tree"
   ]
  },
  {
   "cell_type": "code",
   "execution_count": 18,
   "metadata": {},
   "outputs": [
    {
     "data": {
      "text/plain": [
       "array([0.66500105, 0.6461337 , 0.65063328, 0.65027631, 0.65253421,\n",
       "       0.65394766, 0.66987912, 0.62548961, 0.68198672, 0.63890108])"
      ]
     },
     "execution_count": 18,
     "metadata": {},
     "output_type": "execute_result"
    }
   ],
   "source": [
    "cross_val_score(treereg, train_X, train_y, cv=10, n_jobs = -1)"
   ]
  },
  {
   "cell_type": "code",
   "execution_count": 20,
   "metadata": {},
   "outputs": [
    {
     "data": {
      "text/plain": [
       "0.6889516086845446"
      ]
     },
     "execution_count": 20,
     "metadata": {},
     "output_type": "execute_result"
    }
   ],
   "source": [
    "treereg.fit(train_X, train_y)\n",
    "treereg.score(test_X, test_y)"
   ]
  },
  {
   "cell_type": "markdown",
   "metadata": {},
   "source": [
    "## KFold tree"
   ]
  },
  {
   "cell_type": "code",
   "execution_count": 21,
   "metadata": {},
   "outputs": [],
   "source": [
    "dscores = []\n",
    "for train_index, test_index in kf.split(norm_Group_10_X):\n",
    "    X_train, X_test, y_train, y_test = norm_Group_10_X[train_index], norm_Group_10_X[test_index], norm_Group_10_y[train_index], norm_Group_10_y[test_index]\n",
    "    treereg.fit(X_train, y_train)\n",
    "    dscores.append(treereg.score(X_test, y_test))"
   ]
  },
  {
   "cell_type": "code",
   "execution_count": 22,
   "metadata": {},
   "outputs": [
    {
     "name": "stdout",
     "output_type": "stream",
     "text": [
      "dscores:  [0.6993243967341346, 0.6871260320139343, 0.6763871011943139, 0.6737289639588134, 0.6661188465742705]\n",
      "means:  0.6805370680950933\n",
      "vars: 0.00013356715638932897\n"
     ]
    }
   ],
   "source": [
    "print('dscores: ', dscores)\n",
    "print('means: ', np.mean(dscores))\n",
    "print('vars:', np.var(dscores))"
   ]
  },
  {
   "cell_type": "markdown",
   "metadata": {},
   "source": [
    "# xgboost"
   ]
  },
  {
   "cell_type": "code",
   "execution_count": 16,
   "metadata": {},
   "outputs": [],
   "source": [
    "from xgboost import XGBRFRegressor"
   ]
  },
  {
   "cell_type": "code",
   "execution_count": 17,
   "metadata": {},
   "outputs": [],
   "source": [
    "xgbfr = XGBRFRegressor()"
   ]
  },
  {
   "cell_type": "markdown",
   "metadata": {},
   "source": [
    "## cv xgb"
   ]
  },
  {
   "cell_type": "code",
   "execution_count": 18,
   "metadata": {},
   "outputs": [
    {
     "data": {
      "text/plain": [
       "array([0.10815616, 0.06946711, 0.11421027, 0.09763328, 0.13816477,\n",
       "       0.11979729, 0.11947955, 0.09703998, 0.09482505, 0.11275357])"
      ]
     },
     "execution_count": 18,
     "metadata": {},
     "output_type": "execute_result"
    }
   ],
   "source": [
    "cross_val_score(xgbfr, train_X, train_y, cv=10, n_jobs = -1)"
   ]
  },
  {
   "cell_type": "markdown",
   "metadata": {},
   "source": [
    "## KFold xgb"
   ]
  },
  {
   "cell_type": "code",
   "execution_count": 19,
   "metadata": {},
   "outputs": [
    {
     "name": "stdout",
     "output_type": "stream",
     "text": [
      "[23:13:24] WARNING: d:\\build\\xgboost\\xgboost-0.90.git\\src\\objective\\regression_obj.cu:152: reg:linear is now deprecated in favor of reg:squarederror.\n",
      "[23:14:08] WARNING: d:\\build\\xgboost\\xgboost-0.90.git\\src\\objective\\regression_obj.cu:152: reg:linear is now deprecated in favor of reg:squarederror.\n",
      "[23:14:54] WARNING: d:\\build\\xgboost\\xgboost-0.90.git\\src\\objective\\regression_obj.cu:152: reg:linear is now deprecated in favor of reg:squarederror.\n",
      "[23:15:42] WARNING: d:\\build\\xgboost\\xgboost-0.90.git\\src\\objective\\regression_obj.cu:152: reg:linear is now deprecated in favor of reg:squarederror.\n",
      "[23:16:29] WARNING: d:\\build\\xgboost\\xgboost-0.90.git\\src\\objective\\regression_obj.cu:152: reg:linear is now deprecated in favor of reg:squarederror.\n"
     ]
    }
   ],
   "source": [
    "xscores = []\n",
    "for train_index, test_index in kf.split(norm_Group_10_X):\n",
    "    X_train, X_test, y_train, y_test = norm_Group_10_X[train_index], norm_Group_10_X[test_index], norm_Group_10_y[train_index], norm_Group_10_y[test_index]\n",
    "    xgbfr.fit(X_train, y_train)\n",
    "    xscores.append(xgbfr.score(X_test, y_test))"
   ]
  },
  {
   "cell_type": "code",
   "execution_count": 20,
   "metadata": {},
   "outputs": [
    {
     "name": "stdout",
     "output_type": "stream",
     "text": [
      "xscores:  [0.09822961067967284, 0.11008347700280663, 0.10826394686467311, 0.07887154216603554, 0.11174702723523211]\n",
      "means:  0.10143912078968405\n",
      "vars: 0.00014943052813283888\n"
     ]
    }
   ],
   "source": [
    "print('xscores: ', xscores)\n",
    "print('means: ', np.mean(xscores))\n",
    "print('vars:', np.var(xscores))"
   ]
  },
  {
   "cell_type": "code",
   "execution_count": null,
   "metadata": {},
   "outputs": [],
   "source": []
  }
 ],
 "metadata": {
  "kernelspec": {
   "display_name": "Python 3",
   "language": "python",
   "name": "python3"
  },
  "language_info": {
   "codemirror_mode": {
    "name": "ipython",
    "version": 3
   },
   "file_extension": ".py",
   "mimetype": "text/x-python",
   "name": "python",
   "nbconvert_exporter": "python",
   "pygments_lexer": "ipython3",
   "version": "3.7.3"
  }
 },
 "nbformat": 4,
 "nbformat_minor": 2
}

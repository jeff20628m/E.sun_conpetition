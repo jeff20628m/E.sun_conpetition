{
 "cells": [
  {
   "cell_type": "code",
   "execution_count": 1,
   "metadata": {},
   "outputs": [],
   "source": [
    "import numpy as np\n",
    "import pandas as pd\n",
    "import matplotlib.pyplot as plt"
   ]
  },
  {
   "cell_type": "code",
   "execution_count": 2,
   "metadata": {},
   "outputs": [],
   "source": [
    "train  = pd.read_csv('C:\\\\Users\\\\yunting\\\\Documents\\\\GitHub\\\\E.sun_conpetition\\\\data_set\\\\initial\\\\train.csv')\n",
    "#test = pd.read_csv('C:\\\\Users\\\\yunting\\\\Documents\\\\GitHub\\\\E.sun_conpetition\\\\data_set\\\\initial\\\\test.csv')"
   ]
  },
  {
   "cell_type": "code",
   "execution_count": 3,
   "metadata": {},
   "outputs": [
    {
     "data": {
      "text/plain": [
       "['parking_area', 'txn_floor', 'parking_price', 'village_income_median']"
      ]
     },
     "execution_count": 3,
     "metadata": {},
     "output_type": "execute_result"
    }
   ],
   "source": [
    "train_col = train.columns.tolist()\n",
    "train_nona = train.dropna(axis = 1).columns.tolist()\n",
    "train_na = list(set(train_col) - set(train_nona)) #set no tolist()\n",
    "train_na"
   ]
  },
  {
   "cell_type": "code",
   "execution_count": 7,
   "metadata": {},
   "outputs": [
    {
     "data": {
      "text/html": [
       "<div>\n",
       "<style scoped>\n",
       "    .dataframe tbody tr th:only-of-type {\n",
       "        vertical-align: middle;\n",
       "    }\n",
       "\n",
       "    .dataframe tbody tr th {\n",
       "        vertical-align: top;\n",
       "    }\n",
       "\n",
       "    .dataframe thead th {\n",
       "        text-align: right;\n",
       "    }\n",
       "</style>\n",
       "<table border=\"1\" class=\"dataframe\">\n",
       "  <thead>\n",
       "    <tr style=\"text-align: right;\">\n",
       "      <th></th>\n",
       "      <th>parking_area</th>\n",
       "      <th>txn_floor</th>\n",
       "      <th>parking_price</th>\n",
       "      <th>village_income_median</th>\n",
       "    </tr>\n",
       "  </thead>\n",
       "  <tbody>\n",
       "    <tr>\n",
       "      <th>count</th>\n",
       "      <td>3103.000000</td>\n",
       "      <td>44098.000000</td>\n",
       "      <td>1.393500e+04</td>\n",
       "      <td>58858.000000</td>\n",
       "    </tr>\n",
       "    <tr>\n",
       "      <th>mean</th>\n",
       "      <td>7.211837</td>\n",
       "      <td>5.389269</td>\n",
       "      <td>5.025058e+04</td>\n",
       "      <td>674.840175</td>\n",
       "    </tr>\n",
       "    <tr>\n",
       "      <th>std</th>\n",
       "      <td>20.453902</td>\n",
       "      <td>3.944618</td>\n",
       "      <td>3.973488e+04</td>\n",
       "      <td>140.653083</td>\n",
       "    </tr>\n",
       "    <tr>\n",
       "      <th>min</th>\n",
       "      <td>0.000000</td>\n",
       "      <td>1.000000</td>\n",
       "      <td>0.000000e+00</td>\n",
       "      <td>411.000000</td>\n",
       "    </tr>\n",
       "    <tr>\n",
       "      <th>25%</th>\n",
       "      <td>3.738412</td>\n",
       "      <td>3.000000</td>\n",
       "      <td>2.827238e+04</td>\n",
       "      <td>583.000000</td>\n",
       "    </tr>\n",
       "    <tr>\n",
       "      <th>50%</th>\n",
       "      <td>5.758023</td>\n",
       "      <td>4.000000</td>\n",
       "      <td>4.379195e+04</td>\n",
       "      <td>642.000000</td>\n",
       "    </tr>\n",
       "    <tr>\n",
       "      <th>75%</th>\n",
       "      <td>7.180619</td>\n",
       "      <td>7.000000</td>\n",
       "      <td>6.148857e+04</td>\n",
       "      <td>729.000000</td>\n",
       "    </tr>\n",
       "    <tr>\n",
       "      <th>max</th>\n",
       "      <td>967.370868</td>\n",
       "      <td>28.000000</td>\n",
       "      <td>1.020404e+06</td>\n",
       "      <td>1851.000000</td>\n",
       "    </tr>\n",
       "  </tbody>\n",
       "</table>\n",
       "</div>"
      ],
      "text/plain": [
       "       parking_area     txn_floor  parking_price  village_income_median\n",
       "count   3103.000000  44098.000000   1.393500e+04           58858.000000\n",
       "mean       7.211837      5.389269   5.025058e+04             674.840175\n",
       "std       20.453902      3.944618   3.973488e+04             140.653083\n",
       "min        0.000000      1.000000   0.000000e+00             411.000000\n",
       "25%        3.738412      3.000000   2.827238e+04             583.000000\n",
       "50%        5.758023      4.000000   4.379195e+04             642.000000\n",
       "75%        7.180619      7.000000   6.148857e+04             729.000000\n",
       "max      967.370868     28.000000   1.020404e+06            1851.000000"
      ]
     },
     "execution_count": 7,
     "metadata": {},
     "output_type": "execute_result"
    }
   ],
   "source": [
    "train[train_na].describe()"
   ]
  },
  {
   "cell_type": "code",
   "execution_count": 8,
   "metadata": {},
   "outputs": [],
   "source": [
    "train['parking_area'].fillna(0, inplace = True)\n",
    "train['parking_price'].fillna(0, inplace = True)\n",
    "train['village_income_median'].fillna(train['village_income_median'].median(), inplace = True)"
   ]
  },
  {
   "cell_type": "code",
   "execution_count": 9,
   "metadata": {},
   "outputs": [
    {
     "data": {
      "text/html": [
       "<div>\n",
       "<style scoped>\n",
       "    .dataframe tbody tr th:only-of-type {\n",
       "        vertical-align: middle;\n",
       "    }\n",
       "\n",
       "    .dataframe tbody tr th {\n",
       "        vertical-align: top;\n",
       "    }\n",
       "\n",
       "    .dataframe thead th {\n",
       "        text-align: right;\n",
       "    }\n",
       "</style>\n",
       "<table border=\"1\" class=\"dataframe\">\n",
       "  <thead>\n",
       "    <tr style=\"text-align: right;\">\n",
       "      <th></th>\n",
       "      <th>parking_area</th>\n",
       "      <th>txn_floor</th>\n",
       "      <th>parking_price</th>\n",
       "      <th>village_income_median</th>\n",
       "    </tr>\n",
       "  </thead>\n",
       "  <tbody>\n",
       "    <tr>\n",
       "      <th>count</th>\n",
       "      <td>60000.000000</td>\n",
       "      <td>44098.000000</td>\n",
       "      <td>6.000000e+04</td>\n",
       "      <td>60000.000000</td>\n",
       "    </tr>\n",
       "    <tr>\n",
       "      <th>mean</th>\n",
       "      <td>0.372972</td>\n",
       "      <td>5.389269</td>\n",
       "      <td>1.167070e+04</td>\n",
       "      <td>674.215117</td>\n",
       "    </tr>\n",
       "    <tr>\n",
       "      <th>std</th>\n",
       "      <td>4.917360</td>\n",
       "      <td>3.944618</td>\n",
       "      <td>2.858202e+04</td>\n",
       "      <td>139.380337</td>\n",
       "    </tr>\n",
       "    <tr>\n",
       "      <th>min</th>\n",
       "      <td>0.000000</td>\n",
       "      <td>1.000000</td>\n",
       "      <td>0.000000e+00</td>\n",
       "      <td>411.000000</td>\n",
       "    </tr>\n",
       "    <tr>\n",
       "      <th>25%</th>\n",
       "      <td>0.000000</td>\n",
       "      <td>3.000000</td>\n",
       "      <td>0.000000e+00</td>\n",
       "      <td>584.000000</td>\n",
       "    </tr>\n",
       "    <tr>\n",
       "      <th>50%</th>\n",
       "      <td>0.000000</td>\n",
       "      <td>4.000000</td>\n",
       "      <td>0.000000e+00</td>\n",
       "      <td>642.000000</td>\n",
       "    </tr>\n",
       "    <tr>\n",
       "      <th>75%</th>\n",
       "      <td>0.000000</td>\n",
       "      <td>7.000000</td>\n",
       "      <td>0.000000e+00</td>\n",
       "      <td>728.000000</td>\n",
       "    </tr>\n",
       "    <tr>\n",
       "      <th>max</th>\n",
       "      <td>967.370868</td>\n",
       "      <td>28.000000</td>\n",
       "      <td>1.020404e+06</td>\n",
       "      <td>1851.000000</td>\n",
       "    </tr>\n",
       "  </tbody>\n",
       "</table>\n",
       "</div>"
      ],
      "text/plain": [
       "       parking_area     txn_floor  parking_price  village_income_median\n",
       "count  60000.000000  44098.000000   6.000000e+04           60000.000000\n",
       "mean       0.372972      5.389269   1.167070e+04             674.215117\n",
       "std        4.917360      3.944618   2.858202e+04             139.380337\n",
       "min        0.000000      1.000000   0.000000e+00             411.000000\n",
       "25%        0.000000      3.000000   0.000000e+00             584.000000\n",
       "50%        0.000000      4.000000   0.000000e+00             642.000000\n",
       "75%        0.000000      7.000000   0.000000e+00             728.000000\n",
       "max      967.370868     28.000000   1.020404e+06            1851.000000"
      ]
     },
     "execution_count": 9,
     "metadata": {},
     "output_type": "execute_result"
    }
   ],
   "source": [
    "train[train_na].describe()"
   ]
  },
  {
   "cell_type": "code",
   "execution_count": 10,
   "metadata": {},
   "outputs": [],
   "source": [
    "train['txn_floor'].fillna('No_Value', inplace = True)"
   ]
  },
  {
   "cell_type": "code",
   "execution_count": 11,
   "metadata": {},
   "outputs": [
    {
     "data": {
      "text/html": [
       "<div>\n",
       "<style scoped>\n",
       "    .dataframe tbody tr th:only-of-type {\n",
       "        vertical-align: middle;\n",
       "    }\n",
       "\n",
       "    .dataframe tbody tr th {\n",
       "        vertical-align: top;\n",
       "    }\n",
       "\n",
       "    .dataframe thead th {\n",
       "        text-align: right;\n",
       "    }\n",
       "</style>\n",
       "<table border=\"1\" class=\"dataframe\">\n",
       "  <thead>\n",
       "    <tr style=\"text-align: right;\">\n",
       "      <th></th>\n",
       "      <th>parking_area</th>\n",
       "      <th>txn_floor</th>\n",
       "      <th>parking_price</th>\n",
       "      <th>village_income_median</th>\n",
       "    </tr>\n",
       "  </thead>\n",
       "  <tbody>\n",
       "    <tr>\n",
       "      <th>0</th>\n",
       "      <td>0.0</td>\n",
       "      <td>3</td>\n",
       "      <td>0.000000</td>\n",
       "      <td>572.0</td>\n",
       "    </tr>\n",
       "    <tr>\n",
       "      <th>1</th>\n",
       "      <td>0.0</td>\n",
       "      <td>5</td>\n",
       "      <td>0.000000</td>\n",
       "      <td>550.0</td>\n",
       "    </tr>\n",
       "    <tr>\n",
       "      <th>2</th>\n",
       "      <td>0.0</td>\n",
       "      <td>1</td>\n",
       "      <td>0.000000</td>\n",
       "      <td>625.0</td>\n",
       "    </tr>\n",
       "    <tr>\n",
       "      <th>3</th>\n",
       "      <td>0.0</td>\n",
       "      <td>13</td>\n",
       "      <td>81138.889762</td>\n",
       "      <td>950.0</td>\n",
       "    </tr>\n",
       "    <tr>\n",
       "      <th>4</th>\n",
       "      <td>0.0</td>\n",
       "      <td>No_Value</td>\n",
       "      <td>0.000000</td>\n",
       "      <td>536.0</td>\n",
       "    </tr>\n",
       "  </tbody>\n",
       "</table>\n",
       "</div>"
      ],
      "text/plain": [
       "   parking_area txn_floor  parking_price  village_income_median\n",
       "0           0.0         3       0.000000                  572.0\n",
       "1           0.0         5       0.000000                  550.0\n",
       "2           0.0         1       0.000000                  625.0\n",
       "3           0.0        13   81138.889762                  950.0\n",
       "4           0.0  No_Value       0.000000                  536.0"
      ]
     },
     "execution_count": 11,
     "metadata": {},
     "output_type": "execute_result"
    }
   ],
   "source": [
    "train[train_na].head()"
   ]
  },
  {
   "cell_type": "markdown",
   "metadata": {},
   "source": [
    "# ohe"
   ]
  },
  {
   "cell_type": "code",
   "execution_count": 12,
   "metadata": {},
   "outputs": [],
   "source": [
    "train_dummy_list = ['building_material','city','building_type','building_use','parking_way','town','village', 'txn_floor']"
   ]
  },
  {
   "cell_type": "code",
   "execution_count": 13,
   "metadata": {},
   "outputs": [
    {
     "data": {
      "text/plain": [
       "Index(['building_id', 'building_material', 'city', 'txn_dt', 'total_floor',\n",
       "       'building_type', 'building_use', 'building_complete_dt', 'parking_way',\n",
       "       'parking_area',\n",
       "       ...\n",
       "       'XIV_500', 'XIV_index_500', 'XIV_1000', 'XIV_index_1000', 'XIV_5000',\n",
       "       'XIV_index_5000', 'XIV_10000', 'XIV_index_10000', 'XIV_MIN',\n",
       "       'total_price'],\n",
       "      dtype='object', length=235)"
      ]
     },
     "execution_count": 13,
     "metadata": {},
     "output_type": "execute_result"
    }
   ],
   "source": [
    "train.columns"
   ]
  },
  {
   "cell_type": "code",
   "execution_count": 14,
   "metadata": {
    "scrolled": true
   },
   "outputs": [],
   "source": [
    "train = pd.concat([train] + [pd.get_dummies(train[s], prefix=s) for s in train_dummy_list], axis=1)"
   ]
  },
  {
   "cell_type": "code",
   "execution_count": 15,
   "metadata": {},
   "outputs": [
    {
     "data": {
      "text/plain": [
       "Index(['building_id', 'building_material', 'city', 'txn_dt', 'total_floor',\n",
       "       'building_type', 'building_use', 'building_complete_dt', 'parking_way',\n",
       "       'parking_area',\n",
       "       ...\n",
       "       'txn_floor_20.0', 'txn_floor_21.0', 'txn_floor_22.0', 'txn_floor_23.0',\n",
       "       'txn_floor_24.0', 'txn_floor_25.0', 'txn_floor_26.0', 'txn_floor_27.0',\n",
       "       'txn_floor_28.0', 'txn_floor_No_Value'],\n",
       "      dtype='object', length=3414)"
      ]
     },
     "execution_count": 15,
     "metadata": {},
     "output_type": "execute_result"
    }
   ],
   "source": [
    "train.columns"
   ]
  },
  {
   "cell_type": "code",
   "execution_count": 16,
   "metadata": {},
   "outputs": [
    {
     "data": {
      "text/plain": [
       "(60000, 3414)"
      ]
     },
     "execution_count": 16,
     "metadata": {},
     "output_type": "execute_result"
    }
   ],
   "source": [
    "train.shape"
   ]
  },
  {
   "cell_type": "code",
   "execution_count": 17,
   "metadata": {},
   "outputs": [],
   "source": [
    "train = train.drop(train[train_dummy_list], axis=1)"
   ]
  },
  {
   "cell_type": "code",
   "execution_count": 18,
   "metadata": {},
   "outputs": [
    {
     "data": {
      "text/plain": [
       "(60000, 3406)"
      ]
     },
     "execution_count": 18,
     "metadata": {},
     "output_type": "execute_result"
    }
   ],
   "source": [
    "train.shape"
   ]
  },
  {
   "cell_type": "code",
   "execution_count": 19,
   "metadata": {},
   "outputs": [],
   "source": [
    "y = train['total_price']\n",
    "train = train.drop(['total_price'],  axis=1)\n",
    "train = train.drop(['building_id'], axis = 1)"
   ]
  },
  {
   "cell_type": "code",
   "execution_count": 20,
   "metadata": {},
   "outputs": [
    {
     "data": {
      "text/plain": [
       "(60000, 3404)"
      ]
     },
     "execution_count": 20,
     "metadata": {},
     "output_type": "execute_result"
    }
   ],
   "source": [
    "train.shape"
   ]
  },
  {
   "cell_type": "code",
   "execution_count": 21,
   "metadata": {},
   "outputs": [
    {
     "data": {
      "text/plain": [
       "(60000,)"
      ]
     },
     "execution_count": 21,
     "metadata": {},
     "output_type": "execute_result"
    }
   ],
   "source": [
    "y.shape"
   ]
  },
  {
   "cell_type": "markdown",
   "metadata": {},
   "source": [
    "# training"
   ]
  },
  {
   "cell_type": "code",
   "execution_count": 22,
   "metadata": {},
   "outputs": [],
   "source": [
    "from sklearn.model_selection import cross_val_score, train_test_split\n",
    "from sklearn.tree import DecisionTreeRegressor"
   ]
  },
  {
   "cell_type": "code",
   "execution_count": 23,
   "metadata": {},
   "outputs": [],
   "source": [
    "trainX, testX, trainy, testy = train_test_split(train, y, test_size=0.3)"
   ]
  },
  {
   "cell_type": "code",
   "execution_count": 31,
   "metadata": {},
   "outputs": [],
   "source": [
    "treereg = DecisionTreeRegressor()\n",
    "cvlist = list(cross_val_score(treereg, trainX, trainy, cv=10, n_jobs=-1))"
   ]
  },
  {
   "cell_type": "code",
   "execution_count": 32,
   "metadata": {},
   "outputs": [
    {
     "name": "stdout",
     "output_type": "stream",
     "text": [
      "cvlist [0.5978482776483611, 0.8990809318227134, 0.6969055031305822, 0.10303610076299252, 0.6874902897998114, 0.8292362589150727, 0.8647084963872347, 0.33288930589913035, 0.26508788879412937, 0.6254214422514912]\n",
      "平均: 0.5901704495411518\n",
      "變異數: 0.0659286522880424\n"
     ]
    }
   ],
   "source": [
    "print('cvlist', cvlist)\n",
    "print('平均:', np.mean(cvlist))\n",
    "print('變異數:', np.var(cvlist))"
   ]
  },
  {
   "cell_type": "code",
   "execution_count": null,
   "metadata": {},
   "outputs": [],
   "source": []
  }
 ],
 "metadata": {
  "kernelspec": {
   "display_name": "Python 3",
   "language": "python",
   "name": "python3"
  },
  "language_info": {
   "codemirror_mode": {
    "name": "ipython",
    "version": 3
   },
   "file_extension": ".py",
   "mimetype": "text/x-python",
   "name": "python",
   "nbconvert_exporter": "python",
   "pygments_lexer": "ipython3",
   "version": "3.7.1"
  }
 },
 "nbformat": 4,
 "nbformat_minor": 2
}

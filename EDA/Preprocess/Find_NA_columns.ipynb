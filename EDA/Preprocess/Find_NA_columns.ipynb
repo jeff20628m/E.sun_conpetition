{
 "cells": [
  {
   "cell_type": "markdown",
   "metadata": {},
   "source": [
    "import numpy as np\n",
    "import pandas as pd\n",
    "import matplotlib.pyplot as plt\n",
    "import plotly \n",
    "#plotly.tools.set_credentials_file(username='jeff20628m', api_key='dGTlRhRtyDCAfsfoOE0u')"
   ]
  },
  {
   "cell_type": "code",
   "execution_count": 2,
   "metadata": {},
   "outputs": [],
   "source": [
    "## Load data from dataset\n",
    "\n",
    "\n",
    "data = pd.read_csv('C:\\\\Users\\\\USER\\\\github\\\\E.sun_conpetition\\\\data_set\\\\train.csv')"
   ]
  },
  {
   "cell_type": "code",
   "execution_count": 3,
   "metadata": {},
   "outputs": [
    {
     "data": {
      "text/html": [
       "<div>\n",
       "<style scoped>\n",
       "    .dataframe tbody tr th:only-of-type {\n",
       "        vertical-align: middle;\n",
       "    }\n",
       "\n",
       "    .dataframe tbody tr th {\n",
       "        vertical-align: top;\n",
       "    }\n",
       "\n",
       "    .dataframe thead th {\n",
       "        text-align: right;\n",
       "    }\n",
       "</style>\n",
       "<table border=\"1\" class=\"dataframe\">\n",
       "  <thead>\n",
       "    <tr style=\"text-align: right;\">\n",
       "      <th></th>\n",
       "      <th>building_id</th>\n",
       "      <th>building_material</th>\n",
       "      <th>city</th>\n",
       "      <th>txn_dt</th>\n",
       "      <th>total_floor</th>\n",
       "      <th>building_type</th>\n",
       "      <th>building_use</th>\n",
       "      <th>building_complete_dt</th>\n",
       "      <th>parking_way</th>\n",
       "      <th>parking_area</th>\n",
       "      <th>...</th>\n",
       "      <th>XIV_500</th>\n",
       "      <th>XIV_index_500</th>\n",
       "      <th>XIV_1000</th>\n",
       "      <th>XIV_index_1000</th>\n",
       "      <th>XIV_5000</th>\n",
       "      <th>XIV_index_5000</th>\n",
       "      <th>XIV_10000</th>\n",
       "      <th>XIV_index_10000</th>\n",
       "      <th>XIV_MIN</th>\n",
       "      <th>total_price</th>\n",
       "    </tr>\n",
       "  </thead>\n",
       "  <tbody>\n",
       "    <tr>\n",
       "      <th>0</th>\n",
       "      <td>e3mMIMR3JJqCaXz1</td>\n",
       "      <td>8</td>\n",
       "      <td>21</td>\n",
       "      <td>18674</td>\n",
       "      <td>4</td>\n",
       "      <td>3</td>\n",
       "      <td>2</td>\n",
       "      <td>6271</td>\n",
       "      <td>2</td>\n",
       "      <td>NaN</td>\n",
       "      <td>...</td>\n",
       "      <td>58</td>\n",
       "      <td>1</td>\n",
       "      <td>157</td>\n",
       "      <td>1</td>\n",
       "      <td>2483</td>\n",
       "      <td>1</td>\n",
       "      <td>6011</td>\n",
       "      <td>1</td>\n",
       "      <td>34.469803</td>\n",
       "      <td>6.476038e+05</td>\n",
       "    </tr>\n",
       "    <tr>\n",
       "      <th>1</th>\n",
       "      <td>LgwzgklNvy4QCtq5</td>\n",
       "      <td>8</td>\n",
       "      <td>7</td>\n",
       "      <td>18800</td>\n",
       "      <td>5</td>\n",
       "      <td>1</td>\n",
       "      <td>2</td>\n",
       "      <td>7885</td>\n",
       "      <td>2</td>\n",
       "      <td>NaN</td>\n",
       "      <td>...</td>\n",
       "      <td>28</td>\n",
       "      <td>1</td>\n",
       "      <td>115</td>\n",
       "      <td>1</td>\n",
       "      <td>15872</td>\n",
       "      <td>1</td>\n",
       "      <td>32221</td>\n",
       "      <td>1</td>\n",
       "      <td>40.073573</td>\n",
       "      <td>3.321452e+06</td>\n",
       "    </tr>\n",
       "    <tr>\n",
       "      <th>2</th>\n",
       "      <td>ucIR2NLLsC3T650L</td>\n",
       "      <td>8</td>\n",
       "      <td>7</td>\n",
       "      <td>19289</td>\n",
       "      <td>4</td>\n",
       "      <td>1</td>\n",
       "      <td>2</td>\n",
       "      <td>6028</td>\n",
       "      <td>2</td>\n",
       "      <td>NaN</td>\n",
       "      <td>...</td>\n",
       "      <td>78</td>\n",
       "      <td>1</td>\n",
       "      <td>212</td>\n",
       "      <td>1</td>\n",
       "      <td>15760</td>\n",
       "      <td>1</td>\n",
       "      <td>32228</td>\n",
       "      <td>1</td>\n",
       "      <td>54.462081</td>\n",
       "      <td>9.570885e+06</td>\n",
       "    </tr>\n",
       "    <tr>\n",
       "      <th>3</th>\n",
       "      <td>jre1pJhcQj91Kdky</td>\n",
       "      <td>8</td>\n",
       "      <td>21</td>\n",
       "      <td>20385</td>\n",
       "      <td>24</td>\n",
       "      <td>0</td>\n",
       "      <td>2</td>\n",
       "      <td>18325</td>\n",
       "      <td>0</td>\n",
       "      <td>NaN</td>\n",
       "      <td>...</td>\n",
       "      <td>20</td>\n",
       "      <td>1</td>\n",
       "      <td>125</td>\n",
       "      <td>1</td>\n",
       "      <td>2568</td>\n",
       "      <td>1</td>\n",
       "      <td>7271</td>\n",
       "      <td>1</td>\n",
       "      <td>99.628966</td>\n",
       "      <td>1.421501e+07</td>\n",
       "    </tr>\n",
       "    <tr>\n",
       "      <th>4</th>\n",
       "      <td>rQpYpY9nRG7X5mmr</td>\n",
       "      <td>1</td>\n",
       "      <td>21</td>\n",
       "      <td>20657</td>\n",
       "      <td>2</td>\n",
       "      <td>4</td>\n",
       "      <td>2</td>\n",
       "      <td>6880</td>\n",
       "      <td>2</td>\n",
       "      <td>NaN</td>\n",
       "      <td>...</td>\n",
       "      <td>18</td>\n",
       "      <td>1</td>\n",
       "      <td>47</td>\n",
       "      <td>1</td>\n",
       "      <td>2587</td>\n",
       "      <td>1</td>\n",
       "      <td>7442</td>\n",
       "      <td>1</td>\n",
       "      <td>124.131236</td>\n",
       "      <td>7.627120e+05</td>\n",
       "    </tr>\n",
       "  </tbody>\n",
       "</table>\n",
       "<p>5 rows × 235 columns</p>\n",
       "</div>"
      ],
      "text/plain": [
       "        building_id  building_material  city  txn_dt  total_floor  \\\n",
       "0  e3mMIMR3JJqCaXz1                  8    21   18674            4   \n",
       "1  LgwzgklNvy4QCtq5                  8     7   18800            5   \n",
       "2  ucIR2NLLsC3T650L                  8     7   19289            4   \n",
       "3  jre1pJhcQj91Kdky                  8    21   20385           24   \n",
       "4  rQpYpY9nRG7X5mmr                  1    21   20657            2   \n",
       "\n",
       "   building_type  building_use  building_complete_dt  parking_way  \\\n",
       "0              3             2                  6271            2   \n",
       "1              1             2                  7885            2   \n",
       "2              1             2                  6028            2   \n",
       "3              0             2                 18325            0   \n",
       "4              4             2                  6880            2   \n",
       "\n",
       "   parking_area  ...  XIV_500  XIV_index_500  XIV_1000  XIV_index_1000  \\\n",
       "0           NaN  ...       58              1       157               1   \n",
       "1           NaN  ...       28              1       115               1   \n",
       "2           NaN  ...       78              1       212               1   \n",
       "3           NaN  ...       20              1       125               1   \n",
       "4           NaN  ...       18              1        47               1   \n",
       "\n",
       "   XIV_5000  XIV_index_5000  XIV_10000  XIV_index_10000     XIV_MIN  \\\n",
       "0      2483               1       6011                1   34.469803   \n",
       "1     15872               1      32221                1   40.073573   \n",
       "2     15760               1      32228                1   54.462081   \n",
       "3      2568               1       7271                1   99.628966   \n",
       "4      2587               1       7442                1  124.131236   \n",
       "\n",
       "    total_price  \n",
       "0  6.476038e+05  \n",
       "1  3.321452e+06  \n",
       "2  9.570885e+06  \n",
       "3  1.421501e+07  \n",
       "4  7.627120e+05  \n",
       "\n",
       "[5 rows x 235 columns]"
      ]
     },
     "execution_count": 3,
     "metadata": {},
     "output_type": "execute_result"
    }
   ],
   "source": [
    "## check the data type\n",
    "\n",
    "data.head()"
   ]
  },
  {
   "cell_type": "code",
   "execution_count": 4,
   "metadata": {},
   "outputs": [
    {
     "data": {
      "text/plain": [
       "235"
      ]
     },
     "execution_count": 4,
     "metadata": {},
     "output_type": "execute_result"
    }
   ],
   "source": [
    "## collect all columns names to a list\n",
    "columnslist = data.columns.tolist()\n",
    "\n",
    "## check the len is right (same as data)\n",
    "\n",
    "len(columnslist)"
   ]
  },
  {
   "cell_type": "markdown",
   "metadata": {},
   "source": [
    "### Find nan columns"
   ]
  },
  {
   "cell_type": "code",
   "execution_count": 5,
   "metadata": {},
   "outputs": [],
   "source": [
    "isnalist = []\n",
    "for i in range (235) :\n",
    "    isnalist.append(pd.unique(pd.isna(data[columnslist[i]])))"
   ]
  },
  {
   "cell_type": "markdown",
   "metadata": {},
   "source": [
    "### Check the data"
   ]
  },
  {
   "cell_type": "code",
   "execution_count": 8,
   "metadata": {},
   "outputs": [
    {
     "data": {
      "text/plain": [
       "[array([False]),\n",
       " array([False]),\n",
       " array([False]),\n",
       " array([False]),\n",
       " array([False]),\n",
       " array([False]),\n",
       " array([False]),\n",
       " array([False]),\n",
       " array([False]),\n",
       " array([ True, False]),\n",
       " array([ True, False]),\n",
       " array([False,  True]),\n",
       " array([False]),\n",
       " array([False]),\n",
       " array([False])]"
      ]
     },
     "execution_count": 8,
     "metadata": {},
     "output_type": "execute_result"
    }
   ],
   "source": [
    "isnalist[:15]"
   ]
  },
  {
   "cell_type": "markdown",
   "metadata": {},
   "source": [
    "### 如果columns 內具有缺失值 則會顯示包含True"
   ]
  },
  {
   "cell_type": "markdown",
   "metadata": {},
   "source": [
    "### 找出缺失值的位置"
   ]
  },
  {
   "cell_type": "code",
   "execution_count": 9,
   "metadata": {},
   "outputs": [],
   "source": [
    "position = []\n",
    "count = 0\n",
    "for i in isnalist :\n",
    "    if True in i :\n",
    "        position.append(count)\n",
    "    count += 1"
   ]
  },
  {
   "cell_type": "code",
   "execution_count": 10,
   "metadata": {},
   "outputs": [
    {
     "data": {
      "text/plain": [
       "[9, 10, 11, 17]"
      ]
     },
     "execution_count": 10,
     "metadata": {},
     "output_type": "execute_result"
    }
   ],
   "source": [
    "position"
   ]
  },
  {
   "cell_type": "markdown",
   "metadata": {},
   "source": [
    "### columns [ 9 ,10 , 11 , 17 ] 中包含缺失值 \n",
    "\n",
    "### 可以查看columns的屬性並且觀看其填補缺失值方式"
   ]
  },
  {
   "cell_type": "code",
   "execution_count": 11,
   "metadata": {},
   "outputs": [
    {
     "name": "stdout",
     "output_type": "stream",
     "text": [
      "parking_area\n",
      "parking_price\n",
      "txn_floor\n",
      "village_income_median\n"
     ]
    }
   ],
   "source": [
    "print(columnslist[9])\n",
    "print(columnslist[10])\n",
    "print(columnslist[11])\n",
    "print(columnslist[17])"
   ]
  },
  {
   "cell_type": "code",
   "execution_count": 16,
   "metadata": {},
   "outputs": [
    {
     "data": {
      "image/png": "[encoded data removed]",
      "text/plain": [
       "<Figure size 432x288 with 1 Axes>"
      ]
     },
     "metadata": {
      "needs_background": "light"
     },
     "output_type": "display_data"
    }
   ],
   "source": [
    "plt.hist(data['village_income_median'])\n",
    "plt.title(columnslist[17])\n",
    "plt.savefig(\"village_income_median_na_hist.png\")"
   ]
  },
  {
   "cell_type": "code",
   "execution_count": 17,
   "metadata": {},
   "outputs": [
    {
     "data": {
      "image/png": "[encoded data removed]",
      "text/plain": [
       "<Figure size 432x288 with 1 Axes>"
      ]
     },
     "metadata": {
      "needs_background": "light"
     },
     "output_type": "display_data"
    }
   ],
   "source": [
    "plt.hist(data['txn_floor'])\n",
    "plt.title(columnslist[11])\n",
    "plt.savefig(\"txn_floor_na_hist.png\")"
   ]
  },
  {
   "cell_type": "code",
   "execution_count": 18,
   "metadata": {},
   "outputs": [
    {
     "data": {
      "image/png": "[encoded data removed]",
      "text/plain": [
       "<Figure size 432x288 with 1 Axes>"
      ]
     },
     "metadata": {
      "needs_background": "light"
     },
     "output_type": "display_data"
    }
   ],
   "source": [
    "plt.hist(data['parking_price'])\n",
    "plt.title(columnslist[10])\n",
    "plt.savefig(\"parking_price_na_hist.png\")"
   ]
  },
  {
   "cell_type": "code",
   "execution_count": 19,
   "metadata": {},
   "outputs": [
    {
     "data": {
      "image/png": "[encoded data removed]",
      "text/plain": [
       "<Figure size 432x288 with 1 Axes>"
      ]
     },
     "metadata": {
      "needs_background": "light"
     },
     "output_type": "display_data"
    }
   ],
   "source": [
    "plt.hist(data['parking_area'])\n",
    "plt.title(columnslist[9])\n",
    "plt.savefig(\"parking_area_na_hist.png\")"
   ]
  },
  {
   "cell_type": "code",
   "execution_count": null,
   "metadata": {},
   "outputs": [],
   "source": []
  }
 ],
 "metadata": {
  "kernelspec": {
   "display_name": "Python 3",
   "language": "python",
   "name": "python3"
  },
  "language_info": {
   "codemirror_mode": {
    "name": "ipython",
    "version": 3
   },
   "file_extension": ".py",
   "mimetype": "text/x-python",
   "name": "python",
   "nbconvert_exporter": "python",
   "pygments_lexer": "ipython3",
   "version": "3.7.3"
  }
 },
 "nbformat": 4,
 "nbformat_minor": 2
}
